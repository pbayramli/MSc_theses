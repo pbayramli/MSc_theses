{
 "cells": [
  {
   "cell_type": "code",
   "execution_count": 20,
   "id": "49ff81d1",
   "metadata": {},
   "outputs": [],
   "source": [
    "import numpy as np\n",
    "import matplotlib.pyplot as plt\n",
    "import skimage as skimage\n",
    "import math\n",
    "%matplotlib inline\n",
    "from skimage import color\n",
    "import scipy.ndimage\n",
    "import scipy.stats\n",
    "import scipy.spatial.distance as dist\n",
    "import scipy.optimize\n",
    "from scipy.optimize import curve_fit\n",
    "import random\n",
    "import pickle\n",
    "from tqdm import tqdm\n",
    "import pandas as pd"
   ]
  },
  {
   "cell_type": "markdown",
   "id": "4137930a",
   "metadata": {},
   "source": [
    "### Data Generation\n",
    "Determination of data points along the desired already driven surface on the image"
   ]
  },
  {
   "cell_type": "code",
   "execution_count": 38,
   "id": "14868907",
   "metadata": {
    "scrolled": true
   },
   "outputs": [
    {
     "name": "stdout",
     "output_type": "stream",
     "text": [
      "Click Origin\n",
      "Click Top Right\n",
      "Draw the model, Right click to end\n"
     ]
    },
    {
     "name": "stderr",
     "output_type": "stream",
     "text": [
      "Unhandled exception in listener callback\n",
      "Traceback (most recent call last):\n",
      "  File \"C:\\Users\\pasha\\.conda\\envs\\gempy\\lib\\site-packages\\pynput\\_util\\win32.py\", line 380, in _handler\n",
      "    converted = self._convert(code, msg, lpdata)\n",
      "  File \"C:\\Users\\pasha\\.conda\\envs\\gempy\\lib\\site-packages\\pynput\\_util\\win32.py\", line 395, in _convert\n",
      "    raise NotImplementedError()\n",
      "NotImplementedError\n",
      "\n",
      "During handling of the above exception, another exception occurred:\n",
      "\n",
      "Traceback (most recent call last):\n",
      "  File \"C:\\Users\\pasha\\.conda\\envs\\gempy\\lib\\site-packages\\pynput\\_util\\__init__.py\", line 211, in inner\n",
      "    return f(self, *args, **kwargs)\n",
      "  File \"C:\\Users\\pasha\\.conda\\envs\\gempy\\lib\\site-packages\\pynput\\_util\\win32.py\", line 384, in _handler\n",
      "    self._handle(code, msg, lpdata)\n",
      "  File \"C:\\Users\\pasha\\.conda\\envs\\gempy\\lib\\site-packages\\pynput\\mouse\\_win32.py\", line 212, in _handle\n",
      "    self.on_click(data.pt.x, data.pt.y, button, pressed)\n",
      "  File \"C:\\Users\\pasha\\.conda\\envs\\gempy\\lib\\site-packages\\pynput\\_util\\__init__.py\", line 127, in inner\n",
      "    if f(*args) is False:\n",
      "  File \"<ipython-input-38-870fb57dcf66>\", line 24, in on_click\n",
      "    raise MyException(button)\n",
      "MyException: Button.right\n"
     ]
    },
    {
     "name": "stdout",
     "output_type": "stream",
     "text": [
      "Origin:     [129, 1216]\n",
      "Top Right:  [2184, 401]\n",
      "X: [134.0, 251.0, 417.0, 635.0, 908.0, 1068.0, 1270.0, 1462.0, 1575.0, 1471.0]\n",
      "Y: [1180.0, 1166.0, 1170.0, 1185.0, 1189.0, 1194.0, 1206.0, 1209.0, 1220.0, 1173.0]\n"
     ]
    }
   ],
   "source": [
    "from pynput import mouse\n",
    "\n",
    "class MyException(Exception):pass\n",
    "\n",
    "X = []\n",
    "Y = []\n",
    "NumberOfMouseClicks = 0\n",
    "print('Click Origin')\n",
    "\n",
    "def on_click(x, y, button, pressed):\n",
    "    button = str(button)\n",
    "    global NumberOfMouseClicks\n",
    "\n",
    "    NumberOfMouseClicks = NumberOfMouseClicks + 1\n",
    "    if NumberOfMouseClicks==1:\n",
    "        print('Click Top Right')  \n",
    "    if NumberOfMouseClicks==3:\n",
    "        print('Draw the model, Right click to end')\n",
    "        \n",
    "    X.append(x)\n",
    "    Y.append(y)\n",
    "\n",
    "    if button!='Button.left':\n",
    "        raise MyException(button)\n",
    "\n",
    "def main(X,Y):\n",
    "    with mouse.Listener(on_click=on_click) as listener:\n",
    "        try:\n",
    "            listener.join()\n",
    "        except MyException as e:\n",
    "            pass\n",
    "\n",
    "    # drop duplicates\n",
    "    X = X[::2]\n",
    "    Y = Y[::2]\n",
    "\n",
    "\n",
    "     # define scales from data\n",
    "    origin = [X[0],Y[0]]\n",
    "    topRight = [X[1],Y[1]]\n",
    "    XminScale = origin[0]\n",
    "    XmaxScale = topRight[0]\n",
    "    YminScale = origin[1]\n",
    "    YmaxScale = topRight[1]\n",
    "    \n",
    "    # input boundaries\n",
    "    Xmin = float(origin[0])\n",
    "    Xmax = float(topRight[0])\n",
    "    Ymin = float(origin[1])\n",
    "    Ymax = float(topRight[1])\n",
    "    \n",
    "    #Xmin = float(input('Input X-min: '))\n",
    "    #Xmax = float(input('Input X-max: '))\n",
    "    #Ymin = float(input('Input Y-min: '))\n",
    "    #Ymax = float(input('Input Y-max: '))\n",
    "\n",
    "    # drop extras\n",
    "    X = X[2:15]\n",
    "    Y = Y[2:15]\n",
    "\n",
    "\n",
    "    # scale\n",
    "    ## (old_value - old_min) / (old_max - old_min) * (new_max - new_min) + new_min\n",
    "    Xplot = [(i - XminScale) / (XmaxScale - XminScale) * (Xmax - Xmin) + Xmin for i in X]\n",
    "    Yplot = [(i - YminScale) / (YmaxScale - YminScale) * (Ymax - Ymin) + Ymin for i in Y]\n",
    "\n",
    "    # print outputs\n",
    "    print('Origin:     {}'.format([round(i, 2) for i in origin]))\n",
    "    print('Top Right:  {}'.format([round(i, 2) for i in topRight]))\n",
    "    print('X: {}'.format([round(i, 2) for i in Xplot]))\n",
    "    print('Y: {}'.format([round(i, 2) for i in Yplot]))\n",
    "    \n",
    "if __name__ == '__main__':\n",
    "    main(X,Y)"
   ]
  },
  {
   "cell_type": "markdown",
   "id": "175b3cdd",
   "metadata": {},
   "source": [
    "Saving the dummy data"
   ]
  },
  {
   "cell_type": "code",
   "execution_count": 40,
   "id": "354d200e",
   "metadata": {},
   "outputs": [],
   "source": [
    "data=(X[4:-1],Y[4:-1])\n",
    "scale_lims=(X[1:3],Y[1:3])\n",
    "with open(\"data/pointdata/point_data_base.txt\", \"wb\") as fp:   #Pickling\n",
    "    pickle.dump(data, fp)\n",
    "#with open(\"data/pointdata/point_data_scaling.txt\", \"wb\") as fp:\n",
    "    #pickle.dump(scale_lims,fp)"
   ]
  },
  {
   "cell_type": "markdown",
   "id": "ade7ae05",
   "metadata": {},
   "source": [
    "Loading the data and dropping the duplicates"
   ]
  },
  {
   "cell_type": "code",
   "execution_count": 41,
   "id": "9702f21a",
   "metadata": {},
   "outputs": [],
   "source": [
    "with open(\"data/pointdata/point_data_base.txt\", \"rb\") as fp:   # Unpickling\n",
    "    d = pickle.load(fp)\n",
    "with open(\"data/pointdata/point_data_scaling.txt\", \"rb\") as fp:   # Unpickling\n",
    "    s = pickle.load(fp)\n",
    "\n",
    "X=d[0]\n",
    "Y=d[1]\n",
    "X = X[::2]\n",
    "Y = Y[::2]\n",
    "X = X[0:-1]\n",
    "Y = Y[0:-1]"
   ]
  },
  {
   "cell_type": "markdown",
   "id": "899ff9c0",
   "metadata": {},
   "source": [
    "Getting the data in order - seperation of columns"
   ]
  },
  {
   "cell_type": "code",
   "execution_count": 42,
   "id": "8641d8bb",
   "metadata": {},
   "outputs": [],
   "source": [
    "n=len(X)\n",
    "new=[]\n",
    "for i in np.arange(0,n):\n",
    "    data=(X[i],Y[i])\n",
    "    new.append(data)"
   ]
  },
  {
   "cell_type": "code",
   "execution_count": 43,
   "id": "0eac04ee",
   "metadata": {},
   "outputs": [
    {
     "data": {
      "text/html": [
       "<div>\n",
       "<style scoped>\n",
       "    .dataframe tbody tr th:only-of-type {\n",
       "        vertical-align: middle;\n",
       "    }\n",
       "\n",
       "    .dataframe tbody tr th {\n",
       "        vertical-align: top;\n",
       "    }\n",
       "\n",
       "    .dataframe thead th {\n",
       "        text-align: right;\n",
       "    }\n",
       "</style>\n",
       "<table border=\"1\" class=\"dataframe\">\n",
       "  <thead>\n",
       "    <tr style=\"text-align: right;\">\n",
       "      <th></th>\n",
       "      <th>X</th>\n",
       "      <th>Z</th>\n",
       "    </tr>\n",
       "  </thead>\n",
       "  <tbody>\n",
       "    <tr>\n",
       "      <th>0</th>\n",
       "      <td>134</td>\n",
       "      <td>-1180</td>\n",
       "    </tr>\n",
       "    <tr>\n",
       "      <th>1</th>\n",
       "      <td>251</td>\n",
       "      <td>-1166</td>\n",
       "    </tr>\n",
       "    <tr>\n",
       "      <th>2</th>\n",
       "      <td>417</td>\n",
       "      <td>-1170</td>\n",
       "    </tr>\n",
       "    <tr>\n",
       "      <th>3</th>\n",
       "      <td>635</td>\n",
       "      <td>-1185</td>\n",
       "    </tr>\n",
       "    <tr>\n",
       "      <th>4</th>\n",
       "      <td>908</td>\n",
       "      <td>-1189</td>\n",
       "    </tr>\n",
       "    <tr>\n",
       "      <th>5</th>\n",
       "      <td>1068</td>\n",
       "      <td>-1194</td>\n",
       "    </tr>\n",
       "    <tr>\n",
       "      <th>6</th>\n",
       "      <td>1270</td>\n",
       "      <td>-1206</td>\n",
       "    </tr>\n",
       "    <tr>\n",
       "      <th>7</th>\n",
       "      <td>1462</td>\n",
       "      <td>-1209</td>\n",
       "    </tr>\n",
       "  </tbody>\n",
       "</table>\n",
       "</div>"
      ],
      "text/plain": [
       "      X     Z\n",
       "0   134 -1180\n",
       "1   251 -1166\n",
       "2   417 -1170\n",
       "3   635 -1185\n",
       "4   908 -1189\n",
       "5  1068 -1194\n",
       "6  1270 -1206\n",
       "7  1462 -1209"
      ]
     },
     "execution_count": 43,
     "metadata": {},
     "output_type": "execute_result"
    }
   ],
   "source": [
    "#\n",
    "df = pd.DataFrame(new, columns = ['X', 'Z'])\n",
    "df['Z']=df['Z']*-1\n",
    "\n",
    "\n",
    "#df=df.drop([109,110,111]) in case dropping some mistaken rows\n",
    "df"
   ]
  },
  {
   "cell_type": "markdown",
   "id": "6bb7f123",
   "metadata": {},
   "source": [
    "Checking the data by plotting the surface"
   ]
  },
  {
   "cell_type": "code",
   "execution_count": 44,
   "id": "87226877",
   "metadata": {},
   "outputs": [
    {
     "data": {
      "text/plain": [
       "[<matplotlib.lines.Line2D at 0x20101fe51c0>]"
      ]
     },
     "execution_count": 44,
     "metadata": {},
     "output_type": "execute_result"
    },
    {
     "data": {
      "image/png": "[encoded data removed]",
      "text/plain": [
       "<Figure size 432x288 with 1 Axes>"
      ]
     },
     "metadata": {
      "needs_background": "light"
     },
     "output_type": "display_data"
    }
   ],
   "source": [
    "#to check the 2D data whether it has some errors\n",
    "plt.title(\"Image of Digitized Model\")\n",
    "plt.plot(df.iloc[:,0], df.iloc[:,1])\n",
    "#plt.ylim(-1*s[0][0],-1*s[1][1])\n",
    "#plt.xlim(s[1][0],s[0][1])"
   ]
  },
  {
   "cell_type": "markdown",
   "id": "bc4f5157",
   "metadata": {},
   "source": [
    "### Additional Dimentions"
   ]
  },
  {
   "cell_type": "code",
   "execution_count": 46,
   "id": "3072ba3b",
   "metadata": {},
   "outputs": [
    {
     "data": {
      "text/html": [
       "<div>\n",
       "<style scoped>\n",
       "    .dataframe tbody tr th:only-of-type {\n",
       "        vertical-align: middle;\n",
       "    }\n",
       "\n",
       "    .dataframe tbody tr th {\n",
       "        vertical-align: top;\n",
       "    }\n",
       "\n",
       "    .dataframe thead th {\n",
       "        text-align: right;\n",
       "    }\n",
       "</style>\n",
       "<table border=\"1\" class=\"dataframe\">\n",
       "  <thead>\n",
       "    <tr style=\"text-align: right;\">\n",
       "      <th></th>\n",
       "      <th>X</th>\n",
       "      <th>Y</th>\n",
       "      <th>Z</th>\n",
       "      <th>formation</th>\n",
       "    </tr>\n",
       "  </thead>\n",
       "  <tbody>\n",
       "    <tr>\n",
       "      <th>0</th>\n",
       "      <td>134</td>\n",
       "      <td>0</td>\n",
       "      <td>-1180</td>\n",
       "      <td>basement</td>\n",
       "    </tr>\n",
       "    <tr>\n",
       "      <th>1</th>\n",
       "      <td>251</td>\n",
       "      <td>0</td>\n",
       "      <td>-1166</td>\n",
       "      <td>basement</td>\n",
       "    </tr>\n",
       "    <tr>\n",
       "      <th>2</th>\n",
       "      <td>417</td>\n",
       "      <td>0</td>\n",
       "      <td>-1170</td>\n",
       "      <td>basement</td>\n",
       "    </tr>\n",
       "    <tr>\n",
       "      <th>3</th>\n",
       "      <td>635</td>\n",
       "      <td>0</td>\n",
       "      <td>-1185</td>\n",
       "      <td>basement</td>\n",
       "    </tr>\n",
       "    <tr>\n",
       "      <th>4</th>\n",
       "      <td>908</td>\n",
       "      <td>0</td>\n",
       "      <td>-1189</td>\n",
       "      <td>basement</td>\n",
       "    </tr>\n",
       "    <tr>\n",
       "      <th>5</th>\n",
       "      <td>1068</td>\n",
       "      <td>0</td>\n",
       "      <td>-1194</td>\n",
       "      <td>basement</td>\n",
       "    </tr>\n",
       "    <tr>\n",
       "      <th>6</th>\n",
       "      <td>1270</td>\n",
       "      <td>0</td>\n",
       "      <td>-1206</td>\n",
       "      <td>basement</td>\n",
       "    </tr>\n",
       "    <tr>\n",
       "      <th>7</th>\n",
       "      <td>1462</td>\n",
       "      <td>0</td>\n",
       "      <td>-1209</td>\n",
       "      <td>basement</td>\n",
       "    </tr>\n",
       "  </tbody>\n",
       "</table>\n",
       "</div>"
      ],
      "text/plain": [
       "      X  Y     Z formation\n",
       "0   134  0 -1180  basement\n",
       "1   251  0 -1166  basement\n",
       "2   417  0 -1170  basement\n",
       "3   635  0 -1185  basement\n",
       "4   908  0 -1189  basement\n",
       "5  1068  0 -1194  basement\n",
       "6  1270  0 -1206  basement\n",
       "7  1462  0 -1209  basement"
      ]
     },
     "execution_count": 46,
     "metadata": {},
     "output_type": "execute_result"
    }
   ],
   "source": [
    "#add 3rd dimention\n",
    "df.loc[:, 'Y'] = '0'\n",
    "\n",
    "#add the surface name for the point data\n",
    "df.loc[:, 'formation'] = 'basement'\n",
    "#df.loc[4:9,'formation']='rock72'\n",
    "df=df[['X', 'Y', 'Z','formation']]\n",
    "df"
   ]
  },
  {
   "cell_type": "code",
   "execution_count": 47,
   "id": "9a7aec69",
   "metadata": {},
   "outputs": [],
   "source": [
    "#save the data at the end\n",
    "df.to_csv(r'data/pointdata/point_data_basement.csv', index = False)"
   ]
  },
  {
   "cell_type": "code",
   "execution_count": null,
   "id": "305374ec",
   "metadata": {},
   "outputs": [],
   "source": []
  }
 ],
 "metadata": {
  "kernelspec": {
   "display_name": "Python 3",
   "language": "python",
   "name": "python3"
  },
  "language_info": {
   "codemirror_mode": {
    "name": "ipython",
    "version": 3
   },
   "file_extension": ".py",
   "mimetype": "text/x-python",
   "name": "python",
   "nbconvert_exporter": "python",
   "pygments_lexer": "ipython3",
   "version": "3.8.8"
  }
 },
 "nbformat": 4,
 "nbformat_minor": 5
}
