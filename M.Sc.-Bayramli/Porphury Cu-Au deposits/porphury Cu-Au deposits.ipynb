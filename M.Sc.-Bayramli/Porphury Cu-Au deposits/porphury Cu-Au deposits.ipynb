{
 "cells": [
  {
   "cell_type": "markdown",
   "metadata": {},
   "source": [
    "Importing gempy\n",
    "\n"
   ]
  },
  {
   "cell_type": "code",
   "execution_count": 1,
   "metadata": {},
   "outputs": [
    {
     "name": "stderr",
     "output_type": "stream",
     "text": [
      "WARNING (theano.configdefaults): g++ not available, if using conda: `conda install m2w64-toolchain`\n",
      "C:\\Users\\pasha\\python\\lib\\site-packages\\theano\\configdefaults.py:560: UserWarning: DeprecationWarning: there is no c++ compiler.This is deprecated and with Theano 0.11 a c++ compiler will be mandatory\n",
      "  warnings.warn(\"DeprecationWarning: there is no c++ compiler.\"\n",
      "WARNING (theano.configdefaults): g++ not detected ! Theano will be unable to execute optimized C-implementations (for both CPU and GPU) and will default to Python implementations. Performance will be severely degraded. To remove this warning, set Theano flags cxx to an empty string.\n"
     ]
    },
    {
     "name": "stdout",
     "output_type": "stream",
     "text": [
      "No module named 'osgeo'\n"
     ]
    },
    {
     "name": "stderr",
     "output_type": "stream",
     "text": [
      "WARNING (theano.tensor.blas): Using NumPy C-API based implementation for BLAS functions.\n"
     ]
    }
   ],
   "source": [
    "# Aux imports\n",
    "import gempy as gp\n",
    "import numpy as np\n",
    "import pandas as pd\n",
    "import os\n",
    "import pickle\n",
    "import matplotlib.pyplot as plt\n",
    "import gstools as gs\n",
    "import pyvista as pv\n",
    "import pyvistaqt as pvqt\n",
    "import PVGeo\n",
    "import glob\n",
    "import random\n",
    "from tqdm import tqdm\n",
    "from numpy import cross, eye, dot\n",
    "from scipy.linalg import expm, norm\n",
    "from sklearn import preprocessing\n",
    "from pyvista import set_plot_theme\n",
    "np.random.seed(1515)\n",
    "pd.set_option('precision', 2)\n",
    "%matplotlib inline\n",
    "set_plot_theme('document')"
   ]
  },
  {
   "cell_type": "markdown",
   "metadata": {},
   "source": [
    "We import a model from an existing folder, representing a subduction\n",
    "zone with onlap relationships. The theano function is automatically\n",
    "recombined to allow changes.\n",
    "\n",
    "\n"
   ]
  },
  {
   "cell_type": "code",
   "execution_count": 16,
   "metadata": {},
   "outputs": [
    {
     "name": "stdout",
     "output_type": "stream",
     "text": [
      " mesh size: 125000\n"
     ]
    }
   ],
   "source": [
    "#define resolution and mesh size\n",
    "reso=[50, 50, 50]\n",
    "mesh_size = reso[0]*reso[1]*reso[2]\n",
    "extent=[0, 1494, 0, 1000, -1119, 0]\n",
    "print(' mesh size: ' + str(mesh_size))"
   ]
  },
  {
   "cell_type": "code",
   "execution_count": 17,
   "metadata": {
    "scrolled": true
   },
   "outputs": [
    {
     "name": "stdout",
     "output_type": "stream",
     "text": [
      "Active grids: ['regular']\n"
     ]
    },
    {
     "data": {
      "text/html": [
       "<style  type=\"text/css\" >\n",
       "#T_33671_row0_col3{\n",
       "            background-color:  #9f0052;\n",
       "        }#T_33671_row1_col3{\n",
       "            background-color:  #ffbe00;\n",
       "        }#T_33671_row2_col3{\n",
       "            background-color:  #015482;\n",
       "        }#T_33671_row3_col3{\n",
       "            background-color:  #728f02;\n",
       "        }</style><table id=\"T_33671_\" ><thead>    <tr>        <th class=\"blank level0\" ></th>        <th class=\"col_heading level0 col0\" >surface</th>        <th class=\"col_heading level0 col1\" >series</th>        <th class=\"col_heading level0 col2\" >order_surfaces</th>        <th class=\"col_heading level0 col3\" >color</th>        <th class=\"col_heading level0 col4\" >id</th>    </tr></thead><tbody>\n",
       "                <tr>\n",
       "                        <th id=\"T_33671_level0_row0\" class=\"row_heading level0 row0\" >1</th>\n",
       "                        <td id=\"T_33671_row0_col0\" class=\"data row0 col0\" >Premine topo</td>\n",
       "                        <td id=\"T_33671_row0_col1\" class=\"data row0 col1\" >Strat_Series1</td>\n",
       "                        <td id=\"T_33671_row0_col2\" class=\"data row0 col2\" >1</td>\n",
       "                        <td id=\"T_33671_row0_col3\" class=\"data row0 col3\" >#9f0052</td>\n",
       "                        <td id=\"T_33671_row0_col4\" class=\"data row0 col4\" >1</td>\n",
       "            </tr>\n",
       "            <tr>\n",
       "                        <th id=\"T_33671_level0_row1\" class=\"row_heading level0 row1\" >2</th>\n",
       "                        <td id=\"T_33671_row1_col0\" class=\"data row1 col0\" >Quartz monzonite porphyry</td>\n",
       "                        <td id=\"T_33671_row1_col1\" class=\"data row1 col1\" >Strat_Series2</td>\n",
       "                        <td id=\"T_33671_row1_col2\" class=\"data row1 col2\" >1</td>\n",
       "                        <td id=\"T_33671_row1_col3\" class=\"data row1 col3\" >#ffbe00</td>\n",
       "                        <td id=\"T_33671_row1_col4\" class=\"data row1 col4\" >2</td>\n",
       "            </tr>\n",
       "            <tr>\n",
       "                        <th id=\"T_33671_level0_row2\" class=\"row_heading level0 row2\" >0</th>\n",
       "                        <td id=\"T_33671_row2_col0\" class=\"data row2 col0\" >Equigranular Monzonite</td>\n",
       "                        <td id=\"T_33671_row2_col1\" class=\"data row2 col1\" >Strat_Series3</td>\n",
       "                        <td id=\"T_33671_row2_col2\" class=\"data row2 col2\" >1</td>\n",
       "                        <td id=\"T_33671_row2_col3\" class=\"data row2 col3\" >#015482</td>\n",
       "                        <td id=\"T_33671_row2_col4\" class=\"data row2 col4\" >3</td>\n",
       "            </tr>\n",
       "            <tr>\n",
       "                        <th id=\"T_33671_level0_row3\" class=\"row_heading level0 row3\" >3</th>\n",
       "                        <td id=\"T_33671_row3_col0\" class=\"data row3 col0\" >basement</td>\n",
       "                        <td id=\"T_33671_row3_col1\" class=\"data row3 col1\" >Host_Rock</td>\n",
       "                        <td id=\"T_33671_row3_col2\" class=\"data row3 col2\" >1</td>\n",
       "                        <td id=\"T_33671_row3_col3\" class=\"data row3 col3\" >#728f02</td>\n",
       "                        <td id=\"T_33671_row3_col4\" class=\"data row3 col4\" >4</td>\n",
       "            </tr>\n",
       "    </tbody></table>"
      ],
      "text/plain": [
       "                     surface         series  order_surfaces    color  id\n",
       "1               Premine topo  Strat_Series1               1  #9f0052   1\n",
       "2  Quartz monzonite porphyry  Strat_Series2               1  #ffbe00   2\n",
       "0     Equigranular Monzonite  Strat_Series3               1  #015482   3\n",
       "3                   basement      Host_Rock               1  #728f02   4"
      ]
     },
     "execution_count": 17,
     "metadata": {},
     "output_type": "execute_result"
    }
   ],
   "source": [
    "geo_data = gp.create_data('foresets', extent=extent, resolution=reso,\n",
    "                          path_o=\"2_orientation_data.csv\",\n",
    "                          path_i=\"1_point_data_all.csv\")\n",
    "\n",
    "gp.map_stack_to_surfaces(geo_data, {\"Strat_Series1\": ('Premine topo'),\n",
    "                                    \"Strat_Series2\":('Quartz monzonite porphyry'),\n",
    "                                    \"Strat_Series3\":('Equigranular Monzonite'),\n",
    "                                    \"Host_Rock\": ('basement')})"
   ]
  },
  {
   "cell_type": "code",
   "execution_count": 18,
   "metadata": {
    "scrolled": true
   },
   "outputs": [
    {
     "data": {
      "text/html": [
       "<table border=\"1\" class=\"dataframe\">\n",
       "  <thead>\n",
       "    <tr style=\"text-align: right;\">\n",
       "      <th></th>\n",
       "      <th>order_series</th>\n",
       "      <th>BottomRelation</th>\n",
       "      <th>isActive</th>\n",
       "      <th>isFault</th>\n",
       "      <th>isFinite</th>\n",
       "    </tr>\n",
       "  </thead>\n",
       "  <tbody>\n",
       "    <tr>\n",
       "      <th>Strat_Series1</th>\n",
       "      <td>1</td>\n",
       "      <td>Erosion</td>\n",
       "      <td>True</td>\n",
       "      <td>False</td>\n",
       "      <td>False</td>\n",
       "    </tr>\n",
       "    <tr>\n",
       "      <th>Strat_Series2</th>\n",
       "      <td>2</td>\n",
       "      <td>Erosion</td>\n",
       "      <td>True</td>\n",
       "      <td>False</td>\n",
       "      <td>False</td>\n",
       "    </tr>\n",
       "    <tr>\n",
       "      <th>Strat_Series3</th>\n",
       "      <td>3</td>\n",
       "      <td>Erosion</td>\n",
       "      <td>True</td>\n",
       "      <td>False</td>\n",
       "      <td>False</td>\n",
       "    </tr>\n",
       "    <tr>\n",
       "      <th>Host_Rock</th>\n",
       "      <td>4</td>\n",
       "      <td>Erosion</td>\n",
       "      <td>False</td>\n",
       "      <td>False</td>\n",
       "      <td>False</td>\n",
       "    </tr>\n",
       "  </tbody>\n",
       "</table>"
      ],
      "text/plain": [
       "               order_series BottomRelation  isActive  isFault  isFinite\n",
       "Strat_Series1             1        Erosion      True    False     False\n",
       "Strat_Series2             2        Erosion      True    False     False\n",
       "Strat_Series3             3        Erosion      True    False     False\n",
       "Host_Rock                 4        Erosion     False    False     False"
      ]
     },
     "execution_count": 18,
     "metadata": {},
     "output_type": "execute_result"
    }
   ],
   "source": [
    "geo_data.series"
   ]
  },
  {
   "cell_type": "code",
   "execution_count": 19,
   "metadata": {
    "scrolled": false
   },
   "outputs": [
    {
     "name": "stderr",
     "output_type": "stream",
     "text": [
      "C:\\Users\\pasha\\python\\lib\\site-packages\\gempy\\plot\\plot_api.py:261: UserWarning: Matplotlib is currently using module://ipykernel.pylab.backend_inline, which is a non-GUI backend, so cannot show the figure.\n",
      "  p.fig.show()\n"
     ]
    },
    {
     "data": {
      "text/plain": [
       "<gempy.plot.visualization_2d.Plot2D at 0x26c456264f0>"
      ]
     },
     "execution_count": 19,
     "metadata": {},
     "output_type": "execute_result"
    },
    {
     "data": {
      "image/png": "[encoded data removed]",
      "text/plain": [
       "<Figure size 720x720 with 1 Axes>"
      ]
     },
     "metadata": {},
     "output_type": "display_data"
    }
   ],
   "source": [
    "gp.plot_2d(geo_data, figsize=(10,10))"
   ]
  },
  {
   "cell_type": "code",
   "execution_count": 20,
   "metadata": {},
   "outputs": [
    {
     "name": "stdout",
     "output_type": "stream",
     "text": [
      "[-223.8    0. ]\n",
      "Active grids: ['regular' 'topography']\n"
     ]
    },
    {
     "data": {
      "text/plain": [
       "Grid Object. Values: \n",
       "array([[   14.94      ,    10.        , -1107.81      ],\n",
       "       [   14.94      ,    10.        , -1085.43      ],\n",
       "       [   14.94      ,    10.        , -1063.05      ],\n",
       "       ...,\n",
       "       [ 1494.        ,   959.18367347,   -60.59820861],\n",
       "       [ 1494.        ,   979.59183673,   -69.25775149],\n",
       "       [ 1494.        ,  1000.        ,   -67.40721752]])"
      ]
     },
     "execution_count": 20,
     "metadata": {},
     "output_type": "execute_result"
    }
   ],
   "source": [
    "geo_data.set_topography()"
   ]
  },
  {
   "cell_type": "code",
   "execution_count": 21,
   "metadata": {
    "scrolled": true
   },
   "outputs": [
    {
     "name": "stdout",
     "output_type": "stream",
     "text": [
      "Setting kriging parameters to their default values.\n",
      "Compiling theano function...\n",
      "Level of Optimization:  fast_compile\n",
      "Device:  cpu\n",
      "Precision:  float64\n",
      "Number of faults:  0\n",
      "Compilation Done!\n",
      "Kriging values: \n",
      "                        values\n",
      "range                 2117.59\n",
      "$C_o$                106766.6\n",
      "drift equations  [3, 3, 3, 3]\n"
     ]
    }
   ],
   "source": [
    "interp_data = gp.set_interpolator(geo_data, compile_theano=True,theano_optimizer='fast_compile')"
   ]
  },
  {
   "cell_type": "code",
   "execution_count": 22,
   "metadata": {
    "scrolled": false
   },
   "outputs": [
    {
     "name": "stdout",
     "output_type": "stream",
     "text": [
      "Wall time: 19.3 s\n"
     ]
    },
    {
     "name": "stderr",
     "output_type": "stream",
     "text": [
      "C:\\Users\\pasha\\python\\lib\\site-packages\\gempy\\core\\solution.py:174: VisibleDeprecationWarning: Creating an ndarray from ragged nested sequences (which is a list-or-tuple of lists-or-tuples-or ndarrays with different lengths or shapes) is deprecated. If you meant to do this, you must specify 'dtype=object' when creating the ndarray.\n",
      "  self.geological_map = np.array(\n"
     ]
    }
   ],
   "source": [
    "%%time\n",
    "sol = gp.compute_model(geo_data, compute_mesh=True, debug=False)"
   ]
  },
  {
   "cell_type": "code",
   "execution_count": 23,
   "metadata": {},
   "outputs": [
    {
     "name": "stderr",
     "output_type": "stream",
     "text": [
      "C:\\Users\\pasha\\python\\lib\\site-packages\\gempy\\plot\\plot_api.py:261: UserWarning: Matplotlib is currently using module://ipykernel.pylab.backend_inline, which is a non-GUI backend, so cannot show the figure.\n",
      "  p.fig.show()\n"
     ]
    },
    {
     "data": {
      "text/plain": [
       "<gempy.plot.visualization_2d.Plot2D at 0x26c0714d280>"
      ]
     },
     "execution_count": 23,
     "metadata": {},
     "output_type": "execute_result"
    },
    {
     "data": {
      "image/png": "[encoded data removed]",
      "text/plain": [
       "<Figure size 1080x1080 with 1 Axes>"
      ]
     },
     "metadata": {},
     "output_type": "display_data"
    }
   ],
   "source": [
    "gp.plot_2d(geo_data, cell_number=0, show_data=False, figsize=(15,15))"
   ]
  },
  {
   "cell_type": "code",
   "execution_count": 65,
   "metadata": {},
   "outputs": [
    {
     "name": "stderr",
     "output_type": "stream",
     "text": [
      "C:\\Users\\pasha\\python\\lib\\site-packages\\pyvista\\plotting\\plotting.py:1354: PyvistaDeprecationWarning: \n",
      "\"stitle\" is a depreciated keyword and will be removed in a future\n",
      "release.\n",
      "\n",
      "Use ``scalar_bar_args`` instead.  For example:\n",
      "\n",
      "scalar_bar_args={'title': 'Scalar Bar Title'}\n",
      "\n",
      "  warnings.warn(USE_SCALAR_BAR_ARGS, PyvistaDeprecationWarning)\n"
     ]
    },
    {
     "data": {
      "text/plain": [
       "True"
      ]
     },
     "execution_count": 65,
     "metadata": {},
     "output_type": "execute_result"
    }
   ],
   "source": [
    "p3d = gp.plot_3d(geo_data, plotter_type='background', show_lith=True, show_surfaces=True,  show_data=True, image=False,\n",
    "                 show_topography=True,\n",
    "                 kwargs_plot_structured_grid={'opacity': .5})\n",
    "\n",
    "gp.save_model(geo_data)"
   ]
  },
  {
   "cell_type": "code",
   "execution_count": 24,
   "metadata": {},
   "outputs": [],
   "source": [
    "### User-defined functions\n",
    "def extract_domain(sol, unit):\n",
    "    '''\n",
    "    Extract domain coordinates from gempy model by unit name\n",
    "    arguments:\n",
    "        sol: Gempy solution object.\n",
    "        unit: gempy unit by index\n",
    "    returns:\n",
    "        dom_x, dom_y, dom_z: coordinates of domain\n",
    "    '''\n",
    "\n",
    "    # new version with rounding, definitely necessary\n",
    "    rounded_lithblock = sol.lith_block.round(0)\n",
    "    rounded_lithblock = rounded_lithblock.astype(int)\n",
    "\n",
    "    # mask by array of input surfaces (by id, can be from different series)\n",
    "    mask = np.isin(rounded_lithblock, unit)\n",
    "\n",
    "    # get coordinates by mask, mesh_size is defined on in[55]\n",
    "    #krig_lith = sol.lith_block[mask]\n",
    "    dom_grid = sol.grid.values[:mesh_size][mask]\n",
    "\n",
    "    dom_x = dom_grid[:,0]\n",
    "    \n",
    "    dom_y = dom_grid[:,1]\n",
    "    dom_z = dom_grid[:,2]\n",
    "\n",
    "    return dom_x, dom_y, dom_z"
   ]
  },
  {
   "cell_type": "code",
   "execution_count": 25,
   "metadata": {},
   "outputs": [
    {
     "data": {
      "text/plain": [
       "(4, 3)"
      ]
     },
     "execution_count": 25,
     "metadata": {},
     "output_type": "execute_result"
    }
   ],
   "source": [
    "unit_count=int(np.max(sol.lith_block.round(0)))\n",
    "series_count=len(sol.scalar_field_matrix)\n",
    "unit_count, series_count"
   ]
  },
  {
   "cell_type": "markdown",
   "metadata": {},
   "source": [
    "### Geostatistics and Kriging"
   ]
  },
  {
   "cell_type": "code",
   "execution_count": 19,
   "metadata": {},
   "outputs": [
    {
     "data": {
      "text/html": [
       "<div>\n",
       "<style scoped>\n",
       "    .dataframe tbody tr th:only-of-type {\n",
       "        vertical-align: middle;\n",
       "    }\n",
       "\n",
       "    .dataframe tbody tr th {\n",
       "        vertical-align: top;\n",
       "    }\n",
       "\n",
       "    .dataframe thead th {\n",
       "        text-align: right;\n",
       "    }\n",
       "</style>\n",
       "<table border=\"1\" class=\"dataframe\">\n",
       "  <thead>\n",
       "    <tr style=\"text-align: right;\">\n",
       "      <th></th>\n",
       "      <th>X</th>\n",
       "      <th>Y</th>\n",
       "      <th>Z</th>\n",
       "      <th>grade_value</th>\n",
       "      <th>grade</th>\n",
       "    </tr>\n",
       "  </thead>\n",
       "  <tbody>\n",
       "    <tr>\n",
       "      <th>0</th>\n",
       "      <td>440</td>\n",
       "      <td>0</td>\n",
       "      <td>-211</td>\n",
       "      <td>0.81</td>\n",
       "      <td>grade1boundary</td>\n",
       "    </tr>\n",
       "    <tr>\n",
       "      <th>1</th>\n",
       "      <td>460</td>\n",
       "      <td>0</td>\n",
       "      <td>-142</td>\n",
       "      <td>0.81</td>\n",
       "      <td>grade1boundary</td>\n",
       "    </tr>\n",
       "    <tr>\n",
       "      <th>2</th>\n",
       "      <td>497</td>\n",
       "      <td>0</td>\n",
       "      <td>-80</td>\n",
       "      <td>0.82</td>\n",
       "      <td>grade1boundary</td>\n",
       "    </tr>\n",
       "    <tr>\n",
       "      <th>3</th>\n",
       "      <td>562</td>\n",
       "      <td>0</td>\n",
       "      <td>-39</td>\n",
       "      <td>0.82</td>\n",
       "      <td>grade1boundary</td>\n",
       "    </tr>\n",
       "    <tr>\n",
       "      <th>4</th>\n",
       "      <td>649</td>\n",
       "      <td>0</td>\n",
       "      <td>-10</td>\n",
       "      <td>0.83</td>\n",
       "      <td>grade1boundary</td>\n",
       "    </tr>\n",
       "    <tr>\n",
       "      <th>...</th>\n",
       "      <td>...</td>\n",
       "      <td>...</td>\n",
       "      <td>...</td>\n",
       "      <td>...</td>\n",
       "      <td>...</td>\n",
       "    </tr>\n",
       "    <tr>\n",
       "      <th>179</th>\n",
       "      <td>1003</td>\n",
       "      <td>0</td>\n",
       "      <td>-231</td>\n",
       "      <td>0.49</td>\n",
       "      <td>grade3inside</td>\n",
       "    </tr>\n",
       "    <tr>\n",
       "      <th>180</th>\n",
       "      <td>1008</td>\n",
       "      <td>0</td>\n",
       "      <td>-192</td>\n",
       "      <td>0.49</td>\n",
       "      <td>grade3inside</td>\n",
       "    </tr>\n",
       "    <tr>\n",
       "      <th>181</th>\n",
       "      <td>975</td>\n",
       "      <td>0</td>\n",
       "      <td>-159</td>\n",
       "      <td>0.49</td>\n",
       "      <td>grade3inside</td>\n",
       "    </tr>\n",
       "    <tr>\n",
       "      <th>182</th>\n",
       "      <td>985</td>\n",
       "      <td>0</td>\n",
       "      <td>-116</td>\n",
       "      <td>0.49</td>\n",
       "      <td>grade3inside</td>\n",
       "    </tr>\n",
       "    <tr>\n",
       "      <th>183</th>\n",
       "      <td>950</td>\n",
       "      <td>0</td>\n",
       "      <td>-125</td>\n",
       "      <td>0.49</td>\n",
       "      <td>grade3inside</td>\n",
       "    </tr>\n",
       "  </tbody>\n",
       "</table>\n",
       "<p>184 rows × 5 columns</p>\n",
       "</div>"
      ],
      "text/plain": [
       "        X  Y    Z  grade_value           grade\n",
       "0     440  0 -211         0.81  grade1boundary\n",
       "1     460  0 -142         0.81  grade1boundary\n",
       "2     497  0  -80         0.82  grade1boundary\n",
       "3     562  0  -39         0.82  grade1boundary\n",
       "4     649  0  -10         0.83  grade1boundary\n",
       "..    ... ..  ...          ...             ...\n",
       "179  1003  0 -231         0.49    grade3inside\n",
       "180  1008  0 -192         0.49    grade3inside\n",
       "181   975  0 -159         0.49    grade3inside\n",
       "182   985  0 -116         0.49    grade3inside\n",
       "183   950  0 -125         0.49    grade3inside\n",
       "\n",
       "[184 rows x 5 columns]"
      ]
     },
     "execution_count": 19,
     "metadata": {},
     "output_type": "execute_result"
    }
   ],
   "source": [
    "df =pd.read_csv('3_kriging_Au.csv')\n",
    "df"
   ]
  },
  {
   "cell_type": "code",
   "execution_count": 20,
   "metadata": {},
   "outputs": [],
   "source": [
    "# load grade input data (conditioning data)\n",
    "n=len(df.iloc[:,1])\n",
    "x = df.iloc[:n,0]\n",
    "y = df.iloc[:n,1]\n",
    "z = df.iloc[:n,2]\n",
    "cond_pos = np.array([x,y,z])\n",
    "cond_val = df.iloc[:n,3]"
   ]
  },
  {
   "cell_type": "code",
   "execution_count": 24,
   "metadata": {},
   "outputs": [],
   "source": [
    "# This is to extract smaller domains from gempy by \n",
    "\n",
    "domain_x, domain_y, domain_z = extract_domain(sol, (2,3,4))"
   ]
  },
  {
   "cell_type": "code",
   "execution_count": 25,
   "metadata": {},
   "outputs": [],
   "source": [
    "# grid coordinate preparation\n",
    "coordinates = np.array([domain_x, domain_y, domain_z])\n",
    "coordinates = coordinates.swapaxes(0,1)\n",
    "    \n",
    "# This is where the magic happens - GStools offers a lot of options, here a simple version with isotropic range\n",
    "#(CondSRF - conditional spatial random fields)\n",
    "model = gs.Exponential(dim=3, var=np.var(cond_val), len_scale=200)\n",
    "krige = gs.krige.Ordinary(model, cond_pos, cond_val)\n",
    "cond_srf = gs.CondSRF(krige)\n",
    "\n",
    "# perform kriging\n",
    "krige((coordinates[:,0],coordinates[:,1], coordinates[:,2]), mesh_type='unstructured')\n",
    "# alternatively fior SGS\n",
    "#cond_srf((coordinates[:,0],coordinates[:,1], coordinates[:,2]), mesh_type='unstructured')\n",
    "\n",
    "# just convenience rename\n",
    "field = krige\n",
    "# alternatively for SGS\n",
    "#field = cond_srf"
   ]
  },
  {
   "cell_type": "code",
   "execution_count": 26,
   "metadata": {},
   "outputs": [],
   "source": [
    "# convert to pyvista mesh\n",
    "pc = field.to_pyvista()"
   ]
  },
  {
   "cell_type": "code",
   "execution_count": 27,
   "metadata": {},
   "outputs": [],
   "source": [
    "# 3D plotting example\n",
    "spacing = lambda arr: np.unique(np.diff(np.unique(arr)))\n",
    "voxelsize = spacing(pc.points[:,0]), spacing(pc.points[:,1]), spacing(pc.points[:,2])\n",
    "\n",
    "pc = pc.cast_to_unstructured_grid()\n",
    "\n",
    "grade = PVGeo.filters.VoxelizePoints(dx=voxelsize[0][0], dy=voxelsize[1][0], dz=voxelsize[2][0], estimate=False).apply(pc)"
   ]
  },
  {
   "cell_type": "code",
   "execution_count": 28,
   "metadata": {},
   "outputs": [
    {
     "name": "stderr",
     "output_type": "stream",
     "text": [
      "C:\\Users\\pasha\\python\\lib\\site-packages\\pyvista\\plotting\\plotting.py:1354: PyvistaDeprecationWarning: \n",
      "\"stitle\" is a depreciated keyword and will be removed in a future\n",
      "release.\n",
      "\n",
      "Use ``scalar_bar_args`` instead.  For example:\n",
      "\n",
      "scalar_bar_args={'title': 'Scalar Bar Title'}\n",
      "\n",
      "  warnings.warn(USE_SCALAR_BAR_ARGS, PyvistaDeprecationWarning)\n"
     ]
    },
    {
     "data": {
      "text/plain": [
       "(vtkmodules.vtkRenderingOpenGL2.vtkOpenGLActor)000002310BF1DDC0"
      ]
     },
     "execution_count": 28,
     "metadata": {},
     "output_type": "execute_result"
    }
   ],
   "source": [
    "#p.add_mesh(grid, opacity=1, show_edges=False, lighting=False, cmap=cmap)\n",
    "p = pvqt.BackgroundPlotter()\n",
    "gpv = gp.plot_3d(geo_data, plotter_type='background', show_data=False, show_lith=True, show_surfaces=False,\n",
    "                kwargs_plot_structured_grid={'opacity': .5})\n",
    "gpv.p.add_mesh(grade, opacity=1, show_edges=False, lighting=False, cmap=\"terrain\")"
   ]
  },
  {
   "cell_type": "markdown",
   "metadata": {},
   "source": [
    "### Calculating Cu ore volume"
   ]
  },
  {
   "cell_type": "code",
   "execution_count": 107,
   "metadata": {},
   "outputs": [
    {
     "name": "stderr",
     "output_type": "stream",
     "text": [
      "100%|████████████████████████████████| 902271/902271 [11:56<00:00, 1259.51it/s]"
     ]
    },
    {
     "name": "stdout",
     "output_type": "stream",
     "text": [
      "Horizon1 =  15846859.494\n",
      "Average ore grade= 0.7623248257039079\n",
      "Horizon2 =  30670585.956\n",
      "Average ore grade= 0.6435096084912928\n",
      "Horizon3 =  1293582868.578\n",
      "Average ore grade= 0.4771961746309947\n"
     ]
    },
    {
     "name": "stderr",
     "output_type": "stream",
     "text": [
      "\n"
     ]
    }
   ],
   "source": [
    "#define grade intervals and check the count of voxels corresponding to the same interval\n",
    "ore_interval1=[]\n",
    "ore_interval2=[]\n",
    "ore_interval3=[]\n",
    "ore_dict={}\n",
    "for index in tqdm(range(0, len(grade.active_scalars))):\n",
    "    #for Cu Horizon I:\n",
    "    if grade.active_scalars[index]>0.7:\n",
    "        ore_interval1.append(grade.active_scalars[index])\n",
    "        ore_dict.update({1: ore_interval1})\n",
    "    #for Cu Horizon II:\n",
    "    elif 0.7>grade.active_scalars[index]>0.6:        \n",
    "        ore_interval2.append(grade.active_scalars[index])\n",
    "        ore_dict.update({2: ore_interval2})\n",
    "        \n",
    "    #for Cu Horizon III:\n",
    "    elif 0.5>grade.active_scalars[index]>0.43:        \n",
    "        ore_interval3.append(grade.active_scalars[index])\n",
    "        ore_dict.update({3: ore_interval3})\n",
    "        \n",
    "#calculate volume of total voxels corresponding to a certain ore grade interval\n",
    "voxel_volume=((extent[1]-extent[0])/reso[0])*((extent[3]-extent[2])/reso[1])*((extent[5]-extent[4])/reso[2])\n",
    "\n",
    "for i in range(1,4):\n",
    "    ore_avrg_grade=np.mean(ore_dict[i])\n",
    "    volume=len(ore_dict[i])*(voxel_volume)\n",
    "    print(\"Horizon{} = \".format(i),volume)\n",
    "    print(\"Average ore grade=\", ore_avrg_grade)"
   ]
  },
  {
   "cell_type": "markdown",
   "metadata": {},
   "source": [
    "### Calculating Au ore volume"
   ]
  },
  {
   "cell_type": "code",
   "execution_count": 20,
   "metadata": {},
   "outputs": [
    {
     "name": "stderr",
     "output_type": "stream",
     "text": [
      "100%|████████████████████████████████| 219293/219293 [01:38<00:00, 2229.16it/s]"
     ]
    },
    {
     "name": "stdout",
     "output_type": "stream",
     "text": [
      "Horizon1 =  359673055.398\n",
      "Average ore grade= 0.14689015292139987\n",
      "Horizon2 =  5548657.734\n",
      "Average ore grade= 0.3882861995741934\n",
      "Horizon3 =  1028148.39\n",
      "Average ore grade= 0.7625136395051352\n"
     ]
    },
    {
     "name": "stderr",
     "output_type": "stream",
     "text": [
      "\n"
     ]
    }
   ],
   "source": [
    "#define grade intervals and check the count of voxels corresponding to the same interval\n",
    "ore_interval1=[]\n",
    "ore_interval2=[]\n",
    "ore_interval3=[]\n",
    "ore_dict={}\n",
    "for index in tqdm(range(0, len(grade.active_scalars))):\n",
    "    #for Cu Horizon I:\n",
    "    if 0.3>grade.active_scalars[index]>0.1:\n",
    "        ore_interval1.append(grade.active_scalars[index])\n",
    "        ore_dict.update({1: ore_interval1})\n",
    "    #for Cu Horizon II:\n",
    "    elif 0.6>grade.active_scalars[index]>0.3:        \n",
    "        ore_interval2.append(grade.active_scalars[index])\n",
    "        ore_dict.update({2: ore_interval2})\n",
    "        \n",
    "    #for Cu Horizon III:\n",
    "    elif 1.1>grade.active_scalars[index]>0.6:        \n",
    "        ore_interval3.append(grade.active_scalars[index])\n",
    "        ore_dict.update({3: ore_interval3})\n",
    "        \n",
    "#calculate volume of total voxels corresponding to a certain ore grade interval\n",
    "voxel_volume=((extent[1]-extent[0])/reso[0])*((extent[3]-extent[2])/reso[1])*((extent[5]-extent[4])/reso[2])\n",
    "\n",
    "for i in range(1,4):\n",
    "    ore_avrg_grade=np.mean(ore_dict[i])\n",
    "    volume=len(ore_dict[i])*(voxel_volume)\n",
    "    print(\"Horizon{} = \".format(i),volume)\n",
    "    print(\"Average ore grade=\", ore_avrg_grade)"
   ]
  },
  {
   "cell_type": "markdown",
   "metadata": {},
   "source": [
    "### Extract kriged data"
   ]
  },
  {
   "cell_type": "code",
   "execution_count": 75,
   "metadata": {},
   "outputs": [],
   "source": [
    "#extract voxel locations and ore grade value\n",
    "main_array=pc.points.tolist()\n",
    "added_array=grade.active_scalars.tolist()\n",
    "n=len(main_array)\n",
    "\n",
    "for index in range(0,n,1):\n",
    "    main_array[index].append(added_array[index])\n",
    "grade=pd.DataFrame(main_array, columns=['X','Y','Z','grade'])"
   ]
  },
  {
   "cell_type": "code",
   "execution_count": 76,
   "metadata": {},
   "outputs": [],
   "source": [
    "#drill boreholess!!\n",
    "def krige_boreholes(b_count):\n",
    "    borehole_count=range(0,b_count,1)\n",
    "    rand_ind=random.sample(range(0,len(grade)),b_count)\n",
    "    dict_all={}\n",
    "    boreholes_dict={}\n",
    "\n",
    "    for index in tqdm(borehole_count):\n",
    "        list_temp=[]\n",
    "        for row in grade.itertuples():\n",
    "            if (grade.iloc[rand_ind[index]].X==row.X and grade.iloc[rand_ind[index]].Y==row.Y):\n",
    "                list_temp.append([row.X,row.Y,row.Z,row.grade])\n",
    "                \n",
    "        dict_all.update({index+1:list_temp})\n",
    "\n",
    "    for index in range(0,b_count,1): \n",
    "        data_temp = pd.DataFrame(dict_all[index+1])\n",
    "        data_temp.columns=['X','Y','Z','grade']\n",
    "        data_temp.loc[:, 'borehole']=index+1\n",
    "        boreholes_dict.update({index+1:data_temp})\n",
    "    return boreholes_dict"
   ]
  },
  {
   "cell_type": "code",
   "execution_count": 77,
   "metadata": {},
   "outputs": [
    {
     "name": "stderr",
     "output_type": "stream",
     "text": [
      "100%|████████████████████████████████████████| 100/100 [13:48<00:00,  8.29s/it]\n"
     ]
    }
   ],
   "source": [
    "#create desired amount of random boreholes\n",
    "boreholes=krige_boreholes(100)"
   ]
  },
  {
   "cell_type": "code",
   "execution_count": 78,
   "metadata": {},
   "outputs": [],
   "source": [
    "#join all borehole data into one dataframe\n",
    "drill_all = pd.concat(boreholes.values(), ignore_index=True)\n",
    "\n",
    "#define vertices for the mesh grid (showing boreholes)\n",
    "vertices = drill_all[['X','Y','Z']].values\n",
    "kriged=pv.PolyData(vertices)\n",
    "kriged['grade'] = drill_all['grade'].values"
   ]
  },
  {
   "cell_type": "code",
   "execution_count": 81,
   "metadata": {},
   "outputs": [
    {
     "data": {
      "text/html": [
       "<div>\n",
       "<style scoped>\n",
       "    .dataframe tbody tr th:only-of-type {\n",
       "        vertical-align: middle;\n",
       "    }\n",
       "\n",
       "    .dataframe tbody tr th {\n",
       "        vertical-align: top;\n",
       "    }\n",
       "\n",
       "    .dataframe thead th {\n",
       "        text-align: right;\n",
       "    }\n",
       "</style>\n",
       "<table border=\"1\" class=\"dataframe\">\n",
       "  <thead>\n",
       "    <tr style=\"text-align: right;\">\n",
       "      <th></th>\n",
       "      <th>X</th>\n",
       "      <th>Y</th>\n",
       "      <th>Z</th>\n",
       "      <th>grade</th>\n",
       "      <th>borehole</th>\n",
       "    </tr>\n",
       "  </thead>\n",
       "  <tbody>\n",
       "    <tr>\n",
       "      <th>0</th>\n",
       "      <td>1240.02</td>\n",
       "      <td>370.0</td>\n",
       "      <td>-1107.81</td>\n",
       "      <td>0.47</td>\n",
       "      <td>1.0</td>\n",
       "    </tr>\n",
       "    <tr>\n",
       "      <th>10</th>\n",
       "      <td>1240.02</td>\n",
       "      <td>370.0</td>\n",
       "      <td>-884.01</td>\n",
       "      <td>0.47</td>\n",
       "      <td>1.0</td>\n",
       "    </tr>\n",
       "    <tr>\n",
       "      <th>20</th>\n",
       "      <td>1240.02</td>\n",
       "      <td>370.0</td>\n",
       "      <td>-660.21</td>\n",
       "      <td>0.47</td>\n",
       "      <td>1.0</td>\n",
       "    </tr>\n",
       "    <tr>\n",
       "      <th>30</th>\n",
       "      <td>1240.02</td>\n",
       "      <td>370.0</td>\n",
       "      <td>-436.41</td>\n",
       "      <td>0.47</td>\n",
       "      <td>1.0</td>\n",
       "    </tr>\n",
       "    <tr>\n",
       "      <th>40</th>\n",
       "      <td>1240.02</td>\n",
       "      <td>370.0</td>\n",
       "      <td>-212.61</td>\n",
       "      <td>0.47</td>\n",
       "      <td>1.0</td>\n",
       "    </tr>\n",
       "    <tr>\n",
       "      <th>...</th>\n",
       "      <td>...</td>\n",
       "      <td>...</td>\n",
       "      <td>...</td>\n",
       "      <td>...</td>\n",
       "      <td>...</td>\n",
       "    </tr>\n",
       "    <tr>\n",
       "      <th>4360</th>\n",
       "      <td>1180.26</td>\n",
       "      <td>810.0</td>\n",
       "      <td>-167.85</td>\n",
       "      <td>0.48</td>\n",
       "      <td>99.0</td>\n",
       "    </tr>\n",
       "    <tr>\n",
       "      <th>4370</th>\n",
       "      <td>1449.18</td>\n",
       "      <td>950.0</td>\n",
       "      <td>-906.39</td>\n",
       "      <td>0.48</td>\n",
       "      <td>100.0</td>\n",
       "    </tr>\n",
       "    <tr>\n",
       "      <th>4380</th>\n",
       "      <td>1449.18</td>\n",
       "      <td>950.0</td>\n",
       "      <td>-682.59</td>\n",
       "      <td>0.48</td>\n",
       "      <td>100.0</td>\n",
       "    </tr>\n",
       "    <tr>\n",
       "      <th>4390</th>\n",
       "      <td>1449.18</td>\n",
       "      <td>950.0</td>\n",
       "      <td>-458.79</td>\n",
       "      <td>0.48</td>\n",
       "      <td>100.0</td>\n",
       "    </tr>\n",
       "    <tr>\n",
       "      <th>4400</th>\n",
       "      <td>1449.18</td>\n",
       "      <td>950.0</td>\n",
       "      <td>-234.99</td>\n",
       "      <td>0.48</td>\n",
       "      <td>100.0</td>\n",
       "    </tr>\n",
       "  </tbody>\n",
       "</table>\n",
       "<p>441 rows × 5 columns</p>\n",
       "</div>"
      ],
      "text/plain": [
       "            X      Y        Z  grade  borehole\n",
       "0     1240.02  370.0 -1107.81   0.47       1.0\n",
       "10    1240.02  370.0  -884.01   0.47       1.0\n",
       "20    1240.02  370.0  -660.21   0.47       1.0\n",
       "30    1240.02  370.0  -436.41   0.47       1.0\n",
       "40    1240.02  370.0  -212.61   0.47       1.0\n",
       "...       ...    ...      ...    ...       ...\n",
       "4360  1180.26  810.0  -167.85   0.48      99.0\n",
       "4370  1449.18  950.0  -906.39   0.48     100.0\n",
       "4380  1449.18  950.0  -682.59   0.48     100.0\n",
       "4390  1449.18  950.0  -458.79   0.48     100.0\n",
       "4400  1449.18  950.0  -234.99   0.48     100.0\n",
       "\n",
       "[441 rows x 5 columns]"
      ]
     },
     "execution_count": 81,
     "metadata": {},
     "output_type": "execute_result"
    }
   ],
   "source": [
    "list_tempo=[]\n",
    "for index in range(0,len(drill_all),10):\n",
    "    list_tempo.append(drill_all.iloc[index])\n",
    "br=pd.DataFrame(list_tempo)\n",
    "\n",
    "br.to_csv('3_kriging_Cu_100.csv')\n",
    "br"
   ]
  },
  {
   "cell_type": "code",
   "execution_count": 114,
   "metadata": {},
   "outputs": [
    {
     "name": "stderr",
     "output_type": "stream",
     "text": [
      "C:\\Users\\pasha\\python\\lib\\site-packages\\pyvista\\plotting\\plotting.py:1354: PyvistaDeprecationWarning: \n",
      "\"stitle\" is a depreciated keyword and will be removed in a future\n",
      "release.\n",
      "\n",
      "Use ``scalar_bar_args`` instead.  For example:\n",
      "\n",
      "scalar_bar_args={'title': 'Scalar Bar Title'}\n",
      "\n",
      "  warnings.warn(USE_SCALAR_BAR_ARGS, PyvistaDeprecationWarning)\n"
     ]
    },
    {
     "data": {
      "text/plain": [
       "(vtkmodules.vtkRenderingOpenGL2.vtkOpenGLActor)000001E858AD5F40"
      ]
     },
     "execution_count": 114,
     "metadata": {},
     "output_type": "execute_result"
    }
   ],
   "source": [
    "p = pvqt.BackgroundPlotter()\n",
    "gpv = gp.plot_3d(geo_data, plotter_type='background', show_data=False, show_lith=True, show_surfaces=True,\n",
    "                kwargs_plot_structured_grid={'opacity': .3})\n",
    "\n",
    "#creating the grade mesh calculated with kriging (colormap) \n",
    "gpv.p.add_mesh(kriged, scalars='grade', opacity=1, cmap='viridis', point_size=5)"
   ]
  },
  {
   "cell_type": "markdown",
   "metadata": {},
   "source": [
    "### Extract orientation data from the solution"
   ]
  },
  {
   "cell_type": "code",
   "execution_count": 27,
   "metadata": {},
   "outputs": [],
   "source": [
    "from numpy import cross, eye, dot\n",
    "from scipy.linalg import expm, norm\n",
    "from sklearn import preprocessing\n",
    "\n",
    "#calculate gradient for orientation data\n",
    "def get_gradient(sol, res, dim):\n",
    "    '''\n",
    "    Calculate gradient from model solution\n",
    "    '''\n",
    "    # scalar field as meshgrid\n",
    "    dict_all={}\n",
    "    dict_spec={}\n",
    "    for index in range(0,series_count,1):\n",
    "        scalar_mgrid = sol.scalar_field_matrix[index].reshape(res)\n",
    "\n",
    "        # calculate gradient\n",
    "        gx, gy, gz = np.gradient(scalar_mgrid)\n",
    "\n",
    "       \n",
    "        vectors = np.array([gx.reshape(int(res[0] ** dim)), gy.reshape(int(res[0] ** dim)), gz.reshape(int(res[0] ** dim))])\n",
    "        vectors = np.swapaxes(vectors, 0, 1)\n",
    "        vectors = preprocessing.normalize(vectors, norm='l2')\n",
    "        dict_all.update({index:vectors})\n",
    "         \n",
    "    \n",
    "    for index in range(0,series_count,1):\n",
    "            data_temp = pd.DataFrame(dict_all[index])\n",
    "            dict_spec.update({'series_{}'.format(index):data_temp})\n",
    "    return dict_spec\n",
    "\n",
    "dict_spec=get_gradient(sol, res=[50,50,50], dim=3)\n",
    "\n",
    "# get cell coordinates and domain information\n",
    "x = sol.grid.regular_grid.values[:, 0]\n",
    "y = sol.grid.regular_grid.values[:, 1]\n",
    "z = sol.grid.regular_grid.values[:, 2]\n",
    "formation=sol.lith_block\n",
    "\n",
    "#add cell coordinates and domain information to the orientations dictionary\n",
    "for key,value in dict_spec.items():\n",
    "    #load coordinate and formation array to the whole series dataframes\n",
    "    value[\"X\"]=x\n",
    "    value['Y']=y\n",
    "    value['Z']=z\n",
    "    value['formation']=formation \n",
    "    #value = value.reset_index()\n",
    "    #define column names\n",
    "    value.columns=['G_x','G_y','G_z','X','Y','Z','formation']  \n",
    "\n",
    "#define orientations for each domain    \n",
    "dict_spec['series_0']=dict_spec['series_0'][dict_spec['series_0'].formation==1]\n",
    "dict_spec['series_1']=dict_spec['series_1'][dict_spec['series_1'].formation==2]\n",
    "dict_spec['series_2']=dict_spec['series_2'][dict_spec['series_2'].formation==3]\n",
    "\n",
    "#join all orientation data\n",
    "orientations = pd.concat([dict_spec['series_0'],dict_spec['series_1'],dict_spec['series_2']],ignore_index=True)"
   ]
  },
  {
   "cell_type": "code",
   "execution_count": 13,
   "metadata": {},
   "outputs": [
    {
     "ename": "IndexError",
     "evalue": "range object index out of range",
     "output_type": "error",
     "traceback": [
      "\u001b[1;31m---------------------------------------------------------------------------\u001b[0m",
      "\u001b[1;31mIndexError\u001b[0m                                Traceback (most recent call last)",
      "\u001b[1;32m<ipython-input-13-739215b8f538>\u001b[0m in \u001b[0;36m<module>\u001b[1;34m\u001b[0m\n\u001b[0;32m      2\u001b[0m \u001b[0munit\u001b[0m\u001b[1;33m=\u001b[0m\u001b[0mrange\u001b[0m\u001b[1;33m(\u001b[0m\u001b[1;36m0\u001b[0m\u001b[1;33m,\u001b[0m\u001b[0munit_count\u001b[0m\u001b[1;33m+\u001b[0m\u001b[1;36m1\u001b[0m\u001b[1;33m)\u001b[0m\u001b[1;33m\u001b[0m\u001b[1;33m\u001b[0m\u001b[0m\n\u001b[0;32m      3\u001b[0m \u001b[1;32mfor\u001b[0m \u001b[0mindex\u001b[0m \u001b[1;32min\u001b[0m \u001b[0munit\u001b[0m\u001b[1;33m:\u001b[0m\u001b[1;33m\u001b[0m\u001b[1;33m\u001b[0m\u001b[0m\n\u001b[1;32m----> 4\u001b[1;33m     \u001b[0mdomain_x\u001b[0m\u001b[1;33m,\u001b[0m \u001b[0mdomain_y\u001b[0m\u001b[1;33m,\u001b[0m \u001b[0mdomain_z\u001b[0m \u001b[1;33m=\u001b[0m \u001b[0mextract_domain\u001b[0m\u001b[1;33m(\u001b[0m\u001b[0msol\u001b[0m\u001b[1;33m,\u001b[0m \u001b[1;33m(\u001b[0m\u001b[0munit\u001b[0m\u001b[1;33m[\u001b[0m\u001b[0mindex\u001b[0m\u001b[1;33m+\u001b[0m\u001b[1;36m1\u001b[0m\u001b[1;33m]\u001b[0m\u001b[1;33m)\u001b[0m\u001b[1;33m)\u001b[0m\u001b[1;33m\u001b[0m\u001b[1;33m\u001b[0m\u001b[0m\n\u001b[0m\u001b[0;32m      5\u001b[0m     \u001b[0mcoordinates\u001b[0m \u001b[1;33m=\u001b[0m \u001b[0mnp\u001b[0m\u001b[1;33m.\u001b[0m\u001b[0marray\u001b[0m\u001b[1;33m(\u001b[0m\u001b[1;33m[\u001b[0m\u001b[0mdomain_x\u001b[0m\u001b[1;33m,\u001b[0m \u001b[0mdomain_y\u001b[0m\u001b[1;33m,\u001b[0m \u001b[0mdomain_z\u001b[0m\u001b[1;33m]\u001b[0m\u001b[1;33m)\u001b[0m\u001b[1;33m\u001b[0m\u001b[1;33m\u001b[0m\u001b[0m\n\u001b[0;32m      6\u001b[0m     \u001b[0mcoordinates\u001b[0m \u001b[1;33m=\u001b[0m \u001b[0mcoordinates\u001b[0m\u001b[1;33m.\u001b[0m\u001b[0mswapaxes\u001b[0m\u001b[1;33m(\u001b[0m\u001b[1;36m0\u001b[0m\u001b[1;33m,\u001b[0m\u001b[1;36m1\u001b[0m\u001b[1;33m)\u001b[0m\u001b[1;33m\u001b[0m\u001b[1;33m\u001b[0m\u001b[0m\n",
      "\u001b[1;31mIndexError\u001b[0m: range object index out of range"
     ]
    }
   ],
   "source": [
    "#extract mesh grid for ideal case 3D model\n",
    "unit=range(0,unit_count+1)\n",
    "for index in unit:\n",
    "    domain_x, domain_y, domain_z = extract_domain(sol, (unit[index+1]))\n",
    "    coordinates = np.array([domain_x, domain_y, domain_z])\n",
    "    coordinates = coordinates.swapaxes(0,1)\n",
    "    data=pd.DataFrame(coordinates, columns=['X','Y','Z'])\n",
    "    data.loc[:, 'formation'] =float(unit[index+1])\n",
    "    data.to_csv(r'data_extracted/ideal/unit_{}.csv'.format(unit[index+1]), mode=\"w\", index=False)"
   ]
  },
  {
   "cell_type": "code",
   "execution_count": 29,
   "metadata": {},
   "outputs": [
    {
     "data": {
      "text/html": [
       "<div>\n",
       "<style scoped>\n",
       "    .dataframe tbody tr th:only-of-type {\n",
       "        vertical-align: middle;\n",
       "    }\n",
       "\n",
       "    .dataframe tbody tr th {\n",
       "        vertical-align: top;\n",
       "    }\n",
       "\n",
       "    .dataframe thead th {\n",
       "        text-align: right;\n",
       "    }\n",
       "</style>\n",
       "<table border=\"1\" class=\"dataframe\">\n",
       "  <thead>\n",
       "    <tr style=\"text-align: right;\">\n",
       "      <th></th>\n",
       "      <th>G_x</th>\n",
       "      <th>G_y</th>\n",
       "      <th>G_z</th>\n",
       "      <th>X</th>\n",
       "      <th>Y</th>\n",
       "      <th>Z</th>\n",
       "      <th>formation</th>\n",
       "    </tr>\n",
       "  </thead>\n",
       "  <tbody>\n",
       "    <tr>\n",
       "      <th>0</th>\n",
       "      <td>0.38</td>\n",
       "      <td>-0.03</td>\n",
       "      <td>0.92</td>\n",
       "      <td>14.94</td>\n",
       "      <td>10.0</td>\n",
       "      <td>-78.33</td>\n",
       "      <td>1.0</td>\n",
       "    </tr>\n",
       "    <tr>\n",
       "      <th>1</th>\n",
       "      <td>0.33</td>\n",
       "      <td>-0.03</td>\n",
       "      <td>0.94</td>\n",
       "      <td>14.94</td>\n",
       "      <td>10.0</td>\n",
       "      <td>-55.95</td>\n",
       "      <td>1.0</td>\n",
       "    </tr>\n",
       "    <tr>\n",
       "      <th>2</th>\n",
       "      <td>0.26</td>\n",
       "      <td>-0.03</td>\n",
       "      <td>0.96</td>\n",
       "      <td>14.94</td>\n",
       "      <td>10.0</td>\n",
       "      <td>-33.57</td>\n",
       "      <td>1.0</td>\n",
       "    </tr>\n",
       "    <tr>\n",
       "      <th>3</th>\n",
       "      <td>0.22</td>\n",
       "      <td>-0.02</td>\n",
       "      <td>0.98</td>\n",
       "      <td>14.94</td>\n",
       "      <td>10.0</td>\n",
       "      <td>-11.19</td>\n",
       "      <td>1.0</td>\n",
       "    </tr>\n",
       "    <tr>\n",
       "      <th>4</th>\n",
       "      <td>0.37</td>\n",
       "      <td>-0.04</td>\n",
       "      <td>0.93</td>\n",
       "      <td>14.94</td>\n",
       "      <td>30.0</td>\n",
       "      <td>-78.33</td>\n",
       "      <td>1.0</td>\n",
       "    </tr>\n",
       "    <tr>\n",
       "      <th>...</th>\n",
       "      <td>...</td>\n",
       "      <td>...</td>\n",
       "      <td>...</td>\n",
       "      <td>...</td>\n",
       "      <td>...</td>\n",
       "      <td>...</td>\n",
       "      <td>...</td>\n",
       "    </tr>\n",
       "    <tr>\n",
       "      <th>35119</th>\n",
       "      <td>-0.98</td>\n",
       "      <td>-0.19</td>\n",
       "      <td>0.10</td>\n",
       "      <td>1269.90</td>\n",
       "      <td>110.0</td>\n",
       "      <td>-234.99</td>\n",
       "      <td>3.0</td>\n",
       "    </tr>\n",
       "    <tr>\n",
       "      <th>35120</th>\n",
       "      <td>-0.98</td>\n",
       "      <td>-0.20</td>\n",
       "      <td>0.03</td>\n",
       "      <td>1269.90</td>\n",
       "      <td>110.0</td>\n",
       "      <td>-212.61</td>\n",
       "      <td>3.0</td>\n",
       "    </tr>\n",
       "    <tr>\n",
       "      <th>35121</th>\n",
       "      <td>-0.97</td>\n",
       "      <td>-0.22</td>\n",
       "      <td>-0.09</td>\n",
       "      <td>1269.90</td>\n",
       "      <td>110.0</td>\n",
       "      <td>-167.85</td>\n",
       "      <td>3.0</td>\n",
       "    </tr>\n",
       "    <tr>\n",
       "      <th>35122</th>\n",
       "      <td>-0.95</td>\n",
       "      <td>-0.27</td>\n",
       "      <td>-0.16</td>\n",
       "      <td>1269.90</td>\n",
       "      <td>110.0</td>\n",
       "      <td>-145.47</td>\n",
       "      <td>3.0</td>\n",
       "    </tr>\n",
       "    <tr>\n",
       "      <th>35123</th>\n",
       "      <td>-0.81</td>\n",
       "      <td>-0.36</td>\n",
       "      <td>0.47</td>\n",
       "      <td>1299.78</td>\n",
       "      <td>10.0</td>\n",
       "      <td>-145.47</td>\n",
       "      <td>3.0</td>\n",
       "    </tr>\n",
       "  </tbody>\n",
       "</table>\n",
       "<p>35124 rows × 7 columns</p>\n",
       "</div>"
      ],
      "text/plain": [
       "        G_x   G_y   G_z        X      Y       Z  formation\n",
       "0      0.38 -0.03  0.92    14.94   10.0  -78.33        1.0\n",
       "1      0.33 -0.03  0.94    14.94   10.0  -55.95        1.0\n",
       "2      0.26 -0.03  0.96    14.94   10.0  -33.57        1.0\n",
       "3      0.22 -0.02  0.98    14.94   10.0  -11.19        1.0\n",
       "4      0.37 -0.04  0.93    14.94   30.0  -78.33        1.0\n",
       "...     ...   ...   ...      ...    ...     ...        ...\n",
       "35119 -0.98 -0.19  0.10  1269.90  110.0 -234.99        3.0\n",
       "35120 -0.98 -0.20  0.03  1269.90  110.0 -212.61        3.0\n",
       "35121 -0.97 -0.22 -0.09  1269.90  110.0 -167.85        3.0\n",
       "35122 -0.95 -0.27 -0.16  1269.90  110.0 -145.47        3.0\n",
       "35123 -0.81 -0.36  0.47  1299.78   10.0 -145.47        3.0\n",
       "\n",
       "[35124 rows x 7 columns]"
      ]
     },
     "execution_count": 29,
     "metadata": {},
     "output_type": "execute_result"
    }
   ],
   "source": [
    "# join all the files into one dataframe\n",
    "path =r'data_extracted/ideal/'\n",
    "\n",
    "filenames = glob.glob(path + \"/*.csv\")\n",
    "\n",
    "dfs = []\n",
    "for filename in filenames:\n",
    "    dfs.append(pd.read_csv(filename))\n",
    "\n",
    "# Concatenate all domain data into one DataFrame for ideal case mesh grid\n",
    "ideal = pd.concat(dfs, ignore_index=True)\n",
    "#df.drop(df.columns[[0]], axis=1, inplace=True)\n",
    "\n",
    "#compare orientation data to ideal case data. Pick only the same cells in order to avoid basement data interference because\n",
    "#basement data is not needed for model construction\n",
    "df_same = orientations.merge(ideal, left_on=('X','Y','Z','formation'), right_on=('X','Y','Z','formation'), how='inner')\n",
    "df_same = df_same[df_same.formation != unit_count]\n",
    "df_same"
   ]
  },
  {
   "cell_type": "code",
   "execution_count": 79,
   "metadata": {},
   "outputs": [
    {
     "name": "stderr",
     "output_type": "stream",
     "text": [
      "  2%|▊                                         | 2/100 [00:07<05:47,  3.54s/it]\n"
     ]
    },
    {
     "ename": "KeyboardInterrupt",
     "evalue": "",
     "output_type": "error",
     "traceback": [
      "\u001b[1;31m---------------------------------------------------------------------------\u001b[0m",
      "\u001b[1;31mKeyboardInterrupt\u001b[0m                         Traceback (most recent call last)",
      "\u001b[1;32m<ipython-input-79-532ff88daeb3>\u001b[0m in \u001b[0;36m<module>\u001b[1;34m\u001b[0m\n\u001b[0;32m     21\u001b[0m     \u001b[1;32mreturn\u001b[0m \u001b[0mboreholes_dict\u001b[0m\u001b[1;33m\u001b[0m\u001b[1;33m\u001b[0m\u001b[0m\n\u001b[0;32m     22\u001b[0m \u001b[1;33m\u001b[0m\u001b[0m\n\u001b[1;32m---> 23\u001b[1;33m \u001b[0mboreholes_dict\u001b[0m\u001b[1;33m=\u001b[0m\u001b[0mboreholes\u001b[0m\u001b[1;33m(\u001b[0m\u001b[1;36m100\u001b[0m\u001b[1;33m)\u001b[0m\u001b[1;33m\u001b[0m\u001b[1;33m\u001b[0m\u001b[0m\n\u001b[0m\u001b[0;32m     24\u001b[0m \u001b[0mboreholes_all\u001b[0m\u001b[1;33m=\u001b[0m\u001b[0mpd\u001b[0m\u001b[1;33m.\u001b[0m\u001b[0mconcat\u001b[0m\u001b[1;33m(\u001b[0m\u001b[0mboreholes_dict\u001b[0m\u001b[1;33m.\u001b[0m\u001b[0mvalues\u001b[0m\u001b[1;33m(\u001b[0m\u001b[1;33m)\u001b[0m\u001b[1;33m,\u001b[0m \u001b[0mignore_index\u001b[0m\u001b[1;33m=\u001b[0m\u001b[1;32mTrue\u001b[0m\u001b[1;33m)\u001b[0m\u001b[1;33m\u001b[0m\u001b[1;33m\u001b[0m\u001b[0m\n",
      "\u001b[1;32m<ipython-input-79-532ff88daeb3>\u001b[0m in \u001b[0;36mboreholes\u001b[1;34m(b_count)\u001b[0m\n\u001b[0;32m      8\u001b[0m         \u001b[0mlist_temp\u001b[0m\u001b[1;33m=\u001b[0m\u001b[1;33m[\u001b[0m\u001b[1;33m]\u001b[0m\u001b[1;33m\u001b[0m\u001b[1;33m\u001b[0m\u001b[0m\n\u001b[0;32m      9\u001b[0m         \u001b[1;32mfor\u001b[0m \u001b[0mrow\u001b[0m \u001b[1;32min\u001b[0m \u001b[0mdf_same\u001b[0m\u001b[1;33m.\u001b[0m\u001b[0mitertuples\u001b[0m\u001b[1;33m(\u001b[0m\u001b[1;33m)\u001b[0m\u001b[1;33m:\u001b[0m\u001b[1;33m\u001b[0m\u001b[1;33m\u001b[0m\u001b[0m\n\u001b[1;32m---> 10\u001b[1;33m             \u001b[1;32mif\u001b[0m \u001b[1;33m(\u001b[0m\u001b[0mdf_same\u001b[0m\u001b[1;33m.\u001b[0m\u001b[0miloc\u001b[0m\u001b[1;33m[\u001b[0m\u001b[0mrand_ind\u001b[0m\u001b[1;33m[\u001b[0m\u001b[0mindex\u001b[0m\u001b[1;33m]\u001b[0m\u001b[1;33m]\u001b[0m\u001b[1;33m.\u001b[0m\u001b[0mX\u001b[0m\u001b[1;33m==\u001b[0m\u001b[0mrow\u001b[0m\u001b[1;33m.\u001b[0m\u001b[0mX\u001b[0m \u001b[1;32mand\u001b[0m \u001b[0mdf_same\u001b[0m\u001b[1;33m.\u001b[0m\u001b[0miloc\u001b[0m\u001b[1;33m[\u001b[0m\u001b[0mrand_ind\u001b[0m\u001b[1;33m[\u001b[0m\u001b[0mindex\u001b[0m\u001b[1;33m]\u001b[0m\u001b[1;33m]\u001b[0m\u001b[1;33m.\u001b[0m\u001b[0mY\u001b[0m\u001b[1;33m==\u001b[0m\u001b[0mrow\u001b[0m\u001b[1;33m.\u001b[0m\u001b[0mY\u001b[0m\u001b[1;33m)\u001b[0m\u001b[1;33m:\u001b[0m\u001b[1;33m\u001b[0m\u001b[1;33m\u001b[0m\u001b[0m\n\u001b[0m\u001b[0;32m     11\u001b[0m                 \u001b[0mlist_temp\u001b[0m\u001b[1;33m.\u001b[0m\u001b[0mappend\u001b[0m\u001b[1;33m(\u001b[0m\u001b[1;33m[\u001b[0m\u001b[0mrow\u001b[0m\u001b[1;33m.\u001b[0m\u001b[0mX\u001b[0m\u001b[1;33m,\u001b[0m\u001b[0mrow\u001b[0m\u001b[1;33m.\u001b[0m\u001b[0mY\u001b[0m\u001b[1;33m,\u001b[0m\u001b[0mrow\u001b[0m\u001b[1;33m.\u001b[0m\u001b[0mZ\u001b[0m\u001b[1;33m,\u001b[0m\u001b[0mrow\u001b[0m\u001b[1;33m.\u001b[0m\u001b[0mG_x\u001b[0m\u001b[1;33m,\u001b[0m \u001b[0mrow\u001b[0m\u001b[1;33m.\u001b[0m\u001b[0mG_y\u001b[0m\u001b[1;33m,\u001b[0m \u001b[0mrow\u001b[0m\u001b[1;33m.\u001b[0m\u001b[0mG_z\u001b[0m\u001b[1;33m,\u001b[0m \u001b[0mrow\u001b[0m\u001b[1;33m.\u001b[0m\u001b[0mformation\u001b[0m\u001b[1;33m]\u001b[0m\u001b[1;33m)\u001b[0m\u001b[1;33m\u001b[0m\u001b[1;33m\u001b[0m\u001b[0m\n\u001b[0;32m     12\u001b[0m \u001b[1;33m\u001b[0m\u001b[0m\n",
      "\u001b[1;32m~\\python\\lib\\site-packages\\pandas\\core\\indexing.py\u001b[0m in \u001b[0;36m__getitem__\u001b[1;34m(self, key)\u001b[0m\n\u001b[0;32m    893\u001b[0m \u001b[1;33m\u001b[0m\u001b[0m\n\u001b[0;32m    894\u001b[0m             \u001b[0mmaybe_callable\u001b[0m \u001b[1;33m=\u001b[0m \u001b[0mcom\u001b[0m\u001b[1;33m.\u001b[0m\u001b[0mapply_if_callable\u001b[0m\u001b[1;33m(\u001b[0m\u001b[0mkey\u001b[0m\u001b[1;33m,\u001b[0m \u001b[0mself\u001b[0m\u001b[1;33m.\u001b[0m\u001b[0mobj\u001b[0m\u001b[1;33m)\u001b[0m\u001b[1;33m\u001b[0m\u001b[1;33m\u001b[0m\u001b[0m\n\u001b[1;32m--> 895\u001b[1;33m             \u001b[1;32mreturn\u001b[0m \u001b[0mself\u001b[0m\u001b[1;33m.\u001b[0m\u001b[0m_getitem_axis\u001b[0m\u001b[1;33m(\u001b[0m\u001b[0mmaybe_callable\u001b[0m\u001b[1;33m,\u001b[0m \u001b[0maxis\u001b[0m\u001b[1;33m=\u001b[0m\u001b[0maxis\u001b[0m\u001b[1;33m)\u001b[0m\u001b[1;33m\u001b[0m\u001b[1;33m\u001b[0m\u001b[0m\n\u001b[0m\u001b[0;32m    896\u001b[0m \u001b[1;33m\u001b[0m\u001b[0m\n\u001b[0;32m    897\u001b[0m     \u001b[1;32mdef\u001b[0m \u001b[0m_is_scalar_access\u001b[0m\u001b[1;33m(\u001b[0m\u001b[0mself\u001b[0m\u001b[1;33m,\u001b[0m \u001b[0mkey\u001b[0m\u001b[1;33m:\u001b[0m \u001b[0mTuple\u001b[0m\u001b[1;33m)\u001b[0m\u001b[1;33m:\u001b[0m\u001b[1;33m\u001b[0m\u001b[1;33m\u001b[0m\u001b[0m\n",
      "\u001b[1;32m~\\python\\lib\\site-packages\\pandas\\core\\indexing.py\u001b[0m in \u001b[0;36m_getitem_axis\u001b[1;34m(self, key, axis)\u001b[0m\n\u001b[0;32m   1501\u001b[0m             \u001b[0mself\u001b[0m\u001b[1;33m.\u001b[0m\u001b[0m_validate_integer\u001b[0m\u001b[1;33m(\u001b[0m\u001b[0mkey\u001b[0m\u001b[1;33m,\u001b[0m \u001b[0maxis\u001b[0m\u001b[1;33m)\u001b[0m\u001b[1;33m\u001b[0m\u001b[1;33m\u001b[0m\u001b[0m\n\u001b[0;32m   1502\u001b[0m \u001b[1;33m\u001b[0m\u001b[0m\n\u001b[1;32m-> 1503\u001b[1;33m             \u001b[1;32mreturn\u001b[0m \u001b[0mself\u001b[0m\u001b[1;33m.\u001b[0m\u001b[0mobj\u001b[0m\u001b[1;33m.\u001b[0m\u001b[0m_ixs\u001b[0m\u001b[1;33m(\u001b[0m\u001b[0mkey\u001b[0m\u001b[1;33m,\u001b[0m \u001b[0maxis\u001b[0m\u001b[1;33m=\u001b[0m\u001b[0maxis\u001b[0m\u001b[1;33m)\u001b[0m\u001b[1;33m\u001b[0m\u001b[1;33m\u001b[0m\u001b[0m\n\u001b[0m\u001b[0;32m   1504\u001b[0m \u001b[1;33m\u001b[0m\u001b[0m\n\u001b[0;32m   1505\u001b[0m     \u001b[1;32mdef\u001b[0m \u001b[0m_get_slice_axis\u001b[0m\u001b[1;33m(\u001b[0m\u001b[0mself\u001b[0m\u001b[1;33m,\u001b[0m \u001b[0mslice_obj\u001b[0m\u001b[1;33m:\u001b[0m \u001b[0mslice\u001b[0m\u001b[1;33m,\u001b[0m \u001b[0maxis\u001b[0m\u001b[1;33m:\u001b[0m \u001b[0mint\u001b[0m\u001b[1;33m)\u001b[0m\u001b[1;33m:\u001b[0m\u001b[1;33m\u001b[0m\u001b[1;33m\u001b[0m\u001b[0m\n",
      "\u001b[1;32m~\\python\\lib\\site-packages\\pandas\\core\\frame.py\u001b[0m in \u001b[0;36m_ixs\u001b[1;34m(self, i, axis)\u001b[0m\n\u001b[0;32m   2949\u001b[0m             \u001b[1;31m# if we are a copy, mark as such\u001b[0m\u001b[1;33m\u001b[0m\u001b[1;33m\u001b[0m\u001b[1;33m\u001b[0m\u001b[0m\n\u001b[0;32m   2950\u001b[0m             \u001b[0mcopy\u001b[0m \u001b[1;33m=\u001b[0m \u001b[0misinstance\u001b[0m\u001b[1;33m(\u001b[0m\u001b[0mnew_values\u001b[0m\u001b[1;33m,\u001b[0m \u001b[0mnp\u001b[0m\u001b[1;33m.\u001b[0m\u001b[0mndarray\u001b[0m\u001b[1;33m)\u001b[0m \u001b[1;32mand\u001b[0m \u001b[0mnew_values\u001b[0m\u001b[1;33m.\u001b[0m\u001b[0mbase\u001b[0m \u001b[1;32mis\u001b[0m \u001b[1;32mNone\u001b[0m\u001b[1;33m\u001b[0m\u001b[1;33m\u001b[0m\u001b[0m\n\u001b[1;32m-> 2951\u001b[1;33m             result = self._constructor_sliced(\n\u001b[0m\u001b[0;32m   2952\u001b[0m                 \u001b[0mnew_values\u001b[0m\u001b[1;33m,\u001b[0m\u001b[1;33m\u001b[0m\u001b[1;33m\u001b[0m\u001b[0m\n\u001b[0;32m   2953\u001b[0m                 \u001b[0mindex\u001b[0m\u001b[1;33m=\u001b[0m\u001b[0mself\u001b[0m\u001b[1;33m.\u001b[0m\u001b[0mcolumns\u001b[0m\u001b[1;33m,\u001b[0m\u001b[1;33m\u001b[0m\u001b[1;33m\u001b[0m\u001b[0m\n",
      "\u001b[1;32m~\\python\\lib\\site-packages\\pandas\\core\\series.py\u001b[0m in \u001b[0;36m__init__\u001b[1;34m(self, data, index, dtype, name, copy, fastpath)\u001b[0m\n\u001b[0;32m    362\u001b[0m                     \u001b[0mdata\u001b[0m \u001b[1;33m=\u001b[0m \u001b[0mdata\u001b[0m\u001b[1;33m.\u001b[0m\u001b[0mcopy\u001b[0m\u001b[1;33m(\u001b[0m\u001b[1;33m)\u001b[0m\u001b[1;33m\u001b[0m\u001b[1;33m\u001b[0m\u001b[0m\n\u001b[0;32m    363\u001b[0m             \u001b[1;32melse\u001b[0m\u001b[1;33m:\u001b[0m\u001b[1;33m\u001b[0m\u001b[1;33m\u001b[0m\u001b[0m\n\u001b[1;32m--> 364\u001b[1;33m                 \u001b[0mdata\u001b[0m \u001b[1;33m=\u001b[0m \u001b[0msanitize_array\u001b[0m\u001b[1;33m(\u001b[0m\u001b[0mdata\u001b[0m\u001b[1;33m,\u001b[0m \u001b[0mindex\u001b[0m\u001b[1;33m,\u001b[0m \u001b[0mdtype\u001b[0m\u001b[1;33m,\u001b[0m \u001b[0mcopy\u001b[0m\u001b[1;33m,\u001b[0m \u001b[0mraise_cast_failure\u001b[0m\u001b[1;33m=\u001b[0m\u001b[1;32mTrue\u001b[0m\u001b[1;33m)\u001b[0m\u001b[1;33m\u001b[0m\u001b[1;33m\u001b[0m\u001b[0m\n\u001b[0m\u001b[0;32m    365\u001b[0m \u001b[1;33m\u001b[0m\u001b[0m\n\u001b[0;32m    366\u001b[0m                 \u001b[0mdata\u001b[0m \u001b[1;33m=\u001b[0m \u001b[0mSingleBlockManager\u001b[0m\u001b[1;33m.\u001b[0m\u001b[0mfrom_array\u001b[0m\u001b[1;33m(\u001b[0m\u001b[0mdata\u001b[0m\u001b[1;33m,\u001b[0m \u001b[0mindex\u001b[0m\u001b[1;33m)\u001b[0m\u001b[1;33m\u001b[0m\u001b[1;33m\u001b[0m\u001b[0m\n",
      "\u001b[1;32m~\\python\\lib\\site-packages\\pandas\\core\\construction.py\u001b[0m in \u001b[0;36msanitize_array\u001b[1;34m(data, index, dtype, copy, raise_cast_failure)\u001b[0m\n\u001b[0;32m    459\u001b[0m         \u001b[1;32melse\u001b[0m\u001b[1;33m:\u001b[0m\u001b[1;33m\u001b[0m\u001b[1;33m\u001b[0m\u001b[0m\n\u001b[0;32m    460\u001b[0m             \u001b[1;31m# we will try to copy be-definition here\u001b[0m\u001b[1;33m\u001b[0m\u001b[1;33m\u001b[0m\u001b[1;33m\u001b[0m\u001b[0m\n\u001b[1;32m--> 461\u001b[1;33m             \u001b[0msubarr\u001b[0m \u001b[1;33m=\u001b[0m \u001b[0m_try_cast\u001b[0m\u001b[1;33m(\u001b[0m\u001b[0mdata\u001b[0m\u001b[1;33m,\u001b[0m \u001b[0mdtype\u001b[0m\u001b[1;33m,\u001b[0m \u001b[0mcopy\u001b[0m\u001b[1;33m,\u001b[0m \u001b[0mraise_cast_failure\u001b[0m\u001b[1;33m)\u001b[0m\u001b[1;33m\u001b[0m\u001b[1;33m\u001b[0m\u001b[0m\n\u001b[0m\u001b[0;32m    462\u001b[0m \u001b[1;33m\u001b[0m\u001b[0m\n\u001b[0;32m    463\u001b[0m     \u001b[1;32melif\u001b[0m \u001b[0misinstance\u001b[0m\u001b[1;33m(\u001b[0m\u001b[0mdata\u001b[0m\u001b[1;33m,\u001b[0m \u001b[0mABCExtensionArray\u001b[0m\u001b[1;33m)\u001b[0m\u001b[1;33m:\u001b[0m\u001b[1;33m\u001b[0m\u001b[1;33m\u001b[0m\u001b[0m\n",
      "\u001b[1;32m~\\python\\lib\\site-packages\\pandas\\core\\construction.py\u001b[0m in \u001b[0;36m_try_cast\u001b[1;34m(arr, dtype, copy, raise_cast_failure)\u001b[0m\n\u001b[0;32m    588\u001b[0m             \u001b[0msubarr\u001b[0m \u001b[1;33m=\u001b[0m \u001b[0marr\u001b[0m\u001b[1;33m\u001b[0m\u001b[1;33m\u001b[0m\u001b[0m\n\u001b[0;32m    589\u001b[0m         \u001b[1;32melse\u001b[0m\u001b[1;33m:\u001b[0m\u001b[1;33m\u001b[0m\u001b[1;33m\u001b[0m\u001b[0m\n\u001b[1;32m--> 590\u001b[1;33m             \u001b[0msubarr\u001b[0m \u001b[1;33m=\u001b[0m \u001b[0mmaybe_cast_to_datetime\u001b[0m\u001b[1;33m(\u001b[0m\u001b[0marr\u001b[0m\u001b[1;33m,\u001b[0m \u001b[0mdtype\u001b[0m\u001b[1;33m)\u001b[0m\u001b[1;33m\u001b[0m\u001b[1;33m\u001b[0m\u001b[0m\n\u001b[0m\u001b[0;32m    591\u001b[0m \u001b[1;33m\u001b[0m\u001b[0m\n\u001b[0;32m    592\u001b[0m         \u001b[1;31m# Take care in creating object arrays (but iterators are not\u001b[0m\u001b[1;33m\u001b[0m\u001b[1;33m\u001b[0m\u001b[1;33m\u001b[0m\u001b[0m\n",
      "\u001b[1;32m~\\python\\lib\\site-packages\\pandas\\core\\dtypes\\cast.py\u001b[0m in \u001b[0;36mmaybe_cast_to_datetime\u001b[1;34m(value, dtype)\u001b[0m\n\u001b[0;32m   1382\u001b[0m     \u001b[0mnan\u001b[0m \u001b[0mto\u001b[0m \u001b[0miNaT\u001b[0m\u001b[1;33m\u001b[0m\u001b[1;33m\u001b[0m\u001b[0m\n\u001b[0;32m   1383\u001b[0m     \"\"\"\n\u001b[1;32m-> 1384\u001b[1;33m     \u001b[1;32mfrom\u001b[0m \u001b[0mpandas\u001b[0m\u001b[1;33m.\u001b[0m\u001b[0mcore\u001b[0m\u001b[1;33m.\u001b[0m\u001b[0mtools\u001b[0m\u001b[1;33m.\u001b[0m\u001b[0mdatetimes\u001b[0m \u001b[1;32mimport\u001b[0m \u001b[0mto_datetime\u001b[0m\u001b[1;33m\u001b[0m\u001b[1;33m\u001b[0m\u001b[0m\n\u001b[0m\u001b[0;32m   1385\u001b[0m     \u001b[1;32mfrom\u001b[0m \u001b[0mpandas\u001b[0m\u001b[1;33m.\u001b[0m\u001b[0mcore\u001b[0m\u001b[1;33m.\u001b[0m\u001b[0mtools\u001b[0m\u001b[1;33m.\u001b[0m\u001b[0mtimedeltas\u001b[0m \u001b[1;32mimport\u001b[0m \u001b[0mto_timedelta\u001b[0m\u001b[1;33m\u001b[0m\u001b[1;33m\u001b[0m\u001b[0m\n\u001b[0;32m   1386\u001b[0m \u001b[1;33m\u001b[0m\u001b[0m\n",
      "\u001b[1;31mKeyboardInterrupt\u001b[0m: "
     ]
    }
   ],
   "source": [
    "#drill boreholess!!\n",
    "def d_boreholes(b_count):\n",
    "    borehole_count=range(0,b_count,1)\n",
    "    rand_ind=random.sample(range(0,len(df_same)),b_count)\n",
    "    dict_all={}\n",
    "    boreholes_dict={}\n",
    "\n",
    "    for index in tqdm(borehole_count):\n",
    "        list_temp=[]\n",
    "        for row in df_same.itertuples():\n",
    "            if (df_same.iloc[rand_ind[index]].X==row.X and df_same.iloc[rand_ind[index]].Y==row.Y):\n",
    "                list_temp.append([row.X,row.Y,row.Z,row.G_x, row.G_y, row.G_z, row.formation])\n",
    "                \n",
    "        dict_all.update({index+1:list_temp})\n",
    "\n",
    "    for index in range(0,b_count,1): \n",
    "        data_temp = pd.DataFrame(dict_all[index+1])\n",
    "        data_temp.columns=['X','Y','Z','G_x','G_y','G_z','formation']\n",
    "        data_temp.loc[:, 'borehole']=index+1\n",
    "        boreholes_dict.update({index+1:data_temp})\n",
    "    return boreholes_dict\n",
    "\n",
    "#define desired number of boreholes\n",
    "boreholes_dict=d_boreholes(100)\n",
    "\n",
    "#join all borehole data into one dataframe\n",
    "df = pd.concat(boreholes_dict.values(), ignore_index=True)\n",
    "# boreholes_dict.to_csv('test100')\n",
    "\n",
    "#load joined csv dataset\n",
    "bore_count = df['borehole'].nunique()\n",
    "\n",
    "#create mesh grid and define vertices, convert it to a pyvista poly data\n",
    "vertices = df[['X', 'Y', 'Z']].values\n",
    "grid=pv.PolyData(vertices)\n",
    "grid['formation'] = df['formation'].values"
   ]
  },
  {
   "cell_type": "code",
   "execution_count": 234,
   "metadata": {},
   "outputs": [
    {
     "data": {
      "text/html": [
       "<div>\n",
       "<style scoped>\n",
       "    .dataframe tbody tr th:only-of-type {\n",
       "        vertical-align: middle;\n",
       "    }\n",
       "\n",
       "    .dataframe tbody tr th {\n",
       "        vertical-align: top;\n",
       "    }\n",
       "\n",
       "    .dataframe thead th {\n",
       "        text-align: right;\n",
       "    }\n",
       "</style>\n",
       "<table border=\"1\" class=\"dataframe\">\n",
       "  <thead>\n",
       "    <tr style=\"text-align: right;\">\n",
       "      <th></th>\n",
       "      <th>X</th>\n",
       "      <th>Y</th>\n",
       "      <th>Z</th>\n",
       "      <th>G_x</th>\n",
       "      <th>G_y</th>\n",
       "      <th>G_z</th>\n",
       "      <th>formation</th>\n",
       "      <th>borehole</th>\n",
       "    </tr>\n",
       "  </thead>\n",
       "  <tbody>\n",
       "    <tr>\n",
       "      <th>0</th>\n",
       "      <td>552.78</td>\n",
       "      <td>550.0</td>\n",
       "      <td>-100.71</td>\n",
       "      <td>7.57e-03</td>\n",
       "      <td>5.45e-03</td>\n",
       "      <td>1.00</td>\n",
       "      <td>Premine topo</td>\n",
       "      <td>1</td>\n",
       "    </tr>\n",
       "    <tr>\n",
       "      <th>1</th>\n",
       "      <td>552.78</td>\n",
       "      <td>550.0</td>\n",
       "      <td>-78.33</td>\n",
       "      <td>6.11e-03</td>\n",
       "      <td>7.38e-03</td>\n",
       "      <td>1.00</td>\n",
       "      <td>Premine topo</td>\n",
       "      <td>1</td>\n",
       "    </tr>\n",
       "    <tr>\n",
       "      <th>2</th>\n",
       "      <td>552.78</td>\n",
       "      <td>550.0</td>\n",
       "      <td>-55.95</td>\n",
       "      <td>5.45e-03</td>\n",
       "      <td>9.01e-03</td>\n",
       "      <td>1.00</td>\n",
       "      <td>Premine topo</td>\n",
       "      <td>1</td>\n",
       "    </tr>\n",
       "    <tr>\n",
       "      <th>3</th>\n",
       "      <td>552.78</td>\n",
       "      <td>550.0</td>\n",
       "      <td>-33.57</td>\n",
       "      <td>5.53e-03</td>\n",
       "      <td>1.03e-02</td>\n",
       "      <td>1.00</td>\n",
       "      <td>Premine topo</td>\n",
       "      <td>1</td>\n",
       "    </tr>\n",
       "    <tr>\n",
       "      <th>4</th>\n",
       "      <td>552.78</td>\n",
       "      <td>550.0</td>\n",
       "      <td>-11.19</td>\n",
       "      <td>6.33e-03</td>\n",
       "      <td>1.14e-02</td>\n",
       "      <td>1.00</td>\n",
       "      <td>Premine topo</td>\n",
       "      <td>1</td>\n",
       "    </tr>\n",
       "    <tr>\n",
       "      <th>...</th>\n",
       "      <td>...</td>\n",
       "      <td>...</td>\n",
       "      <td>...</td>\n",
       "      <td>...</td>\n",
       "      <td>...</td>\n",
       "      <td>...</td>\n",
       "      <td>...</td>\n",
       "      <td>...</td>\n",
       "    </tr>\n",
       "    <tr>\n",
       "      <th>3127</th>\n",
       "      <td>493.02</td>\n",
       "      <td>110.0</td>\n",
       "      <td>-861.63</td>\n",
       "      <td>7.59e-01</td>\n",
       "      <td>-2.70e-02</td>\n",
       "      <td>-0.65</td>\n",
       "      <td>Equigranular Monzonite</td>\n",
       "      <td>99</td>\n",
       "    </tr>\n",
       "    <tr>\n",
       "      <th>3128</th>\n",
       "      <td>493.02</td>\n",
       "      <td>110.0</td>\n",
       "      <td>-839.25</td>\n",
       "      <td>8.02e-01</td>\n",
       "      <td>-2.89e-03</td>\n",
       "      <td>-0.60</td>\n",
       "      <td>Equigranular Monzonite</td>\n",
       "      <td>99</td>\n",
       "    </tr>\n",
       "    <tr>\n",
       "      <th>3129</th>\n",
       "      <td>493.02</td>\n",
       "      <td>110.0</td>\n",
       "      <td>-816.87</td>\n",
       "      <td>8.45e-01</td>\n",
       "      <td>1.75e-02</td>\n",
       "      <td>-0.53</td>\n",
       "      <td>Equigranular Monzonite</td>\n",
       "      <td>99</td>\n",
       "    </tr>\n",
       "    <tr>\n",
       "      <th>3130</th>\n",
       "      <td>493.02</td>\n",
       "      <td>110.0</td>\n",
       "      <td>-414.03</td>\n",
       "      <td>9.42e-01</td>\n",
       "      <td>3.88e-02</td>\n",
       "      <td>-0.33</td>\n",
       "      <td>Equigranular Monzonite</td>\n",
       "      <td>99</td>\n",
       "    </tr>\n",
       "    <tr>\n",
       "      <th>3131</th>\n",
       "      <td>493.02</td>\n",
       "      <td>110.0</td>\n",
       "      <td>-391.65</td>\n",
       "      <td>9.26e-01</td>\n",
       "      <td>-2.16e-05</td>\n",
       "      <td>-0.38</td>\n",
       "      <td>Equigranular Monzonite</td>\n",
       "      <td>99</td>\n",
       "    </tr>\n",
       "  </tbody>\n",
       "</table>\n",
       "<p>3132 rows × 8 columns</p>\n",
       "</div>"
      ],
      "text/plain": [
       "           X      Y       Z       G_x       G_y   G_z               formation  \\\n",
       "0     552.78  550.0 -100.71  7.57e-03  5.45e-03  1.00            Premine topo   \n",
       "1     552.78  550.0  -78.33  6.11e-03  7.38e-03  1.00            Premine topo   \n",
       "2     552.78  550.0  -55.95  5.45e-03  9.01e-03  1.00            Premine topo   \n",
       "3     552.78  550.0  -33.57  5.53e-03  1.03e-02  1.00            Premine topo   \n",
       "4     552.78  550.0  -11.19  6.33e-03  1.14e-02  1.00            Premine topo   \n",
       "...      ...    ...     ...       ...       ...   ...                     ...   \n",
       "3127  493.02  110.0 -861.63  7.59e-01 -2.70e-02 -0.65  Equigranular Monzonite   \n",
       "3128  493.02  110.0 -839.25  8.02e-01 -2.89e-03 -0.60  Equigranular Monzonite   \n",
       "3129  493.02  110.0 -816.87  8.45e-01  1.75e-02 -0.53  Equigranular Monzonite   \n",
       "3130  493.02  110.0 -414.03  9.42e-01  3.88e-02 -0.33  Equigranular Monzonite   \n",
       "3131  493.02  110.0 -391.65  9.26e-01 -2.16e-05 -0.38  Equigranular Monzonite   \n",
       "\n",
       "      borehole  \n",
       "0            1  \n",
       "1            1  \n",
       "2            1  \n",
       "3            1  \n",
       "4            1  \n",
       "...        ...  \n",
       "3127        99  \n",
       "3128        99  \n",
       "3129        99  \n",
       "3130        99  \n",
       "3131        99  \n",
       "\n",
       "[3132 rows x 8 columns]"
      ]
     },
     "execution_count": 234,
     "metadata": {},
     "output_type": "execute_result"
    }
   ],
   "source": [
    "unit=('Premine topo','Quartz monzonite porphyry','Equigranular Monzonite')\n",
    "for index in range(1,unit_count):\n",
    "    df['formation'] = df.loc[:,'formation'].replace(index,unit[index-1])\n",
    "#df[df['formation']=='Quartz monzonite porphyry'] #- just for checking the dataset\n",
    "df"
   ]
  },
  {
   "cell_type": "code",
   "execution_count": 76,
   "metadata": {},
   "outputs": [
    {
     "name": "stderr",
     "output_type": "stream",
     "text": [
      "C:\\Users\\pasha\\python\\lib\\site-packages\\pyvista\\plotting\\plotting.py:1354: PyvistaDeprecationWarning: \n",
      "\"stitle\" is a depreciated keyword and will be removed in a future\n",
      "release.\n",
      "\n",
      "Use ``scalar_bar_args`` instead.  For example:\n",
      "\n",
      "scalar_bar_args={'title': 'Scalar Bar Title'}\n",
      "\n",
      "  warnings.warn(USE_SCALAR_BAR_ARGS, PyvistaDeprecationWarning)\n"
     ]
    },
    {
     "data": {
      "text/plain": [
       "(vtkmodules.vtkRenderingOpenGL2.vtkOpenGLActor)0000028D4BCE2DC0"
      ]
     },
     "execution_count": 76,
     "metadata": {},
     "output_type": "execute_result"
    }
   ],
   "source": [
    "p = pvqt.BackgroundPlotter()\n",
    "gpv = gp.plot_3d(geo_data, plotter_type='background', show_data=False, show_lith=True, show_surfaces=True,\n",
    "                kwargs_plot_structured_grid={'opacity': .3})\n",
    "\n",
    "#creating the grade mesh calculated with kriging (colormap) \n",
    "gpv.p.add_mesh(grid, scalars='formation', opacity=1, cmap='Paired', point_size=10)"
   ]
  },
  {
   "cell_type": "markdown",
   "metadata": {},
   "source": [
    "Reduce extracted data points"
   ]
  },
  {
   "cell_type": "code",
   "execution_count": 235,
   "metadata": {
    "scrolled": false
   },
   "outputs": [
    {
     "data": {
      "text/html": [
       "<div>\n",
       "<style scoped>\n",
       "    .dataframe tbody tr th:only-of-type {\n",
       "        vertical-align: middle;\n",
       "    }\n",
       "\n",
       "    .dataframe tbody tr th {\n",
       "        vertical-align: top;\n",
       "    }\n",
       "\n",
       "    .dataframe thead th {\n",
       "        text-align: right;\n",
       "    }\n",
       "</style>\n",
       "<table border=\"1\" class=\"dataframe\">\n",
       "  <thead>\n",
       "    <tr style=\"text-align: right;\">\n",
       "      <th></th>\n",
       "      <th>X</th>\n",
       "      <th>Y</th>\n",
       "      <th>Z</th>\n",
       "      <th>G_x</th>\n",
       "      <th>G_y</th>\n",
       "      <th>G_z</th>\n",
       "      <th>formation</th>\n",
       "    </tr>\n",
       "  </thead>\n",
       "  <tbody>\n",
       "    <tr>\n",
       "      <th>0</th>\n",
       "      <td>552.78</td>\n",
       "      <td>550.0</td>\n",
       "      <td>-1107.81</td>\n",
       "      <td>2.71e-01</td>\n",
       "      <td>-9.39e-01</td>\n",
       "      <td>-0.21</td>\n",
       "      <td>Equigranular Monzonite</td>\n",
       "    </tr>\n",
       "    <tr>\n",
       "      <th>1</th>\n",
       "      <td>552.78</td>\n",
       "      <td>550.0</td>\n",
       "      <td>-100.71</td>\n",
       "      <td>7.57e-03</td>\n",
       "      <td>5.45e-03</td>\n",
       "      <td>1.00</td>\n",
       "      <td>Premine topo</td>\n",
       "    </tr>\n",
       "    <tr>\n",
       "      <th>2</th>\n",
       "      <td>552.78</td>\n",
       "      <td>990.0</td>\n",
       "      <td>-78.33</td>\n",
       "      <td>1.38e-01</td>\n",
       "      <td>-1.26e-02</td>\n",
       "      <td>0.99</td>\n",
       "      <td>Premine topo</td>\n",
       "    </tr>\n",
       "    <tr>\n",
       "      <th>3</th>\n",
       "      <td>552.78</td>\n",
       "      <td>490.0</td>\n",
       "      <td>-1107.81</td>\n",
       "      <td>2.69e-01</td>\n",
       "      <td>-9.35e-01</td>\n",
       "      <td>-0.23</td>\n",
       "      <td>Equigranular Monzonite</td>\n",
       "    </tr>\n",
       "    <tr>\n",
       "      <th>4</th>\n",
       "      <td>552.78</td>\n",
       "      <td>490.0</td>\n",
       "      <td>-100.71</td>\n",
       "      <td>-2.53e-02</td>\n",
       "      <td>1.23e-02</td>\n",
       "      <td>1.00</td>\n",
       "      <td>Premine topo</td>\n",
       "    </tr>\n",
       "    <tr>\n",
       "      <th>...</th>\n",
       "      <td>...</td>\n",
       "      <td>...</td>\n",
       "      <td>...</td>\n",
       "      <td>...</td>\n",
       "      <td>...</td>\n",
       "      <td>...</td>\n",
       "      <td>...</td>\n",
       "    </tr>\n",
       "    <tr>\n",
       "      <th>189</th>\n",
       "      <td>493.02</td>\n",
       "      <td>110.0</td>\n",
       "      <td>-1107.81</td>\n",
       "      <td>6.37e-01</td>\n",
       "      <td>-3.96e-01</td>\n",
       "      <td>-0.66</td>\n",
       "      <td>Equigranular Monzonite</td>\n",
       "    </tr>\n",
       "    <tr>\n",
       "      <th>190</th>\n",
       "      <td>493.02</td>\n",
       "      <td>110.0</td>\n",
       "      <td>-78.33</td>\n",
       "      <td>-4.21e-01</td>\n",
       "      <td>4.14e-02</td>\n",
       "      <td>0.91</td>\n",
       "      <td>Premine topo</td>\n",
       "    </tr>\n",
       "    <tr>\n",
       "      <th>191</th>\n",
       "      <td>493.02</td>\n",
       "      <td>110.0</td>\n",
       "      <td>-794.49</td>\n",
       "      <td>-9.17e-01</td>\n",
       "      <td>-3.04e-01</td>\n",
       "      <td>0.26</td>\n",
       "      <td>Quartz monzonite porphyry</td>\n",
       "    </tr>\n",
       "    <tr>\n",
       "      <th>192</th>\n",
       "      <td>164.34</td>\n",
       "      <td>70.0</td>\n",
       "      <td>-1107.81</td>\n",
       "      <td>9.74e-01</td>\n",
       "      <td>-1.07e-01</td>\n",
       "      <td>-0.20</td>\n",
       "      <td>Equigranular Monzonite</td>\n",
       "    </tr>\n",
       "    <tr>\n",
       "      <th>193</th>\n",
       "      <td>164.34</td>\n",
       "      <td>70.0</td>\n",
       "      <td>-100.71</td>\n",
       "      <td>2.74e-01</td>\n",
       "      <td>7.78e-02</td>\n",
       "      <td>0.96</td>\n",
       "      <td>Premine topo</td>\n",
       "    </tr>\n",
       "  </tbody>\n",
       "</table>\n",
       "<p>194 rows × 7 columns</p>\n",
       "</div>"
      ],
      "text/plain": [
       "          X      Y        Z       G_x       G_y   G_z  \\\n",
       "0    552.78  550.0 -1107.81  2.71e-01 -9.39e-01 -0.21   \n",
       "1    552.78  550.0  -100.71  7.57e-03  5.45e-03  1.00   \n",
       "2    552.78  990.0   -78.33  1.38e-01 -1.26e-02  0.99   \n",
       "3    552.78  490.0 -1107.81  2.69e-01 -9.35e-01 -0.23   \n",
       "4    552.78  490.0  -100.71 -2.53e-02  1.23e-02  1.00   \n",
       "..      ...    ...      ...       ...       ...   ...   \n",
       "189  493.02  110.0 -1107.81  6.37e-01 -3.96e-01 -0.66   \n",
       "190  493.02  110.0   -78.33 -4.21e-01  4.14e-02  0.91   \n",
       "191  493.02  110.0  -794.49 -9.17e-01 -3.04e-01  0.26   \n",
       "192  164.34   70.0 -1107.81  9.74e-01 -1.07e-01 -0.20   \n",
       "193  164.34   70.0  -100.71  2.74e-01  7.78e-02  0.96   \n",
       "\n",
       "                     formation  \n",
       "0       Equigranular Monzonite  \n",
       "1                 Premine topo  \n",
       "2                 Premine topo  \n",
       "3       Equigranular Monzonite  \n",
       "4                 Premine topo  \n",
       "..                         ...  \n",
       "189     Equigranular Monzonite  \n",
       "190               Premine topo  \n",
       "191  Quartz monzonite porphyry  \n",
       "192     Equigranular Monzonite  \n",
       "193               Premine topo  \n",
       "\n",
       "[194 rows x 7 columns]"
      ]
     },
     "execution_count": 235,
     "metadata": {},
     "output_type": "execute_result"
    }
   ],
   "source": [
    "#picking lowermost boundary for each formation through the borehole data \n",
    "\n",
    "dict_all=[]\n",
    "list_temp=[]\n",
    "\n",
    "for br in range(1,bore_count+1,1):\n",
    "    for fr in range(1,form_count+1,1):\n",
    "          list_temp.append(df[(df['borehole']==br) & (df['formation']==unit[fr-2])])\n",
    "list_temp2=[]\n",
    "for i in list_temp:\n",
    "    if(not i.empty):\n",
    "        list_temp2.append(i.iloc[0])\n",
    "df_b=pd.DataFrame(list_temp2, index=range(0,len(list_temp2),1))\n",
    "del df_b['borehole']\n",
    "df_b"
   ]
  },
  {
   "cell_type": "code",
   "execution_count": 236,
   "metadata": {},
   "outputs": [
    {
     "data": {
      "text/html": [
       "<div>\n",
       "<style scoped>\n",
       "    .dataframe tbody tr th:only-of-type {\n",
       "        vertical-align: middle;\n",
       "    }\n",
       "\n",
       "    .dataframe tbody tr th {\n",
       "        vertical-align: top;\n",
       "    }\n",
       "\n",
       "    .dataframe thead th {\n",
       "        text-align: right;\n",
       "    }\n",
       "</style>\n",
       "<table border=\"1\" class=\"dataframe\">\n",
       "  <thead>\n",
       "    <tr style=\"text-align: right;\">\n",
       "      <th></th>\n",
       "      <th>X</th>\n",
       "      <th>Y</th>\n",
       "      <th>Z</th>\n",
       "      <th>G_x</th>\n",
       "      <th>G_y</th>\n",
       "      <th>G_z</th>\n",
       "      <th>formation</th>\n",
       "    </tr>\n",
       "  </thead>\n",
       "  <tbody>\n",
       "    <tr>\n",
       "      <th>96</th>\n",
       "      <td>791.82</td>\n",
       "      <td>170.0</td>\n",
       "      <td>-55.95</td>\n",
       "      <td>0.01</td>\n",
       "      <td>0.08</td>\n",
       "      <td>1.00</td>\n",
       "      <td>Premine topo</td>\n",
       "    </tr>\n",
       "    <tr>\n",
       "      <th>128</th>\n",
       "      <td>881.46</td>\n",
       "      <td>390.0</td>\n",
       "      <td>-100.71</td>\n",
       "      <td>0.11</td>\n",
       "      <td>0.07</td>\n",
       "      <td>0.99</td>\n",
       "      <td>Premine topo</td>\n",
       "    </tr>\n",
       "    <tr>\n",
       "      <th>126</th>\n",
       "      <td>1329.66</td>\n",
       "      <td>30.0</td>\n",
       "      <td>-100.71</td>\n",
       "      <td>-0.36</td>\n",
       "      <td>-0.13</td>\n",
       "      <td>0.93</td>\n",
       "      <td>Premine topo</td>\n",
       "    </tr>\n",
       "    <tr>\n",
       "      <th>125</th>\n",
       "      <td>463.14</td>\n",
       "      <td>990.0</td>\n",
       "      <td>-78.33</td>\n",
       "      <td>0.15</td>\n",
       "      <td>-0.02</td>\n",
       "      <td>0.99</td>\n",
       "      <td>Premine topo</td>\n",
       "    </tr>\n",
       "    <tr>\n",
       "      <th>124</th>\n",
       "      <td>821.70</td>\n",
       "      <td>330.0</td>\n",
       "      <td>-78.33</td>\n",
       "      <td>0.08</td>\n",
       "      <td>0.09</td>\n",
       "      <td>0.99</td>\n",
       "      <td>Premine topo</td>\n",
       "    </tr>\n",
       "    <tr>\n",
       "      <th>...</th>\n",
       "      <td>...</td>\n",
       "      <td>...</td>\n",
       "      <td>...</td>\n",
       "      <td>...</td>\n",
       "      <td>...</td>\n",
       "      <td>...</td>\n",
       "      <td>...</td>\n",
       "    </tr>\n",
       "    <tr>\n",
       "      <th>107</th>\n",
       "      <td>463.14</td>\n",
       "      <td>510.0</td>\n",
       "      <td>-1107.81</td>\n",
       "      <td>0.61</td>\n",
       "      <td>-0.76</td>\n",
       "      <td>-0.23</td>\n",
       "      <td>Equigranular Monzonite</td>\n",
       "    </tr>\n",
       "    <tr>\n",
       "      <th>105</th>\n",
       "      <td>403.38</td>\n",
       "      <td>330.0</td>\n",
       "      <td>-1107.81</td>\n",
       "      <td>0.79</td>\n",
       "      <td>-0.55</td>\n",
       "      <td>-0.28</td>\n",
       "      <td>Equigranular Monzonite</td>\n",
       "    </tr>\n",
       "    <tr>\n",
       "      <th>47</th>\n",
       "      <td>851.58</td>\n",
       "      <td>410.0</td>\n",
       "      <td>-1107.81</td>\n",
       "      <td>-0.92</td>\n",
       "      <td>-0.40</td>\n",
       "      <td>0.01</td>\n",
       "      <td>Equigranular Monzonite</td>\n",
       "    </tr>\n",
       "    <tr>\n",
       "      <th>117</th>\n",
       "      <td>522.90</td>\n",
       "      <td>410.0</td>\n",
       "      <td>-1107.81</td>\n",
       "      <td>0.42</td>\n",
       "      <td>-0.86</td>\n",
       "      <td>-0.29</td>\n",
       "      <td>Equigranular Monzonite</td>\n",
       "    </tr>\n",
       "    <tr>\n",
       "      <th>0</th>\n",
       "      <td>552.78</td>\n",
       "      <td>550.0</td>\n",
       "      <td>-1107.81</td>\n",
       "      <td>0.27</td>\n",
       "      <td>-0.94</td>\n",
       "      <td>-0.21</td>\n",
       "      <td>Equigranular Monzonite</td>\n",
       "    </tr>\n",
       "  </tbody>\n",
       "</table>\n",
       "<p>194 rows × 7 columns</p>\n",
       "</div>"
      ],
      "text/plain": [
       "           X      Y        Z   G_x   G_y   G_z               formation\n",
       "96    791.82  170.0   -55.95  0.01  0.08  1.00            Premine topo\n",
       "128   881.46  390.0  -100.71  0.11  0.07  0.99            Premine topo\n",
       "126  1329.66   30.0  -100.71 -0.36 -0.13  0.93            Premine topo\n",
       "125   463.14  990.0   -78.33  0.15 -0.02  0.99            Premine topo\n",
       "124   821.70  330.0   -78.33  0.08  0.09  0.99            Premine topo\n",
       "..       ...    ...      ...   ...   ...   ...                     ...\n",
       "107   463.14  510.0 -1107.81  0.61 -0.76 -0.23  Equigranular Monzonite\n",
       "105   403.38  330.0 -1107.81  0.79 -0.55 -0.28  Equigranular Monzonite\n",
       "47    851.58  410.0 -1107.81 -0.92 -0.40  0.01  Equigranular Monzonite\n",
       "117   522.90  410.0 -1107.81  0.42 -0.86 -0.29  Equigranular Monzonite\n",
       "0     552.78  550.0 -1107.81  0.27 -0.94 -0.21  Equigranular Monzonite\n",
       "\n",
       "[194 rows x 7 columns]"
      ]
     },
     "execution_count": 236,
     "metadata": {},
     "output_type": "execute_result"
    }
   ],
   "source": [
    "# joined=pd.concat([df_b,df_f])\n",
    "# #joined[joined['formation']=='pipe']\n",
    "t = pd.CategoricalDtype(categories=['Premine topo','Quartz monzonite porphyry','Equigranular Monzonite'], ordered=True)\n",
    "df_b['formation']=pd.Series(df_b.formation, dtype=t)\n",
    "df_b.sort_values(by=['formation'],inplace=True)\n",
    "df_b"
   ]
  },
  {
   "cell_type": "code",
   "execution_count": 237,
   "metadata": {},
   "outputs": [],
   "source": [
    "df_b.to_csv(r'data_all_test100.csv', index = False)"
   ]
  },
  {
   "cell_type": "code",
   "execution_count": null,
   "metadata": {},
   "outputs": [],
   "source": []
  }
 ],
 "metadata": {
  "kernelspec": {
   "display_name": "Python 3",
   "language": "python",
   "name": "python3"
  },
  "language_info": {
   "codemirror_mode": {
    "name": "ipython",
    "version": 3
   },
   "file_extension": ".py",
   "mimetype": "text/x-python",
   "name": "python",
   "nbconvert_exporter": "python",
   "pygments_lexer": "ipython3",
   "version": "3.8.8"
  }
 },
 "nbformat": 4,
 "nbformat_minor": 1
}
