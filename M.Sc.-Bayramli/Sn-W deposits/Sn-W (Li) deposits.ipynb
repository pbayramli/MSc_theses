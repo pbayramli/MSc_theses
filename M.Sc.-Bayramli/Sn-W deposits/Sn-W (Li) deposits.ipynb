{
 "cells": [
  {
   "cell_type": "markdown",
   "metadata": {},
   "source": [
    "Importing gempy\n",
    "\n"
   ]
  },
  {
   "cell_type": "code",
   "execution_count": 1,
   "metadata": {},
   "outputs": [
    {
     "name": "stdout",
     "output_type": "stream",
     "text": [
      "No module named 'osgeo'\n"
     ]
    },
    {
     "name": "stderr",
     "output_type": "stream",
     "text": [
      "WARNING (theano.configdefaults): g++ not available, if using conda: `conda install m2w64-toolchain`\n",
      "C:\\Users\\pasha\\python\\lib\\site-packages\\theano\\configdefaults.py:560: UserWarning: DeprecationWarning: there is no c++ compiler.This is deprecated and with Theano 0.11 a c++ compiler will be mandatory\n",
      "  warnings.warn(\"DeprecationWarning: there is no c++ compiler.\"\n",
      "WARNING (theano.configdefaults): g++ not detected ! Theano will be unable to execute optimized C-implementations (for both CPU and GPU) and will default to Python implementations. Performance will be severely degraded. To remove this warning, set Theano flags cxx to an empty string.\n",
      "WARNING (theano.tensor.blas): Using NumPy C-API based implementation for BLAS functions.\n"
     ]
    }
   ],
   "source": [
    "# Aux imports\n",
    "import gempy as gp\n",
    "import numpy as np\n",
    "import pandas as pd\n",
    "import os\n",
    "import pickle\n",
    "import matplotlib.pyplot as plt\n",
    "import gstools as gs\n",
    "import pyvista as pv\n",
    "import pyvistaqt as pvqt\n",
    "import PVGeo\n",
    "import glob\n",
    "import random\n",
    "from tqdm import tqdm\n",
    "from numpy import cross, eye, dot\n",
    "from scipy.linalg import expm, norm\n",
    "from sklearn import preprocessing\n",
    "from pyvista import set_plot_theme\n",
    "np.random.seed(1515)\n",
    "pd.set_option('precision', 2)\n",
    "%matplotlib inline\n",
    "set_plot_theme('document')"
   ]
  },
  {
   "cell_type": "markdown",
   "metadata": {},
   "source": [
    "We import a model from an existing folder, representing a subduction\n",
    "zone with onlap relationships. The theano function is automatically\n",
    "recombined to allow changes.\n",
    "\n",
    "\n"
   ]
  },
  {
   "cell_type": "code",
   "execution_count": 22,
   "metadata": {},
   "outputs": [
    {
     "name": "stdout",
     "output_type": "stream",
     "text": [
      " mesh size: 1728000\n"
     ]
    }
   ],
   "source": [
    "#define resolution and mesh size\n",
    "reso=[120, 120, 120]\n",
    "mesh_size = reso[0]*reso[1]*reso[2]\n",
    "extent=[0, 2021, 0, 1000, -617, 100]\n",
    "print(' mesh size: ' + str(mesh_size))"
   ]
  },
  {
   "cell_type": "code",
   "execution_count": 23,
   "metadata": {
    "scrolled": true
   },
   "outputs": [
    {
     "name": "stdout",
     "output_type": "stream",
     "text": [
      "Active grids: ['regular']\n"
     ]
    }
   ],
   "source": [
    "geo_data = gp.create_data('foresets', extent=extent, resolution=reso,\n",
    "                          path_o=\"2_orientation_data_all.csv\",\n",
    "                          path_i=\"1_point_data_all.csv\")"
   ]
  },
  {
   "cell_type": "code",
   "execution_count": 24,
   "metadata": {},
   "outputs": [
    {
     "data": {
      "text/html": [
       "<style  type=\"text/css\" >\n",
       "#T_7a5d7_row0_col3{\n",
       "            background-color:  #015482;\n",
       "        }#T_7a5d7_row1_col3{\n",
       "            background-color:  #9f0052;\n",
       "        }#T_7a5d7_row2_col3{\n",
       "            background-color:  #ffbe00;\n",
       "        }#T_7a5d7_row3_col3{\n",
       "            background-color:  #728f02;\n",
       "        }#T_7a5d7_row4_col3{\n",
       "            background-color:  #443988;\n",
       "        }#T_7a5d7_row5_col3{\n",
       "            background-color:  #ff3f20;\n",
       "        }</style><table id=\"T_7a5d7_\" ><thead>    <tr>        <th class=\"blank level0\" ></th>        <th class=\"col_heading level0 col0\" >surface</th>        <th class=\"col_heading level0 col1\" >series</th>        <th class=\"col_heading level0 col2\" >order_surfaces</th>        <th class=\"col_heading level0 col3\" >color</th>        <th class=\"col_heading level0 col4\" >id</th>    </tr></thead><tbody>\n",
       "                <tr>\n",
       "                        <th id=\"T_7a5d7_level0_row0\" class=\"row_heading level0 row0\" >0</th>\n",
       "                        <td id=\"T_7a5d7_row0_col0\" class=\"data row0 col0\" >topo</td>\n",
       "                        <td id=\"T_7a5d7_row0_col1\" class=\"data row0 col1\" >Strat_Series1</td>\n",
       "                        <td id=\"T_7a5d7_row0_col2\" class=\"data row0 col2\" >1</td>\n",
       "                        <td id=\"T_7a5d7_row0_col3\" class=\"data row0 col3\" >#015482</td>\n",
       "                        <td id=\"T_7a5d7_row0_col4\" class=\"data row0 col4\" >1</td>\n",
       "            </tr>\n",
       "            <tr>\n",
       "                        <th id=\"T_7a5d7_level0_row1\" class=\"row_heading level0 row1\" >1</th>\n",
       "                        <td id=\"T_7a5d7_row1_col0\" class=\"data row1 col0\" >overburden</td>\n",
       "                        <td id=\"T_7a5d7_row1_col1\" class=\"data row1 col1\" >Strat_Series2</td>\n",
       "                        <td id=\"T_7a5d7_row1_col2\" class=\"data row1 col2\" >1</td>\n",
       "                        <td id=\"T_7a5d7_row1_col3\" class=\"data row1 col3\" >#9f0052</td>\n",
       "                        <td id=\"T_7a5d7_row1_col4\" class=\"data row1 col4\" >2</td>\n",
       "            </tr>\n",
       "            <tr>\n",
       "                        <th id=\"T_7a5d7_level0_row2\" class=\"row_heading level0 row2\" >2</th>\n",
       "                        <td id=\"T_7a5d7_row2_col0\" class=\"data row2 col0\" >rhyolite</td>\n",
       "                        <td id=\"T_7a5d7_row2_col1\" class=\"data row2 col1\" >Strat_Series3</td>\n",
       "                        <td id=\"T_7a5d7_row2_col2\" class=\"data row2 col2\" >1</td>\n",
       "                        <td id=\"T_7a5d7_row2_col3\" class=\"data row2 col3\" >#ffbe00</td>\n",
       "                        <td id=\"T_7a5d7_row2_col4\" class=\"data row2 col4\" >3</td>\n",
       "            </tr>\n",
       "            <tr>\n",
       "                        <th id=\"T_7a5d7_level0_row3\" class=\"row_heading level0 row3\" >3</th>\n",
       "                        <td id=\"T_7a5d7_row3_col0\" class=\"data row3 col0\" >zinnwaiditegranite</td>\n",
       "                        <td id=\"T_7a5d7_row3_col1\" class=\"data row3 col1\" >Strat_Series3</td>\n",
       "                        <td id=\"T_7a5d7_row3_col2\" class=\"data row3 col2\" >2</td>\n",
       "                        <td id=\"T_7a5d7_row3_col3\" class=\"data row3 col3\" >#728f02</td>\n",
       "                        <td id=\"T_7a5d7_row3_col4\" class=\"data row3 col4\" >4</td>\n",
       "            </tr>\n",
       "            <tr>\n",
       "                        <th id=\"T_7a5d7_level0_row4\" class=\"row_heading level0 row4\" >4</th>\n",
       "                        <td id=\"T_7a5d7_row4_col0\" class=\"data row4 col0\" >lowmicagranite</td>\n",
       "                        <td id=\"T_7a5d7_row4_col1\" class=\"data row4 col1\" >Strat_Series3</td>\n",
       "                        <td id=\"T_7a5d7_row4_col2\" class=\"data row4 col2\" >3</td>\n",
       "                        <td id=\"T_7a5d7_row4_col3\" class=\"data row4 col3\" >#443988</td>\n",
       "                        <td id=\"T_7a5d7_row4_col4\" class=\"data row4 col4\" >5</td>\n",
       "            </tr>\n",
       "            <tr>\n",
       "                        <th id=\"T_7a5d7_level0_row5\" class=\"row_heading level0 row5\" >5</th>\n",
       "                        <td id=\"T_7a5d7_row5_col0\" class=\"data row5 col0\" >basement</td>\n",
       "                        <td id=\"T_7a5d7_row5_col1\" class=\"data row5 col1\" >Basement</td>\n",
       "                        <td id=\"T_7a5d7_row5_col2\" class=\"data row5 col2\" >1</td>\n",
       "                        <td id=\"T_7a5d7_row5_col3\" class=\"data row5 col3\" >#ff3f20</td>\n",
       "                        <td id=\"T_7a5d7_row5_col4\" class=\"data row5 col4\" >6</td>\n",
       "            </tr>\n",
       "    </tbody></table>"
      ],
      "text/plain": [
       "              surface         series  order_surfaces    color  id\n",
       "0                topo  Strat_Series1               1  #015482   1\n",
       "1          overburden  Strat_Series2               1  #9f0052   2\n",
       "2            rhyolite  Strat_Series3               1  #ffbe00   3\n",
       "3  zinnwaiditegranite  Strat_Series3               2  #728f02   4\n",
       "4      lowmicagranite  Strat_Series3               3  #443988   5\n",
       "5            basement       Basement               1  #ff3f20   6"
      ]
     },
     "execution_count": 24,
     "metadata": {},
     "output_type": "execute_result"
    }
   ],
   "source": [
    "gp.map_stack_to_surfaces(geo_data, {\"Strat_Series1\":('topo'),\n",
    "                                    \"Strat_Series2\":('overburden'),\n",
    "                                    \"Strat_Series3\":('rhyolite','zinnwaiditegranite','lowmicagranite'),\n",
    "                                    \"Basement\":('basement')})"
   ]
  },
  {
   "cell_type": "code",
   "execution_count": 25,
   "metadata": {
    "scrolled": true
   },
   "outputs": [
    {
     "data": {
      "text/html": [
       "<table border=\"1\" class=\"dataframe\">\n",
       "  <thead>\n",
       "    <tr style=\"text-align: right;\">\n",
       "      <th></th>\n",
       "      <th>order_series</th>\n",
       "      <th>BottomRelation</th>\n",
       "      <th>isActive</th>\n",
       "      <th>isFault</th>\n",
       "      <th>isFinite</th>\n",
       "    </tr>\n",
       "  </thead>\n",
       "  <tbody>\n",
       "    <tr>\n",
       "      <th>Strat_Series1</th>\n",
       "      <td>1</td>\n",
       "      <td>Erosion</td>\n",
       "      <td>True</td>\n",
       "      <td>False</td>\n",
       "      <td>False</td>\n",
       "    </tr>\n",
       "    <tr>\n",
       "      <th>Strat_Series2</th>\n",
       "      <td>2</td>\n",
       "      <td>Erosion</td>\n",
       "      <td>True</td>\n",
       "      <td>False</td>\n",
       "      <td>False</td>\n",
       "    </tr>\n",
       "    <tr>\n",
       "      <th>Strat_Series3</th>\n",
       "      <td>3</td>\n",
       "      <td>Onlap</td>\n",
       "      <td>True</td>\n",
       "      <td>False</td>\n",
       "      <td>False</td>\n",
       "    </tr>\n",
       "    <tr>\n",
       "      <th>Basement</th>\n",
       "      <td>4</td>\n",
       "      <td>Erosion</td>\n",
       "      <td>False</td>\n",
       "      <td>False</td>\n",
       "      <td>False</td>\n",
       "    </tr>\n",
       "  </tbody>\n",
       "</table>"
      ],
      "text/plain": [
       "               order_series BottomRelation  isActive  isFault  isFinite\n",
       "Strat_Series1             1        Erosion      True    False     False\n",
       "Strat_Series2             2        Erosion      True    False     False\n",
       "Strat_Series3             3          Onlap      True    False     False\n",
       "Basement                  4        Erosion     False    False     False"
      ]
     },
     "execution_count": 25,
     "metadata": {},
     "output_type": "execute_result"
    }
   ],
   "source": [
    "#geo_data.series.df['BottomRelation'][1]='Onlap'\n",
    "geo_data.series.df['BottomRelation'][2]='Onlap'\n",
    "#geo_data.series.df['BottomRelation'][3]='Onlap'\n",
    "#geo_data.series.df['BottomRelation'][4]='Onlap'\n",
    "#geo_data.series.df['BottomRelation'][5]='Onlap'\n",
    "#geo_data.series.df['BottomRelation'][7]='Onlap'\n",
    "#geo_data.set_is_fault(['Fault_Series'])\n",
    "geo_data.series"
   ]
  },
  {
   "cell_type": "code",
   "execution_count": 26,
   "metadata": {
    "scrolled": false
   },
   "outputs": [
    {
     "name": "stderr",
     "output_type": "stream",
     "text": [
      "C:\\Users\\pasha\\python\\lib\\site-packages\\gempy\\plot\\plot_api.py:261: UserWarning: Matplotlib is currently using module://ipykernel.pylab.backend_inline, which is a non-GUI backend, so cannot show the figure.\n",
      "  p.fig.show()\n"
     ]
    },
    {
     "data": {
      "text/plain": [
       "<gempy.plot.visualization_2d.Plot2D at 0x1520165e0a0>"
      ]
     },
     "execution_count": 26,
     "metadata": {},
     "output_type": "execute_result"
    },
    {
     "data": {
      "image/png": "[encoded data removed]",
      "text/plain": [
       "<Figure size 1440x1440 with 1 Axes>"
      ]
     },
     "metadata": {},
     "output_type": "display_data"
    }
   ],
   "source": [
    "gp.plot_2d(geo_data, cell_number=40, show_data=True, figsize=(20,20))"
   ]
  },
  {
   "cell_type": "code",
   "execution_count": 27,
   "metadata": {},
   "outputs": [
    {
     "name": "stdout",
     "output_type": "stream",
     "text": [
      "[-43.4 100. ]\n",
      "Active grids: ['regular' 'topography']\n"
     ]
    },
    {
     "data": {
      "text/plain": [
       "Grid Object. Values: \n",
       "array([[   8.42083333,    4.16666667, -614.0125    ],\n",
       "       [   8.42083333,    4.16666667, -608.0375    ],\n",
       "       [   8.42083333,    4.16666667, -602.0625    ],\n",
       "       ...,\n",
       "       [2021.        ,  983.19327731,   -4.85807904],\n",
       "       [2021.        ,  991.59663866,   -9.46756522],\n",
       "       [2021.        , 1000.        ,   -9.71080116]])"
      ]
     },
     "execution_count": 27,
     "metadata": {},
     "output_type": "execute_result"
    }
   ],
   "source": [
    "geo_data.set_topography()\n",
    "\n",
    "#geo_data.set_topography(source='random', fd=1.5, d_z=np.array([100, 0]), resolution=np.array([400, 400]))\n",
    "#geo_model._grid.topography.save('test_topo')\n",
    "#geo_model.set_topography(source='saved', filepath='test_topo.npy')"
   ]
  },
  {
   "cell_type": "code",
   "execution_count": 28,
   "metadata": {
    "scrolled": true
   },
   "outputs": [
    {
     "name": "stdout",
     "output_type": "stream",
     "text": [
      "Setting kriging parameters to their default values.\n",
      "Compiling theano function...\n",
      "Level of Optimization:  fast_compile\n",
      "Device:  cpu\n",
      "Precision:  float64\n",
      "Number of faults:  0\n",
      "Compilation Done!\n",
      "Kriging values: \n",
      "                        values\n",
      "range                 2366.12\n",
      "$C_o$               133298.33\n",
      "drift equations  [3, 3, 3, 3]\n"
     ]
    }
   ],
   "source": [
    "interp_data = gp.set_interpolator(geo_data, compile_theano=True,theano_optimizer='fast_compile')"
   ]
  },
  {
   "cell_type": "code",
   "execution_count": 29,
   "metadata": {
    "scrolled": true
   },
   "outputs": [
    {
     "name": "stderr",
     "output_type": "stream",
     "text": [
      "C:\\Users\\pasha\\python\\lib\\site-packages\\gempy\\core\\solution.py:174: VisibleDeprecationWarning: Creating an ndarray from ragged nested sequences (which is a list-or-tuple of lists-or-tuples-or ndarrays with different lengths or shapes) is deprecated. If you meant to do this, you must specify 'dtype=object' when creating the ndarray.\n",
      "  self.geological_map = np.array(\n"
     ]
    }
   ],
   "source": [
    "sol = gp.compute_model(geo_data, compute_mesh=True, debug=False)"
   ]
  },
  {
   "cell_type": "code",
   "execution_count": 30,
   "metadata": {
    "scrolled": false
   },
   "outputs": [
    {
     "name": "stderr",
     "output_type": "stream",
     "text": [
      "C:\\Users\\pasha\\python\\lib\\site-packages\\gempy\\plot\\plot_api.py:261: UserWarning: Matplotlib is currently using module://ipykernel.pylab.backend_inline, which is a non-GUI backend, so cannot show the figure.\n",
      "  p.fig.show()\n"
     ]
    },
    {
     "data": {
      "text/plain": [
       "<gempy.plot.visualization_2d.Plot2D at 0x1520f72d100>"
      ]
     },
     "execution_count": 30,
     "metadata": {},
     "output_type": "execute_result"
    },
    {
     "data": {
      "image/png": "[encoded data removed]",
      "text/plain": [
       "<Figure size 1440x1440 with 1 Axes>"
      ]
     },
     "metadata": {},
     "output_type": "display_data"
    }
   ],
   "source": [
    "gp.plot_2d(geo_data, cell_number=0, show_data=True, figsize=(20,20))"
   ]
  },
  {
   "cell_type": "code",
   "execution_count": 46,
   "metadata": {
    "scrolled": true
   },
   "outputs": [
    {
     "name": "stderr",
     "output_type": "stream",
     "text": [
      "C:\\Users\\pasha\\python\\lib\\site-packages\\pyvista\\plotting\\plotting.py:1354: PyvistaDeprecationWarning: \n",
      "\"stitle\" is a depreciated keyword and will be removed in a future\n",
      "release.\n",
      "\n",
      "Use ``scalar_bar_args`` instead.  For example:\n",
      "\n",
      "scalar_bar_args={'title': 'Scalar Bar Title'}\n",
      "\n",
      "  warnings.warn(USE_SCALAR_BAR_ARGS, PyvistaDeprecationWarning)\n"
     ]
    },
    {
     "data": {
      "text/plain": [
       "True"
      ]
     },
     "execution_count": 46,
     "metadata": {},
     "output_type": "execute_result"
    }
   ],
   "source": [
    "p3d = gp.plot_3d(geo_data, plotter_type='background', show_lith=True, show_surfaces=True,  show_data=False, image=False,\n",
    "                 show_topography=True,\n",
    "                 kwargs_plot_structured_grid={'opacity': .8})\n",
    "\n",
    "gp.save_model(geo_data)"
   ]
  },
  {
   "cell_type": "code",
   "execution_count": 33,
   "metadata": {},
   "outputs": [],
   "source": [
    "### User-defined functions\n",
    "def extract_domain(sol, unit):\n",
    "    '''\n",
    "    Extract domain coordinates from gempy model by unit name\n",
    "    arguments:\n",
    "        sol: Gempy solution object.\n",
    "        unit: gempy unit by index\n",
    "    returns:\n",
    "        dom_x, dom_y, dom_z: coordinates of domain\n",
    "    '''\n",
    "\n",
    "    # new version with rounding, definitely necessary\n",
    "    rounded_lithblock = sol.lith_block.round(0)\n",
    "    rounded_lithblock = rounded_lithblock.astype(int)\n",
    "\n",
    "    # mask by array of input surfaces (by id, can be from different series)\n",
    "    mask = np.isin(rounded_lithblock, unit)\n",
    "\n",
    "    # get coordinates by mask\n",
    "    #krig_lith = sol.lith_block[mask]\n",
    "    dom_grid = sol.grid.values[:mesh_size][mask]\n",
    "\n",
    "    dom_x = dom_grid[:,0]\n",
    "    dom_y = dom_grid[:,1]\n",
    "    dom_z = dom_grid[:,2]\n",
    "\n",
    "    return dom_x, dom_y, dom_z"
   ]
  },
  {
   "cell_type": "code",
   "execution_count": 34,
   "metadata": {},
   "outputs": [
    {
     "data": {
      "text/plain": [
       "(6, 3)"
      ]
     },
     "execution_count": 34,
     "metadata": {},
     "output_type": "execute_result"
    }
   ],
   "source": [
    "unit_count=int(np.max(sol.lith_block.round(0)))\n",
    "series_count=len(sol.scalar_field_matrix)\n",
    "unit_count, series_count"
   ]
  },
  {
   "cell_type": "markdown",
   "metadata": {},
   "source": [
    "### Geostatistics and Kriging"
   ]
  },
  {
   "cell_type": "code",
   "execution_count": 35,
   "metadata": {},
   "outputs": [
    {
     "data": {
      "text/html": [
       "<div>\n",
       "<style scoped>\n",
       "    .dataframe tbody tr th:only-of-type {\n",
       "        vertical-align: middle;\n",
       "    }\n",
       "\n",
       "    .dataframe tbody tr th {\n",
       "        vertical-align: top;\n",
       "    }\n",
       "\n",
       "    .dataframe thead th {\n",
       "        text-align: right;\n",
       "    }\n",
       "</style>\n",
       "<table border=\"1\" class=\"dataframe\">\n",
       "  <thead>\n",
       "    <tr style=\"text-align: right;\">\n",
       "      <th></th>\n",
       "      <th>X</th>\n",
       "      <th>Y</th>\n",
       "      <th>Z</th>\n",
       "      <th>grade_value</th>\n",
       "      <th>grade</th>\n",
       "    </tr>\n",
       "  </thead>\n",
       "  <tbody>\n",
       "    <tr>\n",
       "      <th>0</th>\n",
       "      <td>5</td>\n",
       "      <td>0</td>\n",
       "      <td>-42</td>\n",
       "      <td>0.45</td>\n",
       "      <td>Sn1</td>\n",
       "    </tr>\n",
       "    <tr>\n",
       "      <th>1</th>\n",
       "      <td>40</td>\n",
       "      <td>0</td>\n",
       "      <td>-55</td>\n",
       "      <td>0.45</td>\n",
       "      <td>Sn1</td>\n",
       "    </tr>\n",
       "    <tr>\n",
       "      <th>2</th>\n",
       "      <td>76</td>\n",
       "      <td>0</td>\n",
       "      <td>-67</td>\n",
       "      <td>0.44</td>\n",
       "      <td>Sn1</td>\n",
       "    </tr>\n",
       "    <tr>\n",
       "      <th>3</th>\n",
       "      <td>127</td>\n",
       "      <td>0</td>\n",
       "      <td>-58</td>\n",
       "      <td>0.45</td>\n",
       "      <td>Sn1</td>\n",
       "    </tr>\n",
       "    <tr>\n",
       "      <th>4</th>\n",
       "      <td>155</td>\n",
       "      <td>0</td>\n",
       "      <td>-30</td>\n",
       "      <td>0.44</td>\n",
       "      <td>Sn1</td>\n",
       "    </tr>\n",
       "    <tr>\n",
       "      <th>...</th>\n",
       "      <td>...</td>\n",
       "      <td>...</td>\n",
       "      <td>...</td>\n",
       "      <td>...</td>\n",
       "      <td>...</td>\n",
       "    </tr>\n",
       "    <tr>\n",
       "      <th>312</th>\n",
       "      <td>1871</td>\n",
       "      <td>0</td>\n",
       "      <td>-442</td>\n",
       "      <td>0.41</td>\n",
       "      <td>0.4%Li_inside</td>\n",
       "    </tr>\n",
       "    <tr>\n",
       "      <th>313</th>\n",
       "      <td>1918</td>\n",
       "      <td>0</td>\n",
       "      <td>-430</td>\n",
       "      <td>0.41</td>\n",
       "      <td>0.4%Li_inside</td>\n",
       "    </tr>\n",
       "    <tr>\n",
       "      <th>314</th>\n",
       "      <td>2027</td>\n",
       "      <td>0</td>\n",
       "      <td>-507</td>\n",
       "      <td>0.41</td>\n",
       "      <td>0.4%Li_inside</td>\n",
       "    </tr>\n",
       "    <tr>\n",
       "      <th>315</th>\n",
       "      <td>1996</td>\n",
       "      <td>0</td>\n",
       "      <td>-579</td>\n",
       "      <td>0.41</td>\n",
       "      <td>0.4%Li_inside</td>\n",
       "    </tr>\n",
       "    <tr>\n",
       "      <th>316</th>\n",
       "      <td>1938</td>\n",
       "      <td>0</td>\n",
       "      <td>-472</td>\n",
       "      <td>0.41</td>\n",
       "      <td>0.4%Li_inside</td>\n",
       "    </tr>\n",
       "  </tbody>\n",
       "</table>\n",
       "<p>317 rows × 5 columns</p>\n",
       "</div>"
      ],
      "text/plain": [
       "        X  Y    Z  grade_value          grade\n",
       "0       5  0  -42         0.45            Sn1\n",
       "1      40  0  -55         0.45            Sn1\n",
       "2      76  0  -67         0.44            Sn1\n",
       "3     127  0  -58         0.45            Sn1\n",
       "4     155  0  -30         0.44            Sn1\n",
       "..    ... ..  ...          ...            ...\n",
       "312  1871  0 -442         0.41  0.4%Li_inside\n",
       "313  1918  0 -430         0.41  0.4%Li_inside\n",
       "314  2027  0 -507         0.41  0.4%Li_inside\n",
       "315  1996  0 -579         0.41  0.4%Li_inside\n",
       "316  1938  0 -472         0.41  0.4%Li_inside\n",
       "\n",
       "[317 rows x 5 columns]"
      ]
     },
     "execution_count": 35,
     "metadata": {},
     "output_type": "execute_result"
    }
   ],
   "source": [
    "df =pd.read_csv('3_kriging_data_all.csv')\n",
    "df"
   ]
  },
  {
   "cell_type": "code",
   "execution_count": 36,
   "metadata": {},
   "outputs": [],
   "source": [
    "# create some random input data data (conditioning data)\n",
    "n=len(df.iloc[:,2])\n",
    "x = df.iloc[:n,0]\n",
    "y = df.iloc[:n,1]\n",
    "z = df.iloc[:n,2]\n",
    "cond_pos = np.array([x,y,z])\n",
    "cond_val = df.iloc[:n,3]"
   ]
  },
  {
   "cell_type": "code",
   "execution_count": 37,
   "metadata": {},
   "outputs": [],
   "source": [
    "# This is to extract smaller domains from gempy by \n",
    "#lithological units and their notations:\n",
    "#topo - 1, overburden - 2, rhyolite - 3, zinnwaiditegranite - 4, lowmicagranite - 5, basement - 6\n",
    "domain_x, domain_y, domain_z = extract_domain(sol, (4))"
   ]
  },
  {
   "cell_type": "code",
   "execution_count": 38,
   "metadata": {},
   "outputs": [],
   "source": [
    "# grid coordinate preparation\n",
    "coordinates = np.array([domain_x, domain_y, domain_z])\n",
    "coordinates = coordinates.swapaxes(0,1)\n",
    "    \n",
    "# This is where the magic happens - GStools offers a lot of options, here a simple version with isotropic range\n",
    "model = gs.Exponential(dim=3, var=np.var(cond_val), len_scale=200)\n",
    "krige = gs.krige.Ordinary(model, cond_pos, cond_val)\n",
    "#cond_srf = gs.CondSRF(krige)\n",
    "\n",
    "# perform kriging\n",
    "krige((coordinates[:,0],coordinates[:,1], coordinates[:,2]), mesh_type='unstructured')\n",
    "# alternatively fior SGS\n",
    "#cond_srf((coordinates[:,0],coordinates[:,1], coordinates[:,2]), mesh_type='unstructured')\n",
    "\n",
    "# just convenience rename\n",
    "field = krige\n",
    "# alternatively for SGS\n",
    "# field = cond_srf"
   ]
  },
  {
   "cell_type": "code",
   "execution_count": 39,
   "metadata": {},
   "outputs": [],
   "source": [
    "# convert to pyvista mesh\n",
    "pc = field.to_pyvista()"
   ]
  },
  {
   "cell_type": "code",
   "execution_count": 40,
   "metadata": {},
   "outputs": [],
   "source": [
    "# 3D plotting example\n",
    "spacing = lambda arr: np.unique(np.diff(np.unique(arr)))\n",
    "voxelsize = spacing(pc.points[:,0]), spacing(pc.points[:,1]), spacing(pc.points[:,2])\n",
    "\n",
    "pc = pc.cast_to_unstructured_grid()\n",
    "#pc=geo_data.cast_to_unstructured_grid()\n",
    "\n",
    "grade = PVGeo.filters.VoxelizePoints(dx=voxelsize[0][0], dy=voxelsize[1][0], dz=voxelsize[2][0], estimate=False).apply(pc)"
   ]
  },
  {
   "cell_type": "code",
   "execution_count": 41,
   "metadata": {},
   "outputs": [
    {
     "name": "stderr",
     "output_type": "stream",
     "text": [
      "C:\\Users\\pasha\\python\\lib\\site-packages\\pyvista\\plotting\\plotting.py:1354: PyvistaDeprecationWarning: \n",
      "\"stitle\" is a depreciated keyword and will be removed in a future\n",
      "release.\n",
      "\n",
      "Use ``scalar_bar_args`` instead.  For example:\n",
      "\n",
      "scalar_bar_args={'title': 'Scalar Bar Title'}\n",
      "\n",
      "  warnings.warn(USE_SCALAR_BAR_ARGS, PyvistaDeprecationWarning)\n"
     ]
    }
   ],
   "source": [
    "#p.add_mesh(grid, opacity=1, show_edges=False, lighting=False, cmap=cmap)\n",
    "p = pvqt.BackgroundPlotter()\n",
    "gpv = gp.plot_3d(geo_data, plotter_type='background', show_data=False, show_lith=True, show_surfaces=False,\n",
    "                kwargs_plot_structured_grid={'opacity': 1})\n",
    "\n",
    "#creating the grade mesh calculated with kriging (colormap) \n",
    "gpv.p.add_mesh(grade, opacity=1, show_edges=False, lighting=False, cmap=\"terrain\")\n",
    "\n",
    "p.set_scale(zscale=1)"
   ]
  },
  {
   "cell_type": "code",
   "execution_count": 33,
   "metadata": {},
   "outputs": [
    {
     "name": "stderr",
     "output_type": "stream",
     "text": [
      "100%|████████████████████████████████| 214748/214748 [00:57<00:00, 3749.38it/s]"
     ]
    },
    {
     "name": "stdout",
     "output_type": "stream",
     "text": [
      "Horizon1 79383983.97070312\n",
      "Average ore grade= 0.45651398963968304\n"
     ]
    },
    {
     "name": "stderr",
     "output_type": "stream",
     "text": [
      "\n"
     ]
    }
   ],
   "source": [
    "#density of Li ore is 0.534g/cm3\n",
    "#define grade intervals and check the count of voxels corresponding to the same interval\n",
    "ore_interval1=[]\n",
    "\n",
    "for index in tqdm(range(0, len(grade.active_scalars))):\n",
    "    #for Horizon I:\n",
    "    if grade.active_scalars[index]>0.44:\n",
    "        ore_interval1.append(grade.active_scalars[index])\n",
    "   \n",
    "        \n",
    "#calculate volume of total voxels corresponding to a certain ore grade interval\n",
    "voxel_volume=((extent[1]-extent[0])/reso[0])*((extent[3]-extent[2])/reso[1])*((extent[5]-extent[4])/reso[2])\n",
    "\n",
    "ore_avrg_grade=np.mean(ore_interval1)\n",
    "volume=len(ore_interval1)*(voxel_volume)\n",
    "print('Horizon1',volume)\n",
    "print(\"Average ore grade=\", ore_avrg_grade)"
   ]
  },
  {
   "cell_type": "markdown",
   "metadata": {},
   "source": [
    "### Extract kriged data"
   ]
  },
  {
   "cell_type": "code",
   "execution_count": 51,
   "metadata": {},
   "outputs": [
    {
     "name": "stdout",
     "output_type": "stream",
     "text": [
      "Wall time: 63.9 ms\n"
     ]
    },
    {
     "data": {
      "text/html": [
       "<div>\n",
       "<style scoped>\n",
       "    .dataframe tbody tr th:only-of-type {\n",
       "        vertical-align: middle;\n",
       "    }\n",
       "\n",
       "    .dataframe tbody tr th {\n",
       "        vertical-align: top;\n",
       "    }\n",
       "\n",
       "    .dataframe thead th {\n",
       "        text-align: right;\n",
       "    }\n",
       "</style>\n",
       "<table border=\"1\" class=\"dataframe\">\n",
       "  <thead>\n",
       "    <tr style=\"text-align: right;\">\n",
       "      <th></th>\n",
       "      <th>X</th>\n",
       "      <th>Y</th>\n",
       "      <th>Z</th>\n",
       "      <th>grade</th>\n",
       "    </tr>\n",
       "  </thead>\n",
       "  <tbody>\n",
       "    <tr>\n",
       "      <th>0</th>\n",
       "      <td>20.21</td>\n",
       "      <td>10.0</td>\n",
       "      <td>-265.67</td>\n",
       "      <td>0.42</td>\n",
       "    </tr>\n",
       "    <tr>\n",
       "      <th>1</th>\n",
       "      <td>20.21</td>\n",
       "      <td>10.0</td>\n",
       "      <td>-251.33</td>\n",
       "      <td>0.42</td>\n",
       "    </tr>\n",
       "    <tr>\n",
       "      <th>2</th>\n",
       "      <td>20.21</td>\n",
       "      <td>10.0</td>\n",
       "      <td>-236.99</td>\n",
       "      <td>0.42</td>\n",
       "    </tr>\n",
       "    <tr>\n",
       "      <th>3</th>\n",
       "      <td>20.21</td>\n",
       "      <td>10.0</td>\n",
       "      <td>-222.65</td>\n",
       "      <td>0.42</td>\n",
       "    </tr>\n",
       "    <tr>\n",
       "      <th>4</th>\n",
       "      <td>20.21</td>\n",
       "      <td>10.0</td>\n",
       "      <td>-208.31</td>\n",
       "      <td>0.42</td>\n",
       "    </tr>\n",
       "    <tr>\n",
       "      <th>...</th>\n",
       "      <td>...</td>\n",
       "      <td>...</td>\n",
       "      <td>...</td>\n",
       "      <td>...</td>\n",
       "    </tr>\n",
       "    <tr>\n",
       "      <th>52387</th>\n",
       "      <td>2000.79</td>\n",
       "      <td>990.0</td>\n",
       "      <td>-495.11</td>\n",
       "      <td>0.43</td>\n",
       "    </tr>\n",
       "    <tr>\n",
       "      <th>52388</th>\n",
       "      <td>2000.79</td>\n",
       "      <td>990.0</td>\n",
       "      <td>-480.77</td>\n",
       "      <td>0.43</td>\n",
       "    </tr>\n",
       "    <tr>\n",
       "      <th>52389</th>\n",
       "      <td>2000.79</td>\n",
       "      <td>990.0</td>\n",
       "      <td>-466.43</td>\n",
       "      <td>0.43</td>\n",
       "    </tr>\n",
       "    <tr>\n",
       "      <th>52390</th>\n",
       "      <td>2000.79</td>\n",
       "      <td>990.0</td>\n",
       "      <td>-452.09</td>\n",
       "      <td>0.43</td>\n",
       "    </tr>\n",
       "    <tr>\n",
       "      <th>52391</th>\n",
       "      <td>2000.79</td>\n",
       "      <td>990.0</td>\n",
       "      <td>-437.75</td>\n",
       "      <td>0.43</td>\n",
       "    </tr>\n",
       "  </tbody>\n",
       "</table>\n",
       "<p>52392 rows × 4 columns</p>\n",
       "</div>"
      ],
      "text/plain": [
       "             X      Y       Z  grade\n",
       "0        20.21   10.0 -265.67   0.42\n",
       "1        20.21   10.0 -251.33   0.42\n",
       "2        20.21   10.0 -236.99   0.42\n",
       "3        20.21   10.0 -222.65   0.42\n",
       "4        20.21   10.0 -208.31   0.42\n",
       "...        ...    ...     ...    ...\n",
       "52387  2000.79  990.0 -495.11   0.43\n",
       "52388  2000.79  990.0 -480.77   0.43\n",
       "52389  2000.79  990.0 -466.43   0.43\n",
       "52390  2000.79  990.0 -452.09   0.43\n",
       "52391  2000.79  990.0 -437.75   0.43\n",
       "\n",
       "[52392 rows x 4 columns]"
      ]
     },
     "execution_count": 51,
     "metadata": {},
     "output_type": "execute_result"
    }
   ],
   "source": [
    "%%time\n",
    "main_array=pc.points.tolist()\n",
    "added_array=grid.active_scalars.tolist()\n",
    "n=len(main_array)\n",
    "\n",
    "for index in range(0,n,1):\n",
    "    main_array[index].append(added_array[index])\n",
    "grade=pd.DataFrame(main_array, columns=['X','Y','Z','grade'])\n",
    "grade"
   ]
  },
  {
   "cell_type": "code",
   "execution_count": 52,
   "metadata": {},
   "outputs": [
    {
     "name": "stderr",
     "output_type": "stream",
     "text": [
      "100%|████████████████████████████████████████| 100/100 [07:01<00:00,  4.22s/it]\n"
     ]
    }
   ],
   "source": [
    "#drill boreholess!!\n",
    "def krige_boreholes(b_count):\n",
    "    borehole_count=range(0,b_count,1)\n",
    "    rand_ind=random.sample(range(0,len(grade)),b_count)\n",
    "    dict_all={}\n",
    "    boreholes_dict={}\n",
    "\n",
    "    for index in tqdm(borehole_count):\n",
    "        list_temp=[]\n",
    "        for row in grade.itertuples():\n",
    "            if (grade.iloc[rand_ind[index]].X==row.X and grade.iloc[rand_ind[index]].Y==row.Y):\n",
    "                list_temp.append([row.X,row.Y,row.Z,row.grade])\n",
    "                \n",
    "        dict_all.update({index+1:list_temp})\n",
    "\n",
    "    for index in range(0,b_count,1): \n",
    "        data_temp = pd.DataFrame(dict_all[index+1])\n",
    "        data_temp.columns=['X','Y','Z','grade']\n",
    "        data_temp.loc[:, 'borehole']=index+1\n",
    "        boreholes_dict.update({index+1:data_temp})\n",
    "    return boreholes_dict\n",
    "        \n",
    "boreholes=krige_boreholes(100)"
   ]
  },
  {
   "cell_type": "code",
   "execution_count": 53,
   "metadata": {},
   "outputs": [
    {
     "data": {
      "text/html": [
       "<div>\n",
       "<style scoped>\n",
       "    .dataframe tbody tr th:only-of-type {\n",
       "        vertical-align: middle;\n",
       "    }\n",
       "\n",
       "    .dataframe tbody tr th {\n",
       "        vertical-align: top;\n",
       "    }\n",
       "\n",
       "    .dataframe thead th {\n",
       "        text-align: right;\n",
       "    }\n",
       "</style>\n",
       "<table border=\"1\" class=\"dataframe\">\n",
       "  <thead>\n",
       "    <tr style=\"text-align: right;\">\n",
       "      <th></th>\n",
       "      <th>X</th>\n",
       "      <th>Y</th>\n",
       "      <th>Z</th>\n",
       "      <th>grade</th>\n",
       "      <th>borehole</th>\n",
       "    </tr>\n",
       "  </thead>\n",
       "  <tbody>\n",
       "    <tr>\n",
       "      <th>0</th>\n",
       "      <td>1434.91</td>\n",
       "      <td>70.0</td>\n",
       "      <td>-509.45</td>\n",
       "      <td>0.43</td>\n",
       "      <td>1</td>\n",
       "    </tr>\n",
       "    <tr>\n",
       "      <th>1</th>\n",
       "      <td>1434.91</td>\n",
       "      <td>70.0</td>\n",
       "      <td>-495.11</td>\n",
       "      <td>0.43</td>\n",
       "      <td>1</td>\n",
       "    </tr>\n",
       "    <tr>\n",
       "      <th>2</th>\n",
       "      <td>1434.91</td>\n",
       "      <td>70.0</td>\n",
       "      <td>-480.77</td>\n",
       "      <td>0.43</td>\n",
       "      <td>1</td>\n",
       "    </tr>\n",
       "    <tr>\n",
       "      <th>3</th>\n",
       "      <td>1434.91</td>\n",
       "      <td>70.0</td>\n",
       "      <td>-466.43</td>\n",
       "      <td>0.43</td>\n",
       "      <td>1</td>\n",
       "    </tr>\n",
       "    <tr>\n",
       "      <th>4</th>\n",
       "      <td>1434.91</td>\n",
       "      <td>70.0</td>\n",
       "      <td>-452.09</td>\n",
       "      <td>0.43</td>\n",
       "      <td>1</td>\n",
       "    </tr>\n",
       "    <tr>\n",
       "      <th>...</th>\n",
       "      <td>...</td>\n",
       "      <td>...</td>\n",
       "      <td>...</td>\n",
       "      <td>...</td>\n",
       "      <td>...</td>\n",
       "    </tr>\n",
       "    <tr>\n",
       "      <th>2080</th>\n",
       "      <td>505.25</td>\n",
       "      <td>590.0</td>\n",
       "      <td>-150.95</td>\n",
       "      <td>0.44</td>\n",
       "      <td>100</td>\n",
       "    </tr>\n",
       "    <tr>\n",
       "      <th>2081</th>\n",
       "      <td>505.25</td>\n",
       "      <td>590.0</td>\n",
       "      <td>-136.61</td>\n",
       "      <td>0.44</td>\n",
       "      <td>100</td>\n",
       "    </tr>\n",
       "    <tr>\n",
       "      <th>2082</th>\n",
       "      <td>505.25</td>\n",
       "      <td>590.0</td>\n",
       "      <td>-122.27</td>\n",
       "      <td>0.44</td>\n",
       "      <td>100</td>\n",
       "    </tr>\n",
       "    <tr>\n",
       "      <th>2083</th>\n",
       "      <td>505.25</td>\n",
       "      <td>590.0</td>\n",
       "      <td>-107.93</td>\n",
       "      <td>0.44</td>\n",
       "      <td>100</td>\n",
       "    </tr>\n",
       "    <tr>\n",
       "      <th>2084</th>\n",
       "      <td>505.25</td>\n",
       "      <td>590.0</td>\n",
       "      <td>-93.59</td>\n",
       "      <td>0.44</td>\n",
       "      <td>100</td>\n",
       "    </tr>\n",
       "  </tbody>\n",
       "</table>\n",
       "<p>2085 rows × 5 columns</p>\n",
       "</div>"
      ],
      "text/plain": [
       "            X      Y       Z  grade  borehole\n",
       "0     1434.91   70.0 -509.45   0.43         1\n",
       "1     1434.91   70.0 -495.11   0.43         1\n",
       "2     1434.91   70.0 -480.77   0.43         1\n",
       "3     1434.91   70.0 -466.43   0.43         1\n",
       "4     1434.91   70.0 -452.09   0.43         1\n",
       "...       ...    ...     ...    ...       ...\n",
       "2080   505.25  590.0 -150.95   0.44       100\n",
       "2081   505.25  590.0 -136.61   0.44       100\n",
       "2082   505.25  590.0 -122.27   0.44       100\n",
       "2083   505.25  590.0 -107.93   0.44       100\n",
       "2084   505.25  590.0  -93.59   0.44       100\n",
       "\n",
       "[2085 rows x 5 columns]"
      ]
     },
     "execution_count": 53,
     "metadata": {},
     "output_type": "execute_result"
    }
   ],
   "source": [
    "drill_all = pd.concat(boreholes.values(), ignore_index=True)\n",
    "drill_all"
   ]
  },
  {
   "cell_type": "code",
   "execution_count": 55,
   "metadata": {},
   "outputs": [
    {
     "data": {
      "text/html": [
       "<div>\n",
       "<style scoped>\n",
       "    .dataframe tbody tr th:only-of-type {\n",
       "        vertical-align: middle;\n",
       "    }\n",
       "\n",
       "    .dataframe tbody tr th {\n",
       "        vertical-align: top;\n",
       "    }\n",
       "\n",
       "    .dataframe thead th {\n",
       "        text-align: right;\n",
       "    }\n",
       "</style>\n",
       "<table border=\"1\" class=\"dataframe\">\n",
       "  <thead>\n",
       "    <tr style=\"text-align: right;\">\n",
       "      <th></th>\n",
       "      <th>X</th>\n",
       "      <th>Y</th>\n",
       "      <th>Z</th>\n",
       "      <th>grade</th>\n",
       "      <th>borehole</th>\n",
       "    </tr>\n",
       "  </thead>\n",
       "  <tbody>\n",
       "    <tr>\n",
       "      <th>0</th>\n",
       "      <td>1434.91</td>\n",
       "      <td>70.0</td>\n",
       "      <td>-509.45</td>\n",
       "      <td>0.43</td>\n",
       "      <td>1.0</td>\n",
       "    </tr>\n",
       "    <tr>\n",
       "      <th>10</th>\n",
       "      <td>1434.91</td>\n",
       "      <td>70.0</td>\n",
       "      <td>-366.05</td>\n",
       "      <td>0.44</td>\n",
       "      <td>1.0</td>\n",
       "    </tr>\n",
       "    <tr>\n",
       "      <th>20</th>\n",
       "      <td>1434.91</td>\n",
       "      <td>70.0</td>\n",
       "      <td>-222.65</td>\n",
       "      <td>0.44</td>\n",
       "      <td>1.0</td>\n",
       "    </tr>\n",
       "    <tr>\n",
       "      <th>30</th>\n",
       "      <td>788.19</td>\n",
       "      <td>130.0</td>\n",
       "      <td>-394.73</td>\n",
       "      <td>0.43</td>\n",
       "      <td>2.0</td>\n",
       "    </tr>\n",
       "    <tr>\n",
       "      <th>40</th>\n",
       "      <td>788.19</td>\n",
       "      <td>130.0</td>\n",
       "      <td>-251.33</td>\n",
       "      <td>0.45</td>\n",
       "      <td>2.0</td>\n",
       "    </tr>\n",
       "    <tr>\n",
       "      <th>...</th>\n",
       "      <td>...</td>\n",
       "      <td>...</td>\n",
       "      <td>...</td>\n",
       "      <td>...</td>\n",
       "      <td>...</td>\n",
       "    </tr>\n",
       "    <tr>\n",
       "      <th>2040</th>\n",
       "      <td>990.29</td>\n",
       "      <td>350.0</td>\n",
       "      <td>-136.61</td>\n",
       "      <td>0.44</td>\n",
       "      <td>98.0</td>\n",
       "    </tr>\n",
       "    <tr>\n",
       "      <th>2050</th>\n",
       "      <td>1515.75</td>\n",
       "      <td>870.0</td>\n",
       "      <td>-480.77</td>\n",
       "      <td>0.43</td>\n",
       "      <td>99.0</td>\n",
       "    </tr>\n",
       "    <tr>\n",
       "      <th>2060</th>\n",
       "      <td>1515.75</td>\n",
       "      <td>870.0</td>\n",
       "      <td>-337.37</td>\n",
       "      <td>0.43</td>\n",
       "      <td>99.0</td>\n",
       "    </tr>\n",
       "    <tr>\n",
       "      <th>2070</th>\n",
       "      <td>505.25</td>\n",
       "      <td>590.0</td>\n",
       "      <td>-294.35</td>\n",
       "      <td>0.44</td>\n",
       "      <td>100.0</td>\n",
       "    </tr>\n",
       "    <tr>\n",
       "      <th>2080</th>\n",
       "      <td>505.25</td>\n",
       "      <td>590.0</td>\n",
       "      <td>-150.95</td>\n",
       "      <td>0.44</td>\n",
       "      <td>100.0</td>\n",
       "    </tr>\n",
       "  </tbody>\n",
       "</table>\n",
       "<p>209 rows × 5 columns</p>\n",
       "</div>"
      ],
      "text/plain": [
       "            X      Y       Z  grade  borehole\n",
       "0     1434.91   70.0 -509.45   0.43       1.0\n",
       "10    1434.91   70.0 -366.05   0.44       1.0\n",
       "20    1434.91   70.0 -222.65   0.44       1.0\n",
       "30     788.19  130.0 -394.73   0.43       2.0\n",
       "40     788.19  130.0 -251.33   0.45       2.0\n",
       "...       ...    ...     ...    ...       ...\n",
       "2040   990.29  350.0 -136.61   0.44      98.0\n",
       "2050  1515.75  870.0 -480.77   0.43      99.0\n",
       "2060  1515.75  870.0 -337.37   0.43      99.0\n",
       "2070   505.25  590.0 -294.35   0.44     100.0\n",
       "2080   505.25  590.0 -150.95   0.44     100.0\n",
       "\n",
       "[209 rows x 5 columns]"
      ]
     },
     "execution_count": 55,
     "metadata": {},
     "output_type": "execute_result"
    }
   ],
   "source": [
    "list_tempo=[]\n",
    "for index in range(0,len(drill_all),10):\n",
    "    list_tempo.append(drill_all.iloc[index])\n",
    "br=pd.DataFrame(list_tempo)\n",
    "\n",
    "br.to_csv('3_kriging_100.csv')\n",
    "br"
   ]
  },
  {
   "cell_type": "code",
   "execution_count": 56,
   "metadata": {},
   "outputs": [
    {
     "data": {
      "text/html": [
       "<table><tr><th>Header</th><th>Data Arrays</th></tr><tr><td>\n",
       "<table>\n",
       "<tr><th>PolyData</th><th>Information</th></tr>\n",
       "<tr><td>N Cells</td><td>2085</td></tr>\n",
       "<tr><td>N Points</td><td>2085</td></tr>\n",
       "<tr><td>X Bounds</td><td>2.021e+01, 2.001e+03</td></tr>\n",
       "<tr><td>Y Bounds</td><td>1.000e+01, 9.900e+02</td></tr>\n",
       "<tr><td>Z Bounds</td><td>-6.098e+02, -5.057e+01</td></tr>\n",
       "<tr><td>N Arrays</td><td>1</td></tr>\n",
       "</table>\n",
       "\n",
       "</td><td>\n",
       "<table>\n",
       "<tr><th>Name</th><th>Field</th><th>Type</th><th>N Comp</th><th>Min</th><th>Max</th></tr>\n",
       "<tr><td><b>grade</b></td><td>Points</td><td>float64</td><td>1</td><td>4.057e-01</td><td>5.344e-01</td></tr>\n",
       "</table>\n",
       "\n",
       "</td></tr> </table>"
      ],
      "text/plain": [
       "PolyData (0x212039230a0)\n",
       "  N Cells:\t2085\n",
       "  N Points:\t2085\n",
       "  X Bounds:\t2.021e+01, 2.001e+03\n",
       "  Y Bounds:\t1.000e+01, 9.900e+02\n",
       "  Z Bounds:\t-6.098e+02, -5.057e+01\n",
       "  N Arrays:\t1"
      ]
     },
     "execution_count": 56,
     "metadata": {},
     "output_type": "execute_result"
    }
   ],
   "source": [
    "vertices = drill_all[['X','Y','Z']].values\n",
    "kriged=pv.PolyData(vertices)\n",
    "kriged['grade'] = drill_all['grade'].values\n",
    "kriged"
   ]
  },
  {
   "cell_type": "code",
   "execution_count": 57,
   "metadata": {},
   "outputs": [
    {
     "name": "stderr",
     "output_type": "stream",
     "text": [
      "C:\\Users\\pasha\\python\\lib\\site-packages\\pyvista\\plotting\\plotting.py:1354: PyvistaDeprecationWarning: \n",
      "\"stitle\" is a depreciated keyword and will be removed in a future\n",
      "release.\n",
      "\n",
      "Use ``scalar_bar_args`` instead.  For example:\n",
      "\n",
      "scalar_bar_args={'title': 'Scalar Bar Title'}\n",
      "\n",
      "  warnings.warn(USE_SCALAR_BAR_ARGS, PyvistaDeprecationWarning)\n"
     ]
    },
    {
     "data": {
      "text/plain": [
       "(vtkmodules.vtkRenderingOpenGL2.vtkOpenGLActor)0000021256668160"
      ]
     },
     "execution_count": 57,
     "metadata": {},
     "output_type": "execute_result"
    }
   ],
   "source": [
    "p = pvqt.BackgroundPlotter()\n",
    "gpv = gp.plot_3d(geo_data, plotter_type='background', show_data=False, show_lith=True, show_surfaces=True,\n",
    "                kwargs_plot_structured_grid={'opacity': .3})\n",
    "\n",
    "#creating the grade mesh calculated with kriging (colormap) \n",
    "gpv.p.add_mesh(kriged, scalars='grade', opacity=1, cmap='viridis', point_size=5)"
   ]
  },
  {
   "cell_type": "markdown",
   "metadata": {},
   "source": [
    "### Extract orientation data from the solution"
   ]
  },
  {
   "cell_type": "code",
   "execution_count": 78,
   "metadata": {},
   "outputs": [],
   "source": [
    "#define the function to calculate gradient (dict_spec)\n",
    "\n",
    "def get_gradient(sol, res, dim):\n",
    "    '''\n",
    "    Calculate gradient from model solution\n",
    "    '''\n",
    "    # scalar field as meshgrid\n",
    "    dict_all={}\n",
    "    dict_spec={}\n",
    "    for index in range(0,series_count,1):\n",
    "        scalar_mgrid = sol.scalar_field_matrix[index].reshape(res)\n",
    "\n",
    "        # calculate gradient\n",
    "        gx, gy, gz = np.gradient(scalar_mgrid)\n",
    "\n",
    "       \n",
    "        vectors = np.array([gx.reshape(int(res[0] ** dim)), gy.reshape(int(res[0] ** dim)), gz.reshape(int(res[0] ** dim))])\n",
    "        vectors = np.swapaxes(vectors, 0, 1)\n",
    "        vectors = preprocessing.normalize(vectors, norm='l2')\n",
    "        dict_all.update({index:vectors})\n",
    "         \n",
    "    \n",
    "    for index in range(0,series_count,1):\n",
    "            data_temp = pd.DataFrame(dict_all[index])\n",
    "            dict_spec.update({'series_{}'.format(index):data_temp})\n",
    "    return dict_spec\n",
    "\n",
    "dict_spec=get_gradient(sol, res=[50,50,50], dim=3)\n",
    "\n",
    "#define cell locations and correspoding domain name\n",
    "x=sol.grid.regular_grid.values[:, 0]\n",
    "y=sol.grid.regular_grid.values[:, 1]\n",
    "z=sol.grid.regular_grid.values[:, 2]\n",
    "formation=sol.lith_block\n",
    "\n",
    "#add cell locations and domain names to the gradient dataframe\n",
    "for key,value in dict_spec.items():\n",
    "    #load coordinate and formation array to the whole series dataframes\n",
    "    value[\"X\"]=x\n",
    "    value['Y']=y\n",
    "    value['Z']=z\n",
    "    value['formation']=formation\n",
    "    #value = value.reset_index()\n",
    "    #define column names\n",
    "    value.columns=['G_x','G_y','G_z','X','Y','Z','formation'] "
   ]
  },
  {
   "cell_type": "code",
   "execution_count": 81,
   "metadata": {},
   "outputs": [],
   "source": [
    "#extract and save necessary orientation data for each strat series\n",
    "dict_spec['series_0']=dict_spec['series_0'][dict_spec['series_0'].formation==1]\n",
    "\n",
    "dict_spec['series_1']=dict_spec['series_1'][dict_spec['series_1'].formation==2]\n",
    "\n",
    "dict_spec['series_2']=dict_spec['series_2'].drop(dict_spec['series_2'][(dict_spec['series_2'].formation<=2)].index)\n",
    "\n",
    "#join all orientation data into one data frame\n",
    "orientations = pd.concat([dict_spec['series_0'],dict_spec['series_1'],dict_spec['series_2']], ignore_index=True)\n",
    "\n",
    "#extract ideal case grid and define it as \"ideal\"\n",
    "unit=range(0,unit_count+1)\n",
    "for index in unit:\n",
    "    domain_x, domain_y, domain_z = extract_domain(sol, (unit[index+1]))\n",
    "    coordinates = np.array([domain_x, domain_y, domain_z])\n",
    "    coordinates = coordinates.swapaxes(0,1)\n",
    "    data=pd.DataFrame(coordinates, columns=['X','Y','Z'])\n",
    "    data.loc[:, 'formation'] =float(unit[index+1])\n",
    "    data.to_csv(r'data_extracted/ideal/unit_{}.csv'.format(unit[index+1]), mode=\"w\", index=False)"
   ]
  },
  {
   "cell_type": "code",
   "execution_count": 83,
   "metadata": {},
   "outputs": [
    {
     "ename": "IndexError",
     "evalue": "range object index out of range",
     "output_type": "error",
     "traceback": [
      "\u001b[1;31m---------------------------------------------------------------------------\u001b[0m",
      "\u001b[1;31mIndexError\u001b[0m                                Traceback (most recent call last)",
      "\u001b[1;32m<ipython-input-83-1d7e0c3be85c>\u001b[0m in \u001b[0;36m<module>\u001b[1;34m\u001b[0m\n\u001b[0;32m      1\u001b[0m \u001b[0munit\u001b[0m\u001b[1;33m=\u001b[0m\u001b[0mrange\u001b[0m\u001b[1;33m(\u001b[0m\u001b[1;36m0\u001b[0m\u001b[1;33m,\u001b[0m\u001b[0munit_count\u001b[0m\u001b[1;33m+\u001b[0m\u001b[1;36m1\u001b[0m\u001b[1;33m)\u001b[0m\u001b[1;33m\u001b[0m\u001b[1;33m\u001b[0m\u001b[0m\n\u001b[0;32m      2\u001b[0m \u001b[1;32mfor\u001b[0m \u001b[0mindex\u001b[0m \u001b[1;32min\u001b[0m \u001b[0munit\u001b[0m\u001b[1;33m:\u001b[0m\u001b[1;33m\u001b[0m\u001b[1;33m\u001b[0m\u001b[0m\n\u001b[1;32m----> 3\u001b[1;33m     \u001b[0mdomain_x\u001b[0m\u001b[1;33m,\u001b[0m \u001b[0mdomain_y\u001b[0m\u001b[1;33m,\u001b[0m \u001b[0mdomain_z\u001b[0m \u001b[1;33m=\u001b[0m \u001b[0mextract_domain\u001b[0m\u001b[1;33m(\u001b[0m\u001b[0msol\u001b[0m\u001b[1;33m,\u001b[0m \u001b[1;33m(\u001b[0m\u001b[0munit\u001b[0m\u001b[1;33m[\u001b[0m\u001b[0mindex\u001b[0m\u001b[1;33m+\u001b[0m\u001b[1;36m1\u001b[0m\u001b[1;33m]\u001b[0m\u001b[1;33m)\u001b[0m\u001b[1;33m)\u001b[0m\u001b[1;33m\u001b[0m\u001b[1;33m\u001b[0m\u001b[0m\n\u001b[0m\u001b[0;32m      4\u001b[0m     \u001b[0mcoordinates\u001b[0m \u001b[1;33m=\u001b[0m \u001b[0mnp\u001b[0m\u001b[1;33m.\u001b[0m\u001b[0marray\u001b[0m\u001b[1;33m(\u001b[0m\u001b[1;33m[\u001b[0m\u001b[0mdomain_x\u001b[0m\u001b[1;33m,\u001b[0m \u001b[0mdomain_y\u001b[0m\u001b[1;33m,\u001b[0m \u001b[0mdomain_z\u001b[0m\u001b[1;33m]\u001b[0m\u001b[1;33m)\u001b[0m\u001b[1;33m\u001b[0m\u001b[1;33m\u001b[0m\u001b[0m\n\u001b[0;32m      5\u001b[0m     \u001b[0mcoordinates\u001b[0m \u001b[1;33m=\u001b[0m \u001b[0mcoordinates\u001b[0m\u001b[1;33m.\u001b[0m\u001b[0mswapaxes\u001b[0m\u001b[1;33m(\u001b[0m\u001b[1;36m0\u001b[0m\u001b[1;33m,\u001b[0m\u001b[1;36m1\u001b[0m\u001b[1;33m)\u001b[0m\u001b[1;33m\u001b[0m\u001b[1;33m\u001b[0m\u001b[0m\n",
      "\u001b[1;31mIndexError\u001b[0m: range object index out of range"
     ]
    }
   ],
   "source": [
    "# if you want to join all files in the same folder\n",
    "path =r'data_extracted/ideal/'\n",
    "\n",
    "filenames = glob.glob(path + \"/*.csv\")\n",
    "\n",
    "dfs = []\n",
    "for filename in filenames:\n",
    "    dfs.append(pd.read_csv(filename))\n",
    "\n",
    "# Concatenate all data into one DataFrame\n",
    "ideal = pd.concat(dfs, ignore_index=True)\n",
    "\n",
    "#compare ideal and orientation grid and extract the cells that are the same\n",
    "df_same = orientations.merge(ideal, left_on=('X','Y','Z','formation'), right_on=('X','Y','Z','formation'), how='inner')\n",
    "df_same= df_same[df_same.formation != unit_count]\n",
    "df_same"
   ]
  },
  {
   "cell_type": "code",
   "execution_count": 103,
   "metadata": {},
   "outputs": [],
   "source": [
    "#drill boreholess!!\n",
    "def d_boreholes(b_count):\n",
    "    borehole_count=range(0,b_count,1)\n",
    "    rand_ind=random.sample(range(0,len(df_same)),b_count)\n",
    "    dict_all={}\n",
    "    boreholes_dict={}\n",
    "\n",
    "    for index in tqdm(borehole_count):\n",
    "        list_temp=[]\n",
    "        for row in df_same.itertuples():\n",
    "            if (df_same.iloc[rand_ind[index]].X==row.X and df_same.iloc[rand_ind[index]].Y==row.Y):\n",
    "                list_temp.append([row.X,row.Y,row.Z,row.G_x, row.G_y, row.G_z, row.formation])\n",
    "                \n",
    "        dict_all.update({index+1:list_temp})\n",
    "\n",
    "    for index in range(0,b_count,1): \n",
    "        data_temp = pd.DataFrame(dict_all[index+1])\n",
    "        data_temp.columns=['X','Y','Z','G_x','G_y','G_z','formation']\n",
    "        data_temp.loc[:, 'borehole']=index+1\n",
    "        boreholes_dict.update({index+1:data_temp})\n",
    "    return boreholes_dict\n",
    "\n",
    "#define desired number of boreholes\n",
    "boreholes_dict=d_boreholes(100)\n",
    "\n",
    "#join all borehole data into one dataframe\n",
    "df = pd.concat(boreholes_dict.values(), ignore_index=True)\n",
    "# boreholes_dict.to_csv('test100')\n",
    "\n",
    "#load joined csv dataset\n",
    "bore_count = df['borehole'].nunique()\n",
    "\n",
    "#create mesh grid and define vertices, convert it to a pyvista poly data\n",
    "vertices = df[['X', 'Y', 'Z']].values\n",
    "grid=pv.PolyData(vertices)\n",
    "grid['formation'] = df['formation'].values"
   ]
  },
  {
   "cell_type": "code",
   "execution_count": 109,
   "metadata": {},
   "outputs": [
    {
     "data": {
      "text/html": [
       "<div>\n",
       "<style scoped>\n",
       "    .dataframe tbody tr th:only-of-type {\n",
       "        vertical-align: middle;\n",
       "    }\n",
       "\n",
       "    .dataframe tbody tr th {\n",
       "        vertical-align: top;\n",
       "    }\n",
       "\n",
       "    .dataframe thead th {\n",
       "        text-align: right;\n",
       "    }\n",
       "</style>\n",
       "<table border=\"1\" class=\"dataframe\">\n",
       "  <thead>\n",
       "    <tr style=\"text-align: right;\">\n",
       "      <th></th>\n",
       "      <th>X</th>\n",
       "      <th>Y</th>\n",
       "      <th>Z</th>\n",
       "      <th>G_x</th>\n",
       "      <th>G_y</th>\n",
       "      <th>G_z</th>\n",
       "      <th>formation</th>\n",
       "      <th>borehole</th>\n",
       "    </tr>\n",
       "  </thead>\n",
       "  <tbody>\n",
       "    <tr>\n",
       "      <th>0</th>\n",
       "      <td>1071.13</td>\n",
       "      <td>450.0</td>\n",
       "      <td>6.79</td>\n",
       "      <td>-0.06</td>\n",
       "      <td>0.09</td>\n",
       "      <td>0.99</td>\n",
       "      <td>topo</td>\n",
       "      <td>1</td>\n",
       "    </tr>\n",
       "    <tr>\n",
       "      <th>1</th>\n",
       "      <td>1071.13</td>\n",
       "      <td>450.0</td>\n",
       "      <td>21.13</td>\n",
       "      <td>-0.06</td>\n",
       "      <td>0.09</td>\n",
       "      <td>0.99</td>\n",
       "      <td>topo</td>\n",
       "      <td>1</td>\n",
       "    </tr>\n",
       "    <tr>\n",
       "      <th>2</th>\n",
       "      <td>1071.13</td>\n",
       "      <td>450.0</td>\n",
       "      <td>35.47</td>\n",
       "      <td>-0.06</td>\n",
       "      <td>0.09</td>\n",
       "      <td>0.99</td>\n",
       "      <td>topo</td>\n",
       "      <td>1</td>\n",
       "    </tr>\n",
       "    <tr>\n",
       "      <th>3</th>\n",
       "      <td>1071.13</td>\n",
       "      <td>450.0</td>\n",
       "      <td>49.81</td>\n",
       "      <td>-0.06</td>\n",
       "      <td>0.09</td>\n",
       "      <td>0.99</td>\n",
       "      <td>topo</td>\n",
       "      <td>1</td>\n",
       "    </tr>\n",
       "    <tr>\n",
       "      <th>4</th>\n",
       "      <td>1071.13</td>\n",
       "      <td>450.0</td>\n",
       "      <td>64.15</td>\n",
       "      <td>-0.05</td>\n",
       "      <td>0.09</td>\n",
       "      <td>0.99</td>\n",
       "      <td>topo</td>\n",
       "      <td>1</td>\n",
       "    </tr>\n",
       "    <tr>\n",
       "      <th>...</th>\n",
       "      <td>...</td>\n",
       "      <td>...</td>\n",
       "      <td>...</td>\n",
       "      <td>...</td>\n",
       "      <td>...</td>\n",
       "      <td>...</td>\n",
       "      <td>...</td>\n",
       "      <td>...</td>\n",
       "    </tr>\n",
       "    <tr>\n",
       "      <th>3753</th>\n",
       "      <td>707.35</td>\n",
       "      <td>350.0</td>\n",
       "      <td>-150.95</td>\n",
       "      <td>0.25</td>\n",
       "      <td>0.21</td>\n",
       "      <td>0.95</td>\n",
       "      <td>zinnwaiditegranite</td>\n",
       "      <td>99</td>\n",
       "    </tr>\n",
       "    <tr>\n",
       "      <th>3754</th>\n",
       "      <td>707.35</td>\n",
       "      <td>350.0</td>\n",
       "      <td>-136.61</td>\n",
       "      <td>0.22</td>\n",
       "      <td>0.22</td>\n",
       "      <td>0.95</td>\n",
       "      <td>zinnwaiditegranite</td>\n",
       "      <td>99</td>\n",
       "    </tr>\n",
       "    <tr>\n",
       "      <th>3755</th>\n",
       "      <td>707.35</td>\n",
       "      <td>350.0</td>\n",
       "      <td>-122.27</td>\n",
       "      <td>0.20</td>\n",
       "      <td>0.23</td>\n",
       "      <td>0.95</td>\n",
       "      <td>zinnwaiditegranite</td>\n",
       "      <td>99</td>\n",
       "    </tr>\n",
       "    <tr>\n",
       "      <th>3756</th>\n",
       "      <td>707.35</td>\n",
       "      <td>350.0</td>\n",
       "      <td>-107.93</td>\n",
       "      <td>0.17</td>\n",
       "      <td>0.23</td>\n",
       "      <td>0.96</td>\n",
       "      <td>zinnwaiditegranite</td>\n",
       "      <td>99</td>\n",
       "    </tr>\n",
       "    <tr>\n",
       "      <th>3757</th>\n",
       "      <td>707.35</td>\n",
       "      <td>350.0</td>\n",
       "      <td>-79.25</td>\n",
       "      <td>0.13</td>\n",
       "      <td>0.24</td>\n",
       "      <td>0.96</td>\n",
       "      <td>zinnwaiditegranite</td>\n",
       "      <td>99</td>\n",
       "    </tr>\n",
       "  </tbody>\n",
       "</table>\n",
       "<p>3758 rows × 8 columns</p>\n",
       "</div>"
      ],
      "text/plain": [
       "            X      Y       Z   G_x   G_y   G_z           formation  borehole\n",
       "0     1071.13  450.0    6.79 -0.06  0.09  0.99                topo         1\n",
       "1     1071.13  450.0   21.13 -0.06  0.09  0.99                topo         1\n",
       "2     1071.13  450.0   35.47 -0.06  0.09  0.99                topo         1\n",
       "3     1071.13  450.0   49.81 -0.06  0.09  0.99                topo         1\n",
       "4     1071.13  450.0   64.15 -0.05  0.09  0.99                topo         1\n",
       "...       ...    ...     ...   ...   ...   ...                 ...       ...\n",
       "3753   707.35  350.0 -150.95  0.25  0.21  0.95  zinnwaiditegranite        99\n",
       "3754   707.35  350.0 -136.61  0.22  0.22  0.95  zinnwaiditegranite        99\n",
       "3755   707.35  350.0 -122.27  0.20  0.23  0.95  zinnwaiditegranite        99\n",
       "3756   707.35  350.0 -107.93  0.17  0.23  0.96  zinnwaiditegranite        99\n",
       "3757   707.35  350.0  -79.25  0.13  0.24  0.96  zinnwaiditegranite        99\n",
       "\n",
       "[3758 rows x 8 columns]"
      ]
     },
     "execution_count": 109,
     "metadata": {},
     "output_type": "execute_result"
    }
   ],
   "source": [
    "unit=('topo','overburden', 'rhyolite','zinnwaiditegranite','lowmicagranite')\n",
    "for index in range(1,unit_count):\n",
    "    df['formation'] = df.loc[:,'formation'].replace(index,unit[index-1])\n",
    "\n",
    "df"
   ]
  },
  {
   "cell_type": "code",
   "execution_count": 57,
   "metadata": {},
   "outputs": [
    {
     "name": "stderr",
     "output_type": "stream",
     "text": [
      "C:\\Users\\pasha\\python\\lib\\site-packages\\pyvista\\plotting\\plotting.py:1354: PyvistaDeprecationWarning: \n",
      "\"stitle\" is a depreciated keyword and will be removed in a future\n",
      "release.\n",
      "\n",
      "Use ``scalar_bar_args`` instead.  For example:\n",
      "\n",
      "scalar_bar_args={'title': 'Scalar Bar Title'}\n",
      "\n",
      "  warnings.warn(USE_SCALAR_BAR_ARGS, PyvistaDeprecationWarning)\n"
     ]
    },
    {
     "data": {
      "text/plain": [
       "(vtkmodules.vtkRenderingOpenGL2.vtkOpenGLActor)00000289EF4DA2E0"
      ]
     },
     "execution_count": 57,
     "metadata": {},
     "output_type": "execute_result"
    }
   ],
   "source": [
    "p = pvqt.BackgroundPlotter()\n",
    "gpv = gp.plot_3d(geo_data, plotter_type='background', show_data=False, show_lith=True, show_surfaces=True,\n",
    "                kwargs_plot_structured_grid={'opacity': .3})\n",
    "\n",
    "#creating the grade mesh calculated with kriging (colormap) \n",
    "gpv.p.add_mesh(grid, scalars='formation', opacity=1, cmap='viridis', point_size=15)"
   ]
  },
  {
   "cell_type": "markdown",
   "metadata": {},
   "source": [
    "### Extract data from boreholes to generate point data for the regenerated model"
   ]
  },
  {
   "cell_type": "code",
   "execution_count": 110,
   "metadata": {},
   "outputs": [
    {
     "data": {
      "text/html": [
       "<div>\n",
       "<style scoped>\n",
       "    .dataframe tbody tr th:only-of-type {\n",
       "        vertical-align: middle;\n",
       "    }\n",
       "\n",
       "    .dataframe tbody tr th {\n",
       "        vertical-align: top;\n",
       "    }\n",
       "\n",
       "    .dataframe thead th {\n",
       "        text-align: right;\n",
       "    }\n",
       "</style>\n",
       "<table border=\"1\" class=\"dataframe\">\n",
       "  <thead>\n",
       "    <tr style=\"text-align: right;\">\n",
       "      <th></th>\n",
       "      <th>X</th>\n",
       "      <th>Y</th>\n",
       "      <th>Z</th>\n",
       "      <th>G_x</th>\n",
       "      <th>G_y</th>\n",
       "      <th>G_z</th>\n",
       "      <th>formation</th>\n",
       "    </tr>\n",
       "  </thead>\n",
       "  <tbody>\n",
       "    <tr>\n",
       "      <th>202</th>\n",
       "      <td>343.57</td>\n",
       "      <td>830.0</td>\n",
       "      <td>-36.23</td>\n",
       "      <td>0.13</td>\n",
       "      <td>-1.30e-02</td>\n",
       "      <td>0.99</td>\n",
       "      <td>topo</td>\n",
       "    </tr>\n",
       "    <tr>\n",
       "      <th>308</th>\n",
       "      <td>747.77</td>\n",
       "      <td>190.0</td>\n",
       "      <td>6.79</td>\n",
       "      <td>-0.13</td>\n",
       "      <td>-6.16e-03</td>\n",
       "      <td>0.99</td>\n",
       "      <td>topo</td>\n",
       "    </tr>\n",
       "    <tr>\n",
       "      <th>148</th>\n",
       "      <td>464.83</td>\n",
       "      <td>990.0</td>\n",
       "      <td>-36.23</td>\n",
       "      <td>0.15</td>\n",
       "      <td>4.07e-03</td>\n",
       "      <td>0.99</td>\n",
       "      <td>topo</td>\n",
       "    </tr>\n",
       "    <tr>\n",
       "      <th>144</th>\n",
       "      <td>1071.13</td>\n",
       "      <td>410.0</td>\n",
       "      <td>6.79</td>\n",
       "      <td>-0.07</td>\n",
       "      <td>8.02e-02</td>\n",
       "      <td>0.99</td>\n",
       "      <td>topo</td>\n",
       "    </tr>\n",
       "    <tr>\n",
       "      <th>312</th>\n",
       "      <td>1030.71</td>\n",
       "      <td>490.0</td>\n",
       "      <td>6.79</td>\n",
       "      <td>-0.06</td>\n",
       "      <td>8.80e-02</td>\n",
       "      <td>0.99</td>\n",
       "      <td>topo</td>\n",
       "    </tr>\n",
       "    <tr>\n",
       "      <th>...</th>\n",
       "      <td>...</td>\n",
       "      <td>...</td>\n",
       "      <td>...</td>\n",
       "      <td>...</td>\n",
       "      <td>...</td>\n",
       "      <td>...</td>\n",
       "      <td>...</td>\n",
       "    </tr>\n",
       "    <tr>\n",
       "      <th>119</th>\n",
       "      <td>303.15</td>\n",
       "      <td>170.0</td>\n",
       "      <td>-552.47</td>\n",
       "      <td>0.07</td>\n",
       "      <td>-2.00e-01</td>\n",
       "      <td>0.98</td>\n",
       "      <td>lowmicagranite</td>\n",
       "    </tr>\n",
       "    <tr>\n",
       "      <th>327</th>\n",
       "      <td>1273.23</td>\n",
       "      <td>50.0</td>\n",
       "      <td>-609.83</td>\n",
       "      <td>0.12</td>\n",
       "      <td>7.54e-02</td>\n",
       "      <td>0.99</td>\n",
       "      <td>lowmicagranite</td>\n",
       "    </tr>\n",
       "    <tr>\n",
       "      <th>246</th>\n",
       "      <td>788.19</td>\n",
       "      <td>50.0</td>\n",
       "      <td>-595.49</td>\n",
       "      <td>0.35</td>\n",
       "      <td>-6.97e-02</td>\n",
       "      <td>0.93</td>\n",
       "      <td>lowmicagranite</td>\n",
       "    </tr>\n",
       "    <tr>\n",
       "      <th>201</th>\n",
       "      <td>343.57</td>\n",
       "      <td>830.0</td>\n",
       "      <td>-523.79</td>\n",
       "      <td>0.30</td>\n",
       "      <td>9.96e-03</td>\n",
       "      <td>0.95</td>\n",
       "      <td>lowmicagranite</td>\n",
       "    </tr>\n",
       "    <tr>\n",
       "      <th>0</th>\n",
       "      <td>1071.13</td>\n",
       "      <td>450.0</td>\n",
       "      <td>-595.49</td>\n",
       "      <td>0.24</td>\n",
       "      <td>1.74e-02</td>\n",
       "      <td>0.97</td>\n",
       "      <td>lowmicagranite</td>\n",
       "    </tr>\n",
       "  </tbody>\n",
       "</table>\n",
       "<p>405 rows × 7 columns</p>\n",
       "</div>"
      ],
      "text/plain": [
       "           X      Y       Z   G_x       G_y   G_z       formation\n",
       "202   343.57  830.0  -36.23  0.13 -1.30e-02  0.99            topo\n",
       "308   747.77  190.0    6.79 -0.13 -6.16e-03  0.99            topo\n",
       "148   464.83  990.0  -36.23  0.15  4.07e-03  0.99            topo\n",
       "144  1071.13  410.0    6.79 -0.07  8.02e-02  0.99            topo\n",
       "312  1030.71  490.0    6.79 -0.06  8.80e-02  0.99            topo\n",
       "..       ...    ...     ...   ...       ...   ...             ...\n",
       "119   303.15  170.0 -552.47  0.07 -2.00e-01  0.98  lowmicagranite\n",
       "327  1273.23   50.0 -609.83  0.12  7.54e-02  0.99  lowmicagranite\n",
       "246   788.19   50.0 -595.49  0.35 -6.97e-02  0.93  lowmicagranite\n",
       "201   343.57  830.0 -523.79  0.30  9.96e-03  0.95  lowmicagranite\n",
       "0    1071.13  450.0 -595.49  0.24  1.74e-02  0.97  lowmicagranite\n",
       "\n",
       "[405 rows x 7 columns]"
      ]
     },
     "execution_count": 110,
     "metadata": {},
     "output_type": "execute_result"
    }
   ],
   "source": [
    "#picking lowermost boundary for each formation through the borehole data \n",
    "\n",
    "dict_all=[]\n",
    "list_temp=[]\n",
    "\n",
    "for br in range(1,bore_count+1,1):\n",
    "    for fr in range(1,form_count+1,1):\n",
    "          list_temp.append(df[(df['borehole']==br) & (df['formation']==unit[fr-2])])\n",
    "list_temp2=[]\n",
    "for i in list_temp:\n",
    "    if(not i.empty):\n",
    "        list_temp2.append(i.iloc[0])\n",
    "df_b=pd.DataFrame(list_temp2, index=range(0,len(list_temp2),1))\n",
    "del df_b['borehole']\n",
    "t = pd.CategoricalDtype(categories=['topo','overburden', 'rhyolite','zinnwaiditegranite','lowmicagranite'], ordered=True)\n",
    "df_b['formation']=pd.Series(df_b.formation, dtype=t)\n",
    "df_b.sort_values(by=['formation'],inplace=True)\n",
    "#df_b[df_b['formation']=='pipe']\n",
    "df_b\n"
   ]
  },
  {
   "cell_type": "code",
   "execution_count": 111,
   "metadata": {},
   "outputs": [],
   "source": [
    "df_b.to_csv(r'data_all_test100.csv', index = False)"
   ]
  },
  {
   "cell_type": "code",
   "execution_count": null,
   "metadata": {},
   "outputs": [],
   "source": []
  }
 ],
 "metadata": {
  "kernelspec": {
   "display_name": "Python 3",
   "language": "python",
   "name": "python3"
  },
  "language_info": {
   "codemirror_mode": {
    "name": "ipython",
    "version": 3
   },
   "file_extension": ".py",
   "mimetype": "text/x-python",
   "name": "python",
   "nbconvert_exporter": "python",
   "pygments_lexer": "ipython3",
   "version": "3.8.8"
  }
 },
 "nbformat": 4,
 "nbformat_minor": 1
}
