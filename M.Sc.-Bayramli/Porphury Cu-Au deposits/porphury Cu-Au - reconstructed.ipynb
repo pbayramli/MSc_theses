{
 "cells": [
  {
   "cell_type": "markdown",
   "metadata": {},
   "source": [
    "Importing gempy\n",
    "\n"
   ]
  },
  {
   "cell_type": "code",
   "execution_count": 1,
   "metadata": {},
   "outputs": [
    {
     "name": "stderr",
     "output_type": "stream",
     "text": [
      "WARNING (theano.configdefaults): g++ not available, if using conda: `conda install m2w64-toolchain`\n",
      "C:\\Users\\pasha\\python\\lib\\site-packages\\theano\\configdefaults.py:560: UserWarning: DeprecationWarning: there is no c++ compiler.This is deprecated and with Theano 0.11 a c++ compiler will be mandatory\n",
      "  warnings.warn(\"DeprecationWarning: there is no c++ compiler.\"\n",
      "WARNING (theano.configdefaults): g++ not detected ! Theano will be unable to execute optimized C-implementations (for both CPU and GPU) and will default to Python implementations. Performance will be severely degraded. To remove this warning, set Theano flags cxx to an empty string.\n"
     ]
    },
    {
     "name": "stdout",
     "output_type": "stream",
     "text": [
      "No module named 'osgeo'\n"
     ]
    },
    {
     "name": "stderr",
     "output_type": "stream",
     "text": [
      "WARNING (theano.tensor.blas): Using NumPy C-API based implementation for BLAS functions.\n"
     ]
    }
   ],
   "source": [
    "%matplotlib inline\n",
    "from pyvista import set_plot_theme\n",
    "set_plot_theme('document')\n",
    "import gempy as gp\n",
    "\n",
    "# Aux imports\n",
    "import numpy as np\n",
    "import pandas as pd\n",
    "import os\n",
    "import pickle\n",
    "import matplotlib.pyplot as plt\n",
    "import gstools as gs\n",
    "import pyvista as pv\n",
    "import pyvistaqt as pvqt\n",
    "import PVGeo\n",
    "import glob\n",
    "import random\n",
    "from tqdm import tqdm\n",
    "\n",
    "np.random.seed(1515)\n",
    "pd.set_option('precision', 2)"
   ]
  },
  {
   "cell_type": "markdown",
   "metadata": {},
   "source": [
    "We import a model from an existing folder, representing a subduction\n",
    "zone with onlap relationships. The theano function is automatically\n",
    "recombined to allow changes.\n",
    "\n",
    "\n"
   ]
  },
  {
   "cell_type": "code",
   "execution_count": 2,
   "metadata": {},
   "outputs": [
    {
     "name": "stdout",
     "output_type": "stream",
     "text": [
      " mesh size: 125000\n"
     ]
    }
   ],
   "source": [
    "#define resolution and mesh size\n",
    "reso=[50, 50, 50]\n",
    "mesh_size = reso[0]*reso[1]*reso[2]\n",
    "extent=[0, 1494, 0, 1000, -1119, 0]\n",
    "print(' mesh size: ' + str(mesh_size))"
   ]
  },
  {
   "cell_type": "code",
   "execution_count": 3,
   "metadata": {},
   "outputs": [],
   "source": [
    "surface_points=pd.read_csv('data_all_test50.csv')\n",
    "orientations=pd.read_csv('data_all_test50.csv')"
   ]
  },
  {
   "cell_type": "code",
   "execution_count": 4,
   "metadata": {},
   "outputs": [
    {
     "name": "stdout",
     "output_type": "stream",
     "text": [
      "Active grids: ['regular']\n"
     ]
    }
   ],
   "source": [
    "geo_data = gp.create_data('foresets', extent=extent, resolution=reso)\n",
    "geo_data.set_surface_points(surface_points)\n",
    "geo_data.set_orientations(orientations)\n",
    "geo_data.resolution=reso"
   ]
  },
  {
   "cell_type": "code",
   "execution_count": 5,
   "metadata": {},
   "outputs": [
    {
     "data": {
      "text/html": [
       "<div>\n",
       "<style scoped>\n",
       "    .dataframe tbody tr th:only-of-type {\n",
       "        vertical-align: middle;\n",
       "    }\n",
       "\n",
       "    .dataframe tbody tr th {\n",
       "        vertical-align: top;\n",
       "    }\n",
       "\n",
       "    .dataframe thead th {\n",
       "        text-align: right;\n",
       "    }\n",
       "</style>\n",
       "<table border=\"1\" class=\"dataframe\">\n",
       "  <thead>\n",
       "    <tr style=\"text-align: right;\">\n",
       "      <th></th>\n",
       "      <th></th>\n",
       "      <th>X</th>\n",
       "      <th>Y</th>\n",
       "      <th>Z</th>\n",
       "      <th>smooth</th>\n",
       "      <th>surface</th>\n",
       "      <th>G_x</th>\n",
       "      <th>G_y</th>\n",
       "      <th>G_z</th>\n",
       "    </tr>\n",
       "  </thead>\n",
       "  <tbody>\n",
       "    <tr>\n",
       "      <th rowspan=\"5\" valign=\"top\">surface_points</th>\n",
       "      <th>0</th>\n",
       "      <td>1060.74</td>\n",
       "      <td>650</td>\n",
       "      <td>-100.71</td>\n",
       "      <td>2.00e-06</td>\n",
       "      <td>Premine topo</td>\n",
       "      <td>NaN</td>\n",
       "      <td>NaN</td>\n",
       "      <td>NaN</td>\n",
       "    </tr>\n",
       "    <tr>\n",
       "      <th>1</th>\n",
       "      <td>672.30</td>\n",
       "      <td>270</td>\n",
       "      <td>-78.33</td>\n",
       "      <td>2.00e-06</td>\n",
       "      <td>Premine topo</td>\n",
       "      <td>NaN</td>\n",
       "      <td>NaN</td>\n",
       "      <td>NaN</td>\n",
       "    </tr>\n",
       "    <tr>\n",
       "      <th>2</th>\n",
       "      <td>313.74</td>\n",
       "      <td>50</td>\n",
       "      <td>-167.85</td>\n",
       "      <td>2.00e-06</td>\n",
       "      <td>Premine topo</td>\n",
       "      <td>NaN</td>\n",
       "      <td>NaN</td>\n",
       "      <td>NaN</td>\n",
       "    </tr>\n",
       "    <tr>\n",
       "      <th>3</th>\n",
       "      <td>971.10</td>\n",
       "      <td>450</td>\n",
       "      <td>-100.71</td>\n",
       "      <td>2.00e-06</td>\n",
       "      <td>Premine topo</td>\n",
       "      <td>NaN</td>\n",
       "      <td>NaN</td>\n",
       "      <td>NaN</td>\n",
       "    </tr>\n",
       "    <tr>\n",
       "      <th>4</th>\n",
       "      <td>672.30</td>\n",
       "      <td>570</td>\n",
       "      <td>-100.71</td>\n",
       "      <td>2.00e-06</td>\n",
       "      <td>Premine topo</td>\n",
       "      <td>NaN</td>\n",
       "      <td>NaN</td>\n",
       "      <td>NaN</td>\n",
       "    </tr>\n",
       "    <tr>\n",
       "      <th>...</th>\n",
       "      <th>...</th>\n",
       "      <td>...</td>\n",
       "      <td>...</td>\n",
       "      <td>...</td>\n",
       "      <td>...</td>\n",
       "      <td>...</td>\n",
       "      <td>...</td>\n",
       "      <td>...</td>\n",
       "      <td>...</td>\n",
       "    </tr>\n",
       "    <tr>\n",
       "      <th rowspan=\"5\" valign=\"top\">orientations</th>\n",
       "      <th>67</th>\n",
       "      <td>971.10</td>\n",
       "      <td>450</td>\n",
       "      <td>-951.15</td>\n",
       "      <td>1.00e-02</td>\n",
       "      <td>Equigranular Monzonite</td>\n",
       "      <td>-0.95</td>\n",
       "      <td>-0.30</td>\n",
       "      <td>0.09</td>\n",
       "    </tr>\n",
       "    <tr>\n",
       "      <th>68</th>\n",
       "      <td>1120.50</td>\n",
       "      <td>130</td>\n",
       "      <td>-593.07</td>\n",
       "      <td>1.00e-02</td>\n",
       "      <td>Equigranular Monzonite</td>\n",
       "      <td>-0.83</td>\n",
       "      <td>0.05</td>\n",
       "      <td>0.56</td>\n",
       "    </tr>\n",
       "    <tr>\n",
       "      <th>69</th>\n",
       "      <td>403.38</td>\n",
       "      <td>10</td>\n",
       "      <td>-593.07</td>\n",
       "      <td>1.00e-02</td>\n",
       "      <td>Equigranular Monzonite</td>\n",
       "      <td>0.77</td>\n",
       "      <td>-0.15</td>\n",
       "      <td>-0.61</td>\n",
       "    </tr>\n",
       "    <tr>\n",
       "      <th>70</th>\n",
       "      <td>1150.38</td>\n",
       "      <td>150</td>\n",
       "      <td>-570.69</td>\n",
       "      <td>1.00e-02</td>\n",
       "      <td>Equigranular Monzonite</td>\n",
       "      <td>-0.83</td>\n",
       "      <td>-0.10</td>\n",
       "      <td>0.55</td>\n",
       "    </tr>\n",
       "    <tr>\n",
       "      <th>71</th>\n",
       "      <td>1150.38</td>\n",
       "      <td>70</td>\n",
       "      <td>-570.69</td>\n",
       "      <td>1.00e-02</td>\n",
       "      <td>Equigranular Monzonite</td>\n",
       "      <td>-0.52</td>\n",
       "      <td>-0.02</td>\n",
       "      <td>0.85</td>\n",
       "    </tr>\n",
       "  </tbody>\n",
       "</table>\n",
       "<p>144 rows × 8 columns</p>\n",
       "</div>"
      ],
      "text/plain": [
       "                         X    Y       Z    smooth                 surface  \\\n",
       "surface_points 0   1060.74  650 -100.71  2.00e-06            Premine topo   \n",
       "               1    672.30  270  -78.33  2.00e-06            Premine topo   \n",
       "               2    313.74   50 -167.85  2.00e-06            Premine topo   \n",
       "               3    971.10  450 -100.71  2.00e-06            Premine topo   \n",
       "               4    672.30  570 -100.71  2.00e-06            Premine topo   \n",
       "...                    ...  ...     ...       ...                     ...   \n",
       "orientations   67   971.10  450 -951.15  1.00e-02  Equigranular Monzonite   \n",
       "               68  1120.50  130 -593.07  1.00e-02  Equigranular Monzonite   \n",
       "               69   403.38   10 -593.07  1.00e-02  Equigranular Monzonite   \n",
       "               70  1150.38  150 -570.69  1.00e-02  Equigranular Monzonite   \n",
       "               71  1150.38   70 -570.69  1.00e-02  Equigranular Monzonite   \n",
       "\n",
       "                    G_x   G_y   G_z  \n",
       "surface_points 0    NaN   NaN   NaN  \n",
       "               1    NaN   NaN   NaN  \n",
       "               2    NaN   NaN   NaN  \n",
       "               3    NaN   NaN   NaN  \n",
       "               4    NaN   NaN   NaN  \n",
       "...                 ...   ...   ...  \n",
       "orientations   67 -0.95 -0.30  0.09  \n",
       "               68 -0.83  0.05  0.56  \n",
       "               69  0.77 -0.15 -0.61  \n",
       "               70 -0.83 -0.10  0.55  \n",
       "               71 -0.52 -0.02  0.85  \n",
       "\n",
       "[144 rows x 8 columns]"
      ]
     },
     "execution_count": 5,
     "metadata": {},
     "output_type": "execute_result"
    }
   ],
   "source": [
    "geo_data.get_data()"
   ]
  },
  {
   "cell_type": "code",
   "execution_count": 6,
   "metadata": {},
   "outputs": [
    {
     "data": {
      "text/html": [
       "<style  type=\"text/css\" >\n",
       "#T_741fd_row0_col3{\n",
       "            background-color:  #015482;\n",
       "        }#T_741fd_row1_col3{\n",
       "            background-color:  #9f0052;\n",
       "        }#T_741fd_row2_col3{\n",
       "            background-color:  #ffbe00;\n",
       "        }#T_741fd_row3_col3{\n",
       "            background-color:  #728f02;\n",
       "        }</style><table id=\"T_741fd_\" ><thead>    <tr>        <th class=\"blank level0\" ></th>        <th class=\"col_heading level0 col0\" >surface</th>        <th class=\"col_heading level0 col1\" >series</th>        <th class=\"col_heading level0 col2\" >order_surfaces</th>        <th class=\"col_heading level0 col3\" >color</th>        <th class=\"col_heading level0 col4\" >id</th>    </tr></thead><tbody>\n",
       "                <tr>\n",
       "                        <th id=\"T_741fd_level0_row0\" class=\"row_heading level0 row0\" >0</th>\n",
       "                        <td id=\"T_741fd_row0_col0\" class=\"data row0 col0\" >Premine topo</td>\n",
       "                        <td id=\"T_741fd_row0_col1\" class=\"data row0 col1\" >Strat_Series1</td>\n",
       "                        <td id=\"T_741fd_row0_col2\" class=\"data row0 col2\" >1</td>\n",
       "                        <td id=\"T_741fd_row0_col3\" class=\"data row0 col3\" >#015482</td>\n",
       "                        <td id=\"T_741fd_row0_col4\" class=\"data row0 col4\" >1</td>\n",
       "            </tr>\n",
       "            <tr>\n",
       "                        <th id=\"T_741fd_level0_row1\" class=\"row_heading level0 row1\" >1</th>\n",
       "                        <td id=\"T_741fd_row1_col0\" class=\"data row1 col0\" >Quartz monzonite porphyry</td>\n",
       "                        <td id=\"T_741fd_row1_col1\" class=\"data row1 col1\" >Strat_Series2</td>\n",
       "                        <td id=\"T_741fd_row1_col2\" class=\"data row1 col2\" >1</td>\n",
       "                        <td id=\"T_741fd_row1_col3\" class=\"data row1 col3\" >#9f0052</td>\n",
       "                        <td id=\"T_741fd_row1_col4\" class=\"data row1 col4\" >2</td>\n",
       "            </tr>\n",
       "            <tr>\n",
       "                        <th id=\"T_741fd_level0_row2\" class=\"row_heading level0 row2\" >2</th>\n",
       "                        <td id=\"T_741fd_row2_col0\" class=\"data row2 col0\" >Equigranular Monzonite</td>\n",
       "                        <td id=\"T_741fd_row2_col1\" class=\"data row2 col1\" >Strat_Series3</td>\n",
       "                        <td id=\"T_741fd_row2_col2\" class=\"data row2 col2\" >1</td>\n",
       "                        <td id=\"T_741fd_row2_col3\" class=\"data row2 col3\" >#ffbe00</td>\n",
       "                        <td id=\"T_741fd_row2_col4\" class=\"data row2 col4\" >3</td>\n",
       "            </tr>\n",
       "            <tr>\n",
       "                        <th id=\"T_741fd_level0_row3\" class=\"row_heading level0 row3\" >3</th>\n",
       "                        <td id=\"T_741fd_row3_col0\" class=\"data row3 col0\" >basement</td>\n",
       "                        <td id=\"T_741fd_row3_col1\" class=\"data row3 col1\" >Basement</td>\n",
       "                        <td id=\"T_741fd_row3_col2\" class=\"data row3 col2\" >1</td>\n",
       "                        <td id=\"T_741fd_row3_col3\" class=\"data row3 col3\" >#728f02</td>\n",
       "                        <td id=\"T_741fd_row3_col4\" class=\"data row3 col4\" >4</td>\n",
       "            </tr>\n",
       "    </tbody></table>"
      ],
      "text/plain": [
       "                     surface         series  order_surfaces    color  id\n",
       "0               Premine topo  Strat_Series1               1  #015482   1\n",
       "1  Quartz monzonite porphyry  Strat_Series2               1  #9f0052   2\n",
       "2     Equigranular Monzonite  Strat_Series3               1  #ffbe00   3\n",
       "3                   basement       Basement               1  #728f02   4"
      ]
     },
     "execution_count": 6,
     "metadata": {},
     "output_type": "execute_result"
    }
   ],
   "source": [
    "gp.map_stack_to_surfaces(geo_data, {\"Strat_Series1\": ('Premine topo'),\n",
    "                                    \"Strat_Series2\":('Quartz monzonite porphyry'),\n",
    "                                    \"Strat_Series3\":('Equigranular Monzonite')})\n",
    "geo_data.add_series(\"Basement\")\n",
    "geo_data.add_surfaces('basement')"
   ]
  },
  {
   "cell_type": "code",
   "execution_count": 7,
   "metadata": {
    "scrolled": true
   },
   "outputs": [
    {
     "data": {
      "text/html": [
       "<table border=\"1\" class=\"dataframe\">\n",
       "  <thead>\n",
       "    <tr style=\"text-align: right;\">\n",
       "      <th></th>\n",
       "      <th>order_series</th>\n",
       "      <th>BottomRelation</th>\n",
       "      <th>isActive</th>\n",
       "      <th>isFault</th>\n",
       "      <th>isFinite</th>\n",
       "    </tr>\n",
       "  </thead>\n",
       "  <tbody>\n",
       "    <tr>\n",
       "      <th>Strat_Series1</th>\n",
       "      <td>1</td>\n",
       "      <td>Erosion</td>\n",
       "      <td>True</td>\n",
       "      <td>False</td>\n",
       "      <td>False</td>\n",
       "    </tr>\n",
       "    <tr>\n",
       "      <th>Strat_Series2</th>\n",
       "      <td>2</td>\n",
       "      <td>Erosion</td>\n",
       "      <td>True</td>\n",
       "      <td>False</td>\n",
       "      <td>False</td>\n",
       "    </tr>\n",
       "    <tr>\n",
       "      <th>Strat_Series3</th>\n",
       "      <td>3</td>\n",
       "      <td>Erosion</td>\n",
       "      <td>True</td>\n",
       "      <td>False</td>\n",
       "      <td>False</td>\n",
       "    </tr>\n",
       "    <tr>\n",
       "      <th>Basement</th>\n",
       "      <td>4</td>\n",
       "      <td>Erosion</td>\n",
       "      <td>False</td>\n",
       "      <td>False</td>\n",
       "      <td>False</td>\n",
       "    </tr>\n",
       "  </tbody>\n",
       "</table>"
      ],
      "text/plain": [
       "               order_series BottomRelation  isActive  isFault  isFinite\n",
       "Strat_Series1             1        Erosion      True    False     False\n",
       "Strat_Series2             2        Erosion      True    False     False\n",
       "Strat_Series3             3        Erosion      True    False     False\n",
       "Basement                  4        Erosion     False    False     False"
      ]
     },
     "execution_count": 7,
     "metadata": {},
     "output_type": "execute_result"
    }
   ],
   "source": [
    "geo_data.series"
   ]
  },
  {
   "cell_type": "code",
   "execution_count": 8,
   "metadata": {
    "scrolled": false
   },
   "outputs": [
    {
     "name": "stderr",
     "output_type": "stream",
     "text": [
      "C:\\Users\\pasha\\python\\lib\\site-packages\\gempy\\plot\\plot_api.py:261: UserWarning: Matplotlib is currently using module://ipykernel.pylab.backend_inline, which is a non-GUI backend, so cannot show the figure.\n",
      "  p.fig.show()\n"
     ]
    },
    {
     "data": {
      "text/plain": [
       "<gempy.plot.visualization_2d.Plot2D at 0x22cbb2dd670>"
      ]
     },
     "execution_count": 8,
     "metadata": {},
     "output_type": "execute_result"
    },
    {
     "data": {
      "image/png": "[encoded data removed]",
      "text/plain": [
       "<Figure size 720x720 with 1 Axes>"
      ]
     },
     "metadata": {},
     "output_type": "display_data"
    }
   ],
   "source": [
    "gp.plot_2d(geo_data, figsize=(10,10))"
   ]
  },
  {
   "cell_type": "code",
   "execution_count": 9,
   "metadata": {},
   "outputs": [
    {
     "name": "stdout",
     "output_type": "stream",
     "text": [
      "[-223.8    0. ]\n",
      "Active grids: ['regular' 'topography']\n"
     ]
    },
    {
     "data": {
      "text/plain": [
       "Grid Object. Values: \n",
       "array([[   14.94      ,    10.        , -1107.81      ],\n",
       "       [   14.94      ,    10.        , -1085.43      ],\n",
       "       [   14.94      ,    10.        , -1063.05      ],\n",
       "       ...,\n",
       "       [ 1494.        ,   959.18367347,  -182.68261663],\n",
       "       [ 1494.        ,   979.59183673,  -178.89757755],\n",
       "       [ 1494.        ,  1000.        ,  -178.44041931]])"
      ]
     },
     "execution_count": 9,
     "metadata": {},
     "output_type": "execute_result"
    }
   ],
   "source": [
    "geo_data.set_topography()\n",
    "\n",
    "#geo_data.set_topography(source='random', fd=1.5, d_z=np.array([-50, 0]), resolution=np.array([400, 400]))\n",
    "#geo_model._grid.topography.save('test_topo')\n",
    "#geo_model.set_topography(source='saved', filepath='test_topo.npy')"
   ]
  },
  {
   "cell_type": "code",
   "execution_count": 10,
   "metadata": {
    "scrolled": true
   },
   "outputs": [
    {
     "name": "stdout",
     "output_type": "stream",
     "text": [
      "Setting kriging parameters to their default values.\n",
      "Compiling theano function...\n",
      "Level of Optimization:  fast_compile\n",
      "Device:  cpu\n",
      "Precision:  float64\n",
      "Number of faults:  0\n",
      "Compilation Done!\n",
      "Kriging values: \n",
      "                        values\n",
      "range                 2117.59\n",
      "$C_o$                106766.6\n",
      "drift equations  [3, 3, 3, 3]\n"
     ]
    }
   ],
   "source": [
    "interp_data = gp.set_interpolator(geo_data, compile_theano=True,theano_optimizer='fast_compile')"
   ]
  },
  {
   "cell_type": "code",
   "execution_count": 11,
   "metadata": {
    "scrolled": false
   },
   "outputs": [
    {
     "name": "stdout",
     "output_type": "stream",
     "text": [
      "Wall time: 11.6 s\n"
     ]
    },
    {
     "name": "stderr",
     "output_type": "stream",
     "text": [
      "C:\\Users\\pasha\\python\\lib\\site-packages\\gempy\\core\\solution.py:174: VisibleDeprecationWarning: Creating an ndarray from ragged nested sequences (which is a list-or-tuple of lists-or-tuples-or ndarrays with different lengths or shapes) is deprecated. If you meant to do this, you must specify 'dtype=object' when creating the ndarray.\n",
      "  self.geological_map = np.array(\n"
     ]
    }
   ],
   "source": [
    "%%time\n",
    "sol = gp.compute_model(geo_data, compute_mesh=True, debug=False)"
   ]
  },
  {
   "cell_type": "code",
   "execution_count": 12,
   "metadata": {},
   "outputs": [
    {
     "name": "stderr",
     "output_type": "stream",
     "text": [
      "C:\\Users\\pasha\\python\\lib\\site-packages\\gempy\\plot\\plot_api.py:261: UserWarning: Matplotlib is currently using module://ipykernel.pylab.backend_inline, which is a non-GUI backend, so cannot show the figure.\n",
      "  p.fig.show()\n"
     ]
    },
    {
     "data": {
      "text/plain": [
       "<gempy.plot.visualization_2d.Plot2D at 0x22cc6b18820>"
      ]
     },
     "execution_count": 12,
     "metadata": {},
     "output_type": "execute_result"
    },
    {
     "data": {
      "image/png": "[encoded data removed]",
      "text/plain": [
       "<Figure size 1080x1080 with 1 Axes>"
      ]
     },
     "metadata": {},
     "output_type": "display_data"
    }
   ],
   "source": [
    "gp.plot_2d(geo_data, cell_number=0, show_data=True, figsize=(15,15))"
   ]
  },
  {
   "cell_type": "markdown",
   "metadata": {},
   "source": [
    "sphinx_gallery_thumbnail_number = 7\n",
    "\n"
   ]
  },
  {
   "cell_type": "code",
   "execution_count": 103,
   "metadata": {},
   "outputs": [
    {
     "name": "stderr",
     "output_type": "stream",
     "text": [
      "C:\\Users\\pasha\\python\\lib\\site-packages\\pyvista\\plotting\\plotting.py:1354: PyvistaDeprecationWarning: \n",
      "\"stitle\" is a depreciated keyword and will be removed in a future\n",
      "release.\n",
      "\n",
      "Use ``scalar_bar_args`` instead.  For example:\n",
      "\n",
      "scalar_bar_args={'title': 'Scalar Bar Title'}\n",
      "\n",
      "  warnings.warn(USE_SCALAR_BAR_ARGS, PyvistaDeprecationWarning)\n"
     ]
    },
    {
     "data": {
      "text/plain": [
       "True"
      ]
     },
     "execution_count": 103,
     "metadata": {},
     "output_type": "execute_result"
    }
   ],
   "source": [
    "p3d = gp.plot_3d(geo_data, plotter_type='background', show_lith=True, show_surfaces=True,  show_data=False, image=False,\n",
    "                 show_topography=True,\n",
    "                 kwargs_plot_structured_grid={'opacity': .7})\n",
    "\n",
    "gp.save_model(geo_data)"
   ]
  },
  {
   "cell_type": "code",
   "execution_count": 13,
   "metadata": {},
   "outputs": [],
   "source": [
    "### User-defined functions\n",
    "def extract_domain(sol, unit):\n",
    "    '''\n",
    "    Extract domain coordinates from gempy model by unit name\n",
    "    arguments:\n",
    "        sol: Gempy solution object.\n",
    "        unit: gempy unit by index\n",
    "    returns:\n",
    "        dom_x, dom_y, dom_z: coordinates of domain\n",
    "    '''\n",
    "\n",
    "    # new version with rounding, definitely necessary\n",
    "    rounded_lithblock = sol.lith_block.round(0)\n",
    "    rounded_lithblock = rounded_lithblock.astype(int)\n",
    "\n",
    "    # mask by array of input surfaces (by id, can be from different series)\n",
    "    mask = np.isin(rounded_lithblock, unit)\n",
    "\n",
    "    # get coordinates by mask\n",
    "    #krig_lith = sol.lith_block[mask]\n",
    "    dom_grid = sol.grid.values[:mesh_size][mask]\n",
    "\n",
    "    dom_x = dom_grid[:,0]\n",
    "    dom_y = dom_grid[:,1]\n",
    "    dom_z = dom_grid[:,2]\n",
    "\n",
    "    return dom_x, dom_y, dom_z"
   ]
  },
  {
   "cell_type": "code",
   "execution_count": 14,
   "metadata": {},
   "outputs": [
    {
     "data": {
      "text/plain": [
       "4"
      ]
     },
     "execution_count": 14,
     "metadata": {},
     "output_type": "execute_result"
    }
   ],
   "source": [
    "unit_count=int(np.max(sol.lith_block.round(0)))\n",
    "unit_count"
   ]
  },
  {
   "cell_type": "markdown",
   "metadata": {},
   "source": [
    "### Geostatistics and Kriging"
   ]
  },
  {
   "cell_type": "code",
   "execution_count": 15,
   "metadata": {},
   "outputs": [
    {
     "data": {
      "text/html": [
       "<div>\n",
       "<style scoped>\n",
       "    .dataframe tbody tr th:only-of-type {\n",
       "        vertical-align: middle;\n",
       "    }\n",
       "\n",
       "    .dataframe tbody tr th {\n",
       "        vertical-align: top;\n",
       "    }\n",
       "\n",
       "    .dataframe thead th {\n",
       "        text-align: right;\n",
       "    }\n",
       "</style>\n",
       "<table border=\"1\" class=\"dataframe\">\n",
       "  <thead>\n",
       "    <tr style=\"text-align: right;\">\n",
       "      <th></th>\n",
       "      <th>Unnamed: 0</th>\n",
       "      <th>X</th>\n",
       "      <th>Y</th>\n",
       "      <th>Z</th>\n",
       "      <th>grade</th>\n",
       "      <th>borehole</th>\n",
       "    </tr>\n",
       "  </thead>\n",
       "  <tbody>\n",
       "    <tr>\n",
       "      <th>0</th>\n",
       "      <td>0</td>\n",
       "      <td>1240.02</td>\n",
       "      <td>370.0</td>\n",
       "      <td>-1107.81</td>\n",
       "      <td>0.47</td>\n",
       "      <td>1.0</td>\n",
       "    </tr>\n",
       "    <tr>\n",
       "      <th>1</th>\n",
       "      <td>10</td>\n",
       "      <td>1240.02</td>\n",
       "      <td>370.0</td>\n",
       "      <td>-884.01</td>\n",
       "      <td>0.47</td>\n",
       "      <td>1.0</td>\n",
       "    </tr>\n",
       "    <tr>\n",
       "      <th>2</th>\n",
       "      <td>20</td>\n",
       "      <td>1240.02</td>\n",
       "      <td>370.0</td>\n",
       "      <td>-660.21</td>\n",
       "      <td>0.47</td>\n",
       "      <td>1.0</td>\n",
       "    </tr>\n",
       "    <tr>\n",
       "      <th>3</th>\n",
       "      <td>30</td>\n",
       "      <td>1240.02</td>\n",
       "      <td>370.0</td>\n",
       "      <td>-436.41</td>\n",
       "      <td>0.47</td>\n",
       "      <td>1.0</td>\n",
       "    </tr>\n",
       "    <tr>\n",
       "      <th>4</th>\n",
       "      <td>40</td>\n",
       "      <td>1240.02</td>\n",
       "      <td>370.0</td>\n",
       "      <td>-212.61</td>\n",
       "      <td>0.47</td>\n",
       "      <td>1.0</td>\n",
       "    </tr>\n",
       "    <tr>\n",
       "      <th>...</th>\n",
       "      <td>...</td>\n",
       "      <td>...</td>\n",
       "      <td>...</td>\n",
       "      <td>...</td>\n",
       "      <td>...</td>\n",
       "      <td>...</td>\n",
       "    </tr>\n",
       "    <tr>\n",
       "      <th>436</th>\n",
       "      <td>4360</td>\n",
       "      <td>1180.26</td>\n",
       "      <td>810.0</td>\n",
       "      <td>-167.85</td>\n",
       "      <td>0.48</td>\n",
       "      <td>99.0</td>\n",
       "    </tr>\n",
       "    <tr>\n",
       "      <th>437</th>\n",
       "      <td>4370</td>\n",
       "      <td>1449.18</td>\n",
       "      <td>950.0</td>\n",
       "      <td>-906.39</td>\n",
       "      <td>0.48</td>\n",
       "      <td>100.0</td>\n",
       "    </tr>\n",
       "    <tr>\n",
       "      <th>438</th>\n",
       "      <td>4380</td>\n",
       "      <td>1449.18</td>\n",
       "      <td>950.0</td>\n",
       "      <td>-682.59</td>\n",
       "      <td>0.48</td>\n",
       "      <td>100.0</td>\n",
       "    </tr>\n",
       "    <tr>\n",
       "      <th>439</th>\n",
       "      <td>4390</td>\n",
       "      <td>1449.18</td>\n",
       "      <td>950.0</td>\n",
       "      <td>-458.79</td>\n",
       "      <td>0.48</td>\n",
       "      <td>100.0</td>\n",
       "    </tr>\n",
       "    <tr>\n",
       "      <th>440</th>\n",
       "      <td>4400</td>\n",
       "      <td>1449.18</td>\n",
       "      <td>950.0</td>\n",
       "      <td>-234.99</td>\n",
       "      <td>0.48</td>\n",
       "      <td>100.0</td>\n",
       "    </tr>\n",
       "  </tbody>\n",
       "</table>\n",
       "<p>441 rows × 6 columns</p>\n",
       "</div>"
      ],
      "text/plain": [
       "     Unnamed: 0        X      Y        Z  grade  borehole\n",
       "0             0  1240.02  370.0 -1107.81   0.47       1.0\n",
       "1            10  1240.02  370.0  -884.01   0.47       1.0\n",
       "2            20  1240.02  370.0  -660.21   0.47       1.0\n",
       "3            30  1240.02  370.0  -436.41   0.47       1.0\n",
       "4            40  1240.02  370.0  -212.61   0.47       1.0\n",
       "..          ...      ...    ...      ...    ...       ...\n",
       "436        4360  1180.26  810.0  -167.85   0.48      99.0\n",
       "437        4370  1449.18  950.0  -906.39   0.48     100.0\n",
       "438        4380  1449.18  950.0  -682.59   0.48     100.0\n",
       "439        4390  1449.18  950.0  -458.79   0.48     100.0\n",
       "440        4400  1449.18  950.0  -234.99   0.48     100.0\n",
       "\n",
       "[441 rows x 6 columns]"
      ]
     },
     "execution_count": 15,
     "metadata": {},
     "output_type": "execute_result"
    }
   ],
   "source": [
    "df =pd.read_csv('3_kriging_Cu_100.csv')\n",
    "df"
   ]
  },
  {
   "cell_type": "code",
   "execution_count": 16,
   "metadata": {},
   "outputs": [],
   "source": [
    "# load grade input data (conditioning data)\n",
    "n=len(df.iloc[:,1])\n",
    "x = df.iloc[:n,1]\n",
    "y = df.iloc[:n,2]\n",
    "z = df.iloc[:n,3]\n",
    "cond_pos = np.array([x,y,z])\n",
    "cond_val = df.iloc[:n,4]"
   ]
  },
  {
   "cell_type": "code",
   "execution_count": 17,
   "metadata": {},
   "outputs": [],
   "source": [
    "# This is to extract smaller domains from gempy by \n",
    "\n",
    "domain_x, domain_y, domain_z = extract_domain(sol, (2,3,4))"
   ]
  },
  {
   "cell_type": "code",
   "execution_count": 18,
   "metadata": {},
   "outputs": [],
   "source": [
    "# grid coordinate preparation\n",
    "coordinates = np.array([domain_x, domain_y, domain_z])\n",
    "coordinates = coordinates.swapaxes(0,1)\n",
    "    \n",
    "# This is where the magic happens - GStools offers a lot of options, here a simple version with isotropic range\n",
    "#(CondSRF - conditional spatial random fields)\n",
    "model = gs.Exponential(dim=3, var=np.var(cond_val), len_scale=200)\n",
    "krige = gs.krige.Ordinary(model, cond_pos, cond_val)\n",
    "cond_srf = gs.CondSRF(krige)\n",
    "\n",
    "# perform kriging\n",
    "krige((coordinates[:,0],coordinates[:,1], coordinates[:,2]), mesh_type='unstructured')\n",
    "# alternatively fior SGS\n",
    "#cond_srf((coordinates[:,0],coordinates[:,1], coordinates[:,2]), mesh_type='unstructured')\n",
    "\n",
    "# just convenience rename\n",
    "field = krige\n",
    "# alternatively for SGS\n",
    "#field = cond_srf"
   ]
  },
  {
   "cell_type": "code",
   "execution_count": 19,
   "metadata": {},
   "outputs": [],
   "source": [
    "# convert to pyvista mesh\n",
    "pc = field.to_pyvista()"
   ]
  },
  {
   "cell_type": "code",
   "execution_count": 20,
   "metadata": {},
   "outputs": [
    {
     "name": "stderr",
     "output_type": "stream",
     "text": [
      "C:\\Users\\pasha\\python\\lib\\site-packages\\pyvista\\plotting\\plotting.py:1354: PyvistaDeprecationWarning: \n",
      "\"stitle\" is a depreciated keyword and will be removed in a future\n",
      "release.\n",
      "\n",
      "Use ``scalar_bar_args`` instead.  For example:\n",
      "\n",
      "scalar_bar_args={'title': 'Scalar Bar Title'}\n",
      "\n",
      "  warnings.warn(USE_SCALAR_BAR_ARGS, PyvistaDeprecationWarning)\n"
     ]
    }
   ],
   "source": [
    "# 3D plotting example\n",
    "spacing = lambda arr: np.unique(np.diff(np.unique(arr)))\n",
    "voxelsize = spacing(pc.points[:,0]), spacing(pc.points[:,1]), spacing(pc.points[:,2])\n",
    "\n",
    "pc = pc.cast_to_unstructured_grid()\n",
    "\n",
    "grade = PVGeo.filters.VoxelizePoints(dx=voxelsize[0][0], dy=voxelsize[1][0], dz=voxelsize[2][0], estimate=False).apply(pc)\n",
    "    \n",
    "#p.add_mesh(grid, opacity=1, show_edges=False, lighting=False, cmap=cmap)\n",
    "p = pvqt.BackgroundPlotter()\n",
    "gpv = gp.plot_3d(geo_data, plotter_type='background', show_data=False, show_lith=True, show_surfaces=True,\n",
    "                kwargs_plot_structured_grid={'opacity': .8})\n",
    "gpv.p.add_mesh(grade, opacity=1, clim=[0,1.1], show_edges=False, lighting=False, cmap=\"terrain\")"
   ]
  },
  {
   "cell_type": "markdown",
   "metadata": {},
   "source": [
    "### Calculating Cu ore volume"
   ]
  },
  {
   "cell_type": "code",
   "execution_count": 21,
   "metadata": {},
   "outputs": [
    {
     "name": "stderr",
     "output_type": "stream",
     "text": [
      "100%|████████████████████████████████| 914296/914296 [11:29<00:00, 1326.81it/s]"
     ]
    },
    {
     "name": "stdout",
     "output_type": "stream",
     "text": [
      "Horizon1 =  11018741.526\n",
      "Average ore grade= 0.7348306785555971\n",
      "Horizon2 =  33502591.44\n",
      "Average ore grade= 0.6424914640159453\n",
      "Horizon3 =  1322536530.312\n",
      "Average ore grade= 0.4776780793441629\n"
     ]
    },
    {
     "name": "stderr",
     "output_type": "stream",
     "text": [
      "\n"
     ]
    }
   ],
   "source": [
    "#define grade intervals and check the count of voxels corresponding to the same interval\n",
    "ore_interval1=[]\n",
    "ore_interval2=[]\n",
    "ore_interval3=[]\n",
    "ore_dict={}\n",
    "for index in tqdm(range(0, len(grade.active_scalars))):\n",
    "    #for Cu Horizon I:\n",
    "    if grade.active_scalars[index]>0.7:\n",
    "        ore_interval1.append(grade.active_scalars[index])\n",
    "        ore_dict.update({1: ore_interval1})\n",
    "    #for Cu Horizon II:\n",
    "    elif 0.7>grade.active_scalars[index]>0.6:        \n",
    "        ore_interval2.append(grade.active_scalars[index])\n",
    "        ore_dict.update({2: ore_interval2})\n",
    "        \n",
    "    #for Cu Horizon III:\n",
    "    elif 0.5>grade.active_scalars[index]>0.43:        \n",
    "        ore_interval3.append(grade.active_scalars[index])\n",
    "        ore_dict.update({3: ore_interval3})\n",
    "        \n",
    "#calculate volume of total voxels corresponding to a certain ore grade interval\n",
    "voxel_volume=((extent[1]-extent[0])/reso[0])*((extent[3]-extent[2])/reso[1])*((extent[5]-extent[4])/reso[2])\n",
    "\n",
    "for i in range(1,4):\n",
    "    ore_avrg_grade=np.mean(ore_dict[i])\n",
    "    volume=len(ore_dict[i])*(voxel_volume)\n",
    "    print(\"Horizon{} = \".format(i),volume)\n",
    "    print(\"Average ore grade=\", ore_avrg_grade)"
   ]
  },
  {
   "cell_type": "markdown",
   "metadata": {},
   "source": [
    "### Calculating Au ore volume"
   ]
  },
  {
   "cell_type": "code",
   "execution_count": 24,
   "metadata": {},
   "outputs": [
    {
     "name": "stderr",
     "output_type": "stream",
     "text": [
      "100%|████████████████████████████████| 268495/268495 [02:16<00:00, 1967.02it/s]"
     ]
    },
    {
     "name": "stdout",
     "output_type": "stream",
     "text": [
      "Horizon1 =  442276001.658\n",
      "Average ore grade= 0.14774105730151613\n",
      "Horizon2 =  6158859.624\n",
      "Average ore grade= 0.374710201170932\n",
      "Horizon3 =  128727.522\n",
      "Average ore grade= 0.6412193820874152\n"
     ]
    },
    {
     "name": "stderr",
     "output_type": "stream",
     "text": [
      "\n"
     ]
    }
   ],
   "source": [
    "#define grade intervals and check the count of voxels corresponding to the same interval\n",
    "ore_interval1=[]\n",
    "ore_interval2=[]\n",
    "ore_interval3=[]\n",
    "ore_dict={}\n",
    "for index in tqdm(range(0, len(grade.active_scalars))):\n",
    "    #for Cu Horizon I:\n",
    "    if 0.3>grade.active_scalars[index]>0.1:\n",
    "        ore_interval1.append(grade.active_scalars[index])\n",
    "        ore_dict.update({1: ore_interval1})\n",
    "    #for Cu Horizon II:\n",
    "    elif 0.6>grade.active_scalars[index]>0.3:        \n",
    "        ore_interval2.append(grade.active_scalars[index])\n",
    "        ore_dict.update({2: ore_interval2})\n",
    "        \n",
    "    #for Cu Horizon III:\n",
    "    elif 1.1>grade.active_scalars[index]>0.6:        \n",
    "        ore_interval3.append(grade.active_scalars[index])\n",
    "        ore_dict.update({3: ore_interval3})\n",
    "        \n",
    "#calculate volume of total voxels corresponding to a certain ore grade interval\n",
    "voxel_volume=((extent[1]-extent[0])/reso[0])*((extent[3]-extent[2])/reso[1])*((extent[5]-extent[4])/reso[2])\n",
    "\n",
    "for i in range(1,4):\n",
    "    ore_avrg_grade=np.mean(ore_dict[i])\n",
    "    volume=len(ore_dict[i])*(voxel_volume)\n",
    "    print(\"Horizon{} = \".format(i),volume)\n",
    "    print(\"Average ore grade=\", ore_avrg_grade)"
   ]
  },
  {
   "cell_type": "markdown",
   "metadata": {},
   "source": [
    "### Compare the data frames with with identical cells"
   ]
  },
  {
   "cell_type": "code",
   "execution_count": 15,
   "metadata": {},
   "outputs": [
    {
     "ename": "IndexError",
     "evalue": "range object index out of range",
     "output_type": "error",
     "traceback": [
      "\u001b[1;31m---------------------------------------------------------------------------\u001b[0m",
      "\u001b[1;31mIndexError\u001b[0m                                Traceback (most recent call last)",
      "\u001b[1;32m<ipython-input-15-51c583ebd72a>\u001b[0m in \u001b[0;36m<module>\u001b[1;34m\u001b[0m\n\u001b[0;32m      1\u001b[0m \u001b[0munit\u001b[0m\u001b[1;33m=\u001b[0m\u001b[0mrange\u001b[0m\u001b[1;33m(\u001b[0m\u001b[1;36m0\u001b[0m\u001b[1;33m,\u001b[0m\u001b[0munit_count\u001b[0m\u001b[1;33m+\u001b[0m\u001b[1;36m1\u001b[0m\u001b[1;33m)\u001b[0m\u001b[1;33m\u001b[0m\u001b[1;33m\u001b[0m\u001b[0m\n\u001b[0;32m      2\u001b[0m \u001b[1;32mfor\u001b[0m \u001b[0mindex\u001b[0m \u001b[1;32min\u001b[0m \u001b[0munit\u001b[0m\u001b[1;33m:\u001b[0m\u001b[1;33m\u001b[0m\u001b[1;33m\u001b[0m\u001b[0m\n\u001b[1;32m----> 3\u001b[1;33m     \u001b[0mdomain_x\u001b[0m\u001b[1;33m,\u001b[0m \u001b[0mdomain_y\u001b[0m\u001b[1;33m,\u001b[0m \u001b[0mdomain_z\u001b[0m \u001b[1;33m=\u001b[0m \u001b[0mextract_domain\u001b[0m\u001b[1;33m(\u001b[0m\u001b[0msol\u001b[0m\u001b[1;33m,\u001b[0m \u001b[1;33m(\u001b[0m\u001b[0munit\u001b[0m\u001b[1;33m[\u001b[0m\u001b[0mindex\u001b[0m\u001b[1;33m+\u001b[0m\u001b[1;36m1\u001b[0m\u001b[1;33m]\u001b[0m\u001b[1;33m)\u001b[0m\u001b[1;33m)\u001b[0m\u001b[1;33m\u001b[0m\u001b[1;33m\u001b[0m\u001b[0m\n\u001b[0m\u001b[0;32m      4\u001b[0m     \u001b[0mcoordinates\u001b[0m \u001b[1;33m=\u001b[0m \u001b[0mnp\u001b[0m\u001b[1;33m.\u001b[0m\u001b[0marray\u001b[0m\u001b[1;33m(\u001b[0m\u001b[1;33m[\u001b[0m\u001b[0mdomain_x\u001b[0m\u001b[1;33m,\u001b[0m \u001b[0mdomain_y\u001b[0m\u001b[1;33m,\u001b[0m \u001b[0mdomain_z\u001b[0m\u001b[1;33m]\u001b[0m\u001b[1;33m)\u001b[0m\u001b[1;33m\u001b[0m\u001b[1;33m\u001b[0m\u001b[0m\n\u001b[0;32m      5\u001b[0m     \u001b[0mcoordinates\u001b[0m \u001b[1;33m=\u001b[0m \u001b[0mcoordinates\u001b[0m\u001b[1;33m.\u001b[0m\u001b[0mswapaxes\u001b[0m\u001b[1;33m(\u001b[0m\u001b[1;36m0\u001b[0m\u001b[1;33m,\u001b[0m\u001b[1;36m1\u001b[0m\u001b[1;33m)\u001b[0m\u001b[1;33m\u001b[0m\u001b[1;33m\u001b[0m\u001b[0m\n",
      "\u001b[1;31mIndexError\u001b[0m: range object index out of range"
     ]
    }
   ],
   "source": [
    "unit=range(0,unit_count+1)\n",
    "for index in unit:\n",
    "    domain_x, domain_y, domain_z = extract_domain(sol, (unit[index+1]))\n",
    "    coordinates = np.array([domain_x, domain_y, domain_z])\n",
    "    coordinates = coordinates.swapaxes(0,1)\n",
    "    data=pd.DataFrame(coordinates, columns=['X','Y','Z'])\n",
    "    data.loc[:, 'formation'] =float(unit[index+1])\n",
    "    data.to_csv(r'data_extracted/reconstructed/unit_{}.csv'.format(unit[index+1]), mode=\"w\", index=False)"
   ]
  },
  {
   "cell_type": "code",
   "execution_count": 16,
   "metadata": {},
   "outputs": [
    {
     "data": {
      "text/html": [
       "<div>\n",
       "<style scoped>\n",
       "    .dataframe tbody tr th:only-of-type {\n",
       "        vertical-align: middle;\n",
       "    }\n",
       "\n",
       "    .dataframe tbody tr th {\n",
       "        vertical-align: top;\n",
       "    }\n",
       "\n",
       "    .dataframe thead th {\n",
       "        text-align: right;\n",
       "    }\n",
       "</style>\n",
       "<table border=\"1\" class=\"dataframe\">\n",
       "  <thead>\n",
       "    <tr style=\"text-align: right;\">\n",
       "      <th></th>\n",
       "      <th>X</th>\n",
       "      <th>Y</th>\n",
       "      <th>Z</th>\n",
       "      <th>formation</th>\n",
       "    </tr>\n",
       "  </thead>\n",
       "  <tbody>\n",
       "    <tr>\n",
       "      <th>0</th>\n",
       "      <td>14.94</td>\n",
       "      <td>10.0</td>\n",
       "      <td>-33.57</td>\n",
       "      <td>1.0</td>\n",
       "    </tr>\n",
       "    <tr>\n",
       "      <th>1</th>\n",
       "      <td>14.94</td>\n",
       "      <td>10.0</td>\n",
       "      <td>-11.19</td>\n",
       "      <td>1.0</td>\n",
       "    </tr>\n",
       "    <tr>\n",
       "      <th>2</th>\n",
       "      <td>14.94</td>\n",
       "      <td>30.0</td>\n",
       "      <td>-55.95</td>\n",
       "      <td>1.0</td>\n",
       "    </tr>\n",
       "    <tr>\n",
       "      <th>3</th>\n",
       "      <td>14.94</td>\n",
       "      <td>30.0</td>\n",
       "      <td>-33.57</td>\n",
       "      <td>1.0</td>\n",
       "    </tr>\n",
       "    <tr>\n",
       "      <th>4</th>\n",
       "      <td>14.94</td>\n",
       "      <td>30.0</td>\n",
       "      <td>-11.19</td>\n",
       "      <td>1.0</td>\n",
       "    </tr>\n",
       "    <tr>\n",
       "      <th>...</th>\n",
       "      <td>...</td>\n",
       "      <td>...</td>\n",
       "      <td>...</td>\n",
       "      <td>...</td>\n",
       "    </tr>\n",
       "    <tr>\n",
       "      <th>124995</th>\n",
       "      <td>1479.06</td>\n",
       "      <td>990.0</td>\n",
       "      <td>-279.75</td>\n",
       "      <td>4.0</td>\n",
       "    </tr>\n",
       "    <tr>\n",
       "      <th>124996</th>\n",
       "      <td>1479.06</td>\n",
       "      <td>990.0</td>\n",
       "      <td>-257.37</td>\n",
       "      <td>4.0</td>\n",
       "    </tr>\n",
       "    <tr>\n",
       "      <th>124997</th>\n",
       "      <td>1479.06</td>\n",
       "      <td>990.0</td>\n",
       "      <td>-234.99</td>\n",
       "      <td>4.0</td>\n",
       "    </tr>\n",
       "    <tr>\n",
       "      <th>124998</th>\n",
       "      <td>1479.06</td>\n",
       "      <td>990.0</td>\n",
       "      <td>-212.61</td>\n",
       "      <td>4.0</td>\n",
       "    </tr>\n",
       "    <tr>\n",
       "      <th>124999</th>\n",
       "      <td>1479.06</td>\n",
       "      <td>990.0</td>\n",
       "      <td>-190.23</td>\n",
       "      <td>4.0</td>\n",
       "    </tr>\n",
       "  </tbody>\n",
       "</table>\n",
       "<p>125000 rows × 4 columns</p>\n",
       "</div>"
      ],
      "text/plain": [
       "              X      Y       Z  formation\n",
       "0         14.94   10.0  -33.57        1.0\n",
       "1         14.94   10.0  -11.19        1.0\n",
       "2         14.94   30.0  -55.95        1.0\n",
       "3         14.94   30.0  -33.57        1.0\n",
       "4         14.94   30.0  -11.19        1.0\n",
       "...         ...    ...     ...        ...\n",
       "124995  1479.06  990.0 -279.75        4.0\n",
       "124996  1479.06  990.0 -257.37        4.0\n",
       "124997  1479.06  990.0 -234.99        4.0\n",
       "124998  1479.06  990.0 -212.61        4.0\n",
       "124999  1479.06  990.0 -190.23        4.0\n",
       "\n",
       "[125000 rows x 4 columns]"
      ]
     },
     "execution_count": 16,
     "metadata": {},
     "output_type": "execute_result"
    }
   ],
   "source": [
    "# if you want to join all files in the same folder\n",
    "path =r'data_extracted/reconstructed/'\n",
    "\n",
    "filenames = glob.glob(path + \"/*.csv\")\n",
    "\n",
    "dfs = []\n",
    "for filename in filenames:\n",
    "    dfs.append(pd.read_csv(filename))\n",
    "\n",
    "# Concatenate all data into one DataFrame\n",
    "reconstructed = pd.concat(dfs, ignore_index=True)\n",
    "#df.drop(df.columns[[0]], axis=1, inplace=True)\n",
    "reconstructed"
   ]
  },
  {
   "cell_type": "code",
   "execution_count": 17,
   "metadata": {},
   "outputs": [
    {
     "data": {
      "text/html": [
       "<div>\n",
       "<style scoped>\n",
       "    .dataframe tbody tr th:only-of-type {\n",
       "        vertical-align: middle;\n",
       "    }\n",
       "\n",
       "    .dataframe tbody tr th {\n",
       "        vertical-align: top;\n",
       "    }\n",
       "\n",
       "    .dataframe thead th {\n",
       "        text-align: right;\n",
       "    }\n",
       "</style>\n",
       "<table border=\"1\" class=\"dataframe\">\n",
       "  <thead>\n",
       "    <tr style=\"text-align: right;\">\n",
       "      <th></th>\n",
       "      <th>X</th>\n",
       "      <th>Y</th>\n",
       "      <th>Z</th>\n",
       "      <th>formation</th>\n",
       "    </tr>\n",
       "  </thead>\n",
       "  <tbody>\n",
       "    <tr>\n",
       "      <th>0</th>\n",
       "      <td>14.94</td>\n",
       "      <td>10.0</td>\n",
       "      <td>-78.33</td>\n",
       "      <td>1.0</td>\n",
       "    </tr>\n",
       "    <tr>\n",
       "      <th>1</th>\n",
       "      <td>14.94</td>\n",
       "      <td>10.0</td>\n",
       "      <td>-55.95</td>\n",
       "      <td>1.0</td>\n",
       "    </tr>\n",
       "    <tr>\n",
       "      <th>2</th>\n",
       "      <td>14.94</td>\n",
       "      <td>10.0</td>\n",
       "      <td>-33.57</td>\n",
       "      <td>1.0</td>\n",
       "    </tr>\n",
       "    <tr>\n",
       "      <th>3</th>\n",
       "      <td>14.94</td>\n",
       "      <td>10.0</td>\n",
       "      <td>-11.19</td>\n",
       "      <td>1.0</td>\n",
       "    </tr>\n",
       "    <tr>\n",
       "      <th>4</th>\n",
       "      <td>14.94</td>\n",
       "      <td>30.0</td>\n",
       "      <td>-78.33</td>\n",
       "      <td>1.0</td>\n",
       "    </tr>\n",
       "    <tr>\n",
       "      <th>...</th>\n",
       "      <td>...</td>\n",
       "      <td>...</td>\n",
       "      <td>...</td>\n",
       "      <td>...</td>\n",
       "    </tr>\n",
       "    <tr>\n",
       "      <th>124995</th>\n",
       "      <td>1479.06</td>\n",
       "      <td>990.0</td>\n",
       "      <td>-302.13</td>\n",
       "      <td>4.0</td>\n",
       "    </tr>\n",
       "    <tr>\n",
       "      <th>124996</th>\n",
       "      <td>1479.06</td>\n",
       "      <td>990.0</td>\n",
       "      <td>-279.75</td>\n",
       "      <td>4.0</td>\n",
       "    </tr>\n",
       "    <tr>\n",
       "      <th>124997</th>\n",
       "      <td>1479.06</td>\n",
       "      <td>990.0</td>\n",
       "      <td>-257.37</td>\n",
       "      <td>4.0</td>\n",
       "    </tr>\n",
       "    <tr>\n",
       "      <th>124998</th>\n",
       "      <td>1479.06</td>\n",
       "      <td>990.0</td>\n",
       "      <td>-234.99</td>\n",
       "      <td>4.0</td>\n",
       "    </tr>\n",
       "    <tr>\n",
       "      <th>124999</th>\n",
       "      <td>1479.06</td>\n",
       "      <td>990.0</td>\n",
       "      <td>-212.61</td>\n",
       "      <td>4.0</td>\n",
       "    </tr>\n",
       "  </tbody>\n",
       "</table>\n",
       "<p>125000 rows × 4 columns</p>\n",
       "</div>"
      ],
      "text/plain": [
       "              X      Y       Z  formation\n",
       "0         14.94   10.0  -78.33        1.0\n",
       "1         14.94   10.0  -55.95        1.0\n",
       "2         14.94   10.0  -33.57        1.0\n",
       "3         14.94   10.0  -11.19        1.0\n",
       "4         14.94   30.0  -78.33        1.0\n",
       "...         ...    ...     ...        ...\n",
       "124995  1479.06  990.0 -302.13        4.0\n",
       "124996  1479.06  990.0 -279.75        4.0\n",
       "124997  1479.06  990.0 -257.37        4.0\n",
       "124998  1479.06  990.0 -234.99        4.0\n",
       "124999  1479.06  990.0 -212.61        4.0\n",
       "\n",
       "[125000 rows x 4 columns]"
      ]
     },
     "execution_count": 17,
     "metadata": {},
     "output_type": "execute_result"
    }
   ],
   "source": [
    "# if you want to join all files in the same folder\n",
    "path =r'data_extracted/ideal/'\n",
    "\n",
    "filenames = glob.glob(path + \"/*.csv\")\n",
    "\n",
    "dfs = []\n",
    "for filename in filenames:\n",
    "    dfs.append(pd.read_csv(filename))\n",
    "\n",
    "# Concatenate all data into one DataFrame\n",
    "ideal = pd.concat(dfs, ignore_index=True)\n",
    "#df.drop(df.columns[[0]], axis=1, inplace=True)\n",
    "ideal"
   ]
  },
  {
   "cell_type": "code",
   "execution_count": 18,
   "metadata": {},
   "outputs": [
    {
     "data": {
      "text/plain": [
       "91.904"
      ]
     },
     "execution_count": 18,
     "metadata": {},
     "output_type": "execute_result"
    }
   ],
   "source": [
    "a=ideal.merge(reconstructed, left_on=('X','Y','Z','formation'), right_on=('X','Y','Z','formation'), how='inner')\n",
    "similarity=(len(a)/len(ideal))*100\n",
    "similarity"
   ]
  },
  {
   "cell_type": "code",
   "execution_count": null,
   "metadata": {},
   "outputs": [],
   "source": []
  }
 ],
 "metadata": {
  "kernelspec": {
   "display_name": "Python 3",
   "language": "python",
   "name": "python3"
  },
  "language_info": {
   "codemirror_mode": {
    "name": "ipython",
    "version": 3
   },
   "file_extension": ".py",
   "mimetype": "text/x-python",
   "name": "python",
   "nbconvert_exporter": "python",
   "pygments_lexer": "ipython3",
   "version": "3.8.8"
  }
 },
 "nbformat": 4,
 "nbformat_minor": 1
}
