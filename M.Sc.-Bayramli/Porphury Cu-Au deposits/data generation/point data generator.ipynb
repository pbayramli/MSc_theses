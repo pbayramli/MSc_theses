{
 "cells": [
  {
   "cell_type": "code",
   "execution_count": 1,
   "id": "49ff81d1",
   "metadata": {},
   "outputs": [],
   "source": [
    "import numpy as np\n",
    "import matplotlib.pyplot as plt\n",
    "import pandas as pd\n",
    "import pickle\n",
    "from pynput import mouse"
   ]
  },
  {
   "cell_type": "markdown",
   "id": "4137930a",
   "metadata": {},
   "source": [
    "### Data Generation\n",
    "Determination of data points along the desired already driven surface on the image"
   ]
  },
  {
   "cell_type": "code",
   "execution_count": 18,
   "id": "14868907",
   "metadata": {
    "scrolled": true
   },
   "outputs": [
    {
     "name": "stdout",
     "output_type": "stream",
     "text": [
      "Click Origin\n",
      "Click Top Right\n",
      "Draw the model, Right click to end\n"
     ]
    },
    {
     "name": "stderr",
     "output_type": "stream",
     "text": [
      "Unhandled exception in listener callback\n",
      "Traceback (most recent call last):\n",
      "  File \"C:\\Users\\pasha\\.conda\\envs\\gempy\\lib\\site-packages\\pynput\\_util\\win32.py\", line 380, in _handler\n",
      "    converted = self._convert(code, msg, lpdata)\n",
      "  File \"C:\\Users\\pasha\\.conda\\envs\\gempy\\lib\\site-packages\\pynput\\_util\\win32.py\", line 395, in _convert\n",
      "    raise NotImplementedError()\n",
      "NotImplementedError\n",
      "\n",
      "During handling of the above exception, another exception occurred:\n",
      "\n",
      "Traceback (most recent call last):\n",
      "  File \"C:\\Users\\pasha\\.conda\\envs\\gempy\\lib\\site-packages\\pynput\\_util\\__init__.py\", line 211, in inner\n",
      "    return f(self, *args, **kwargs)\n",
      "  File \"C:\\Users\\pasha\\.conda\\envs\\gempy\\lib\\site-packages\\pynput\\_util\\win32.py\", line 384, in _handler\n",
      "    self._handle(code, msg, lpdata)\n",
      "  File \"C:\\Users\\pasha\\.conda\\envs\\gempy\\lib\\site-packages\\pynput\\mouse\\_win32.py\", line 212, in _handle\n",
      "    self.on_click(data.pt.x, data.pt.y, button, pressed)\n",
      "  File \"C:\\Users\\pasha\\.conda\\envs\\gempy\\lib\\site-packages\\pynput\\_util\\__init__.py\", line 127, in inner\n",
      "    if f(*args) is False:\n",
      "  File \"<ipython-input-18-870fb57dcf66>\", line 24, in on_click\n",
      "    raise MyException(button)\n",
      "MyException: Button.right\n"
     ]
    },
    {
     "name": "stdout",
     "output_type": "stream",
     "text": [
      "Origin:     [328, 1415]\n",
      "Top Right:  [1871, 249]\n",
      "X: [349.0, 415.0, 590.0, 722.0, 911.0, 1027.0, 1282.0, 1482.0, 1654.0, 1799.0, 1281.0]\n",
      "Y: [398.0, 407.0, 429.0, 486.0, 350.0, 386.0, 402.0, 436.0, 409.0, 362.0, 548.0]\n"
     ]
    }
   ],
   "source": [
    "class MyException(Exception):pass\n",
    "\n",
    "X = []\n",
    "Y = []\n",
    "NumberOfMouseClicks = 0\n",
    "print('Click Origin')\n",
    "\n",
    "def on_click(x, y, button, pressed):\n",
    "    button = str(button)\n",
    "    global NumberOfMouseClicks\n",
    "\n",
    "    NumberOfMouseClicks = NumberOfMouseClicks + 1\n",
    "    if NumberOfMouseClicks==1:\n",
    "        print('Click Top Right')  \n",
    "    if NumberOfMouseClicks==3:\n",
    "        print('Draw the model, Right click to end')\n",
    "        \n",
    "    X.append(x)\n",
    "    Y.append(y)\n",
    "\n",
    "    if button!='Button.left':\n",
    "        raise MyException(button)\n",
    "\n",
    "def main(X,Y):\n",
    "    with mouse.Listener(on_click=on_click) as listener:\n",
    "        try:\n",
    "            listener.join()\n",
    "        except MyException as e:\n",
    "            pass\n",
    "\n",
    "    # drop duplicates\n",
    "    X = X[::2]\n",
    "    Y = Y[::2]\n",
    "\n",
    "\n",
    "     # define scales from data\n",
    "    origin = [X[0],Y[0]]\n",
    "    topRight = [X[1],Y[1]]\n",
    "    XminScale = origin[0]\n",
    "    XmaxScale = topRight[0]\n",
    "    YminScale = origin[1]\n",
    "    YmaxScale = topRight[1]\n",
    "    \n",
    "    # input boundaries\n",
    "    Xmin = float(origin[0])\n",
    "    Xmax = float(topRight[0])\n",
    "    Ymin = float(origin[1])\n",
    "    Ymax = float(topRight[1])\n",
    "    \n",
    "    #Xmin = float(input('Input X-min: '))\n",
    "    #Xmax = float(input('Input X-max: '))\n",
    "    #Ymin = float(input('Input Y-min: '))\n",
    "    #Ymax = float(input('Input Y-max: '))\n",
    "\n",
    "    # drop extras\n",
    "    X = X[2:15]\n",
    "    Y = Y[2:15]\n",
    "\n",
    "\n",
    "    # scale\n",
    "    ## (old_value - old_min) / (old_max - old_min) * (new_max - new_min) + new_min\n",
    "    Xplot = [(i - XminScale) / (XmaxScale - XminScale) * (Xmax - Xmin) + Xmin for i in X]\n",
    "    Yplot = [(i - YminScale) / (YmaxScale - YminScale) * (Ymax - Ymin) + Ymin for i in Y]\n",
    "\n",
    "    # print outputs\n",
    "    print('Origin:     {}'.format([round(i, 2) for i in origin]))\n",
    "    print('Top Right:  {}'.format([round(i, 2) for i in topRight]))\n",
    "    print('X: {}'.format([round(i, 2) for i in Xplot]))\n",
    "    print('Y: {}'.format([round(i, 2) for i in Yplot]))\n",
    "    \n",
    "if __name__ == '__main__':\n",
    "    main(X,Y)"
   ]
  },
  {
   "cell_type": "markdown",
   "id": "175b3cdd",
   "metadata": {},
   "source": [
    "Saving the dummy data"
   ]
  },
  {
   "cell_type": "code",
   "execution_count": 21,
   "id": "354d200e",
   "metadata": {},
   "outputs": [],
   "source": [
    "data=(X[4:-1],Y[4:-1])\n",
    "scale_lims=(X[1:3],Y[1:3])\n",
    "with open(\"data/pointdata/point_data_baserock.txt\", \"wb\") as fp:   #Pickling\n",
    "    pickle.dump(data, fp)\n",
    "#with open(\"data/pointdata/point_data_scaling.txt\", \"wb\") as fp:\n",
    "    #pickle.dump(scale_lims,fp)"
   ]
  },
  {
   "cell_type": "markdown",
   "id": "ade7ae05",
   "metadata": {},
   "source": [
    "Loading the data and dropping the duplicates"
   ]
  },
  {
   "cell_type": "code",
   "execution_count": 10,
   "id": "9702f21a",
   "metadata": {},
   "outputs": [],
   "source": [
    "with open(\"data/pointdata/point_data_baserock.txt\", \"rb\") as fp:   # Unpickling\n",
    "    d = pickle.load(fp)\n",
    "with open(\"data/pointdata/point_data_scaling.txt\", \"rb\") as fp:   # Unpickling\n",
    "    s = pickle.load(fp)\n",
    "\n",
    "X=d[0]\n",
    "Y=d[1]\n",
    "X = X[::2]\n",
    "Y = Y[::2]\n",
    "X = X[0:-1]\n",
    "Y = Y[0:-1]"
   ]
  },
  {
   "cell_type": "markdown",
   "id": "899ff9c0",
   "metadata": {},
   "source": [
    "Getting the data in order - seperation of columns"
   ]
  },
  {
   "cell_type": "code",
   "execution_count": 11,
   "id": "8641d8bb",
   "metadata": {},
   "outputs": [],
   "source": [
    "n=len(X)\n",
    "new=[]\n",
    "for i in np.arange(0,n):\n",
    "    data=(X[i],Y[i])\n",
    "    new.append(data)"
   ]
  },
  {
   "cell_type": "code",
   "execution_count": 14,
   "id": "0eac04ee",
   "metadata": {},
   "outputs": [
    {
     "data": {
      "text/html": [
       "<div>\n",
       "<style scoped>\n",
       "    .dataframe tbody tr th:only-of-type {\n",
       "        vertical-align: middle;\n",
       "    }\n",
       "\n",
       "    .dataframe tbody tr th {\n",
       "        vertical-align: top;\n",
       "    }\n",
       "\n",
       "    .dataframe thead th {\n",
       "        text-align: right;\n",
       "    }\n",
       "</style>\n",
       "<table border=\"1\" class=\"dataframe\">\n",
       "  <thead>\n",
       "    <tr style=\"text-align: right;\">\n",
       "      <th></th>\n",
       "      <th>X</th>\n",
       "      <th>Z</th>\n",
       "    </tr>\n",
       "  </thead>\n",
       "  <tbody>\n",
       "    <tr>\n",
       "      <th>0</th>\n",
       "      <td>793</td>\n",
       "      <td>-1404</td>\n",
       "    </tr>\n",
       "    <tr>\n",
       "      <th>1</th>\n",
       "      <td>820</td>\n",
       "      <td>-1337</td>\n",
       "    </tr>\n",
       "    <tr>\n",
       "      <th>2</th>\n",
       "      <td>885</td>\n",
       "      <td>-1272</td>\n",
       "    </tr>\n",
       "    <tr>\n",
       "      <th>3</th>\n",
       "      <td>991</td>\n",
       "      <td>-1250</td>\n",
       "    </tr>\n",
       "    <tr>\n",
       "      <th>4</th>\n",
       "      <td>1084</td>\n",
       "      <td>-1279</td>\n",
       "    </tr>\n",
       "    <tr>\n",
       "      <th>5</th>\n",
       "      <td>1113</td>\n",
       "      <td>-1337</td>\n",
       "    </tr>\n",
       "  </tbody>\n",
       "</table>\n",
       "</div>"
      ],
      "text/plain": [
       "      X     Z\n",
       "0   793 -1404\n",
       "1   820 -1337\n",
       "2   885 -1272\n",
       "3   991 -1250\n",
       "4  1084 -1279\n",
       "5  1113 -1337"
      ]
     },
     "execution_count": 14,
     "metadata": {},
     "output_type": "execute_result"
    }
   ],
   "source": [
    "#\n",
    "df = pd.DataFrame(new, columns = ['X', 'Z'])\n",
    "df['Z']=df['Z']*-1\n",
    "df"
   ]
  },
  {
   "cell_type": "markdown",
   "id": "6bb7f123",
   "metadata": {},
   "source": [
    "Checking the data by plotting the surface"
   ]
  },
  {
   "cell_type": "code",
   "execution_count": 19,
   "id": "87226877",
   "metadata": {},
   "outputs": [
    {
     "data": {
      "text/plain": [
       "[<matplotlib.lines.Line2D at 0x1b4a55cf700>]"
      ]
     },
     "execution_count": 19,
     "metadata": {},
     "output_type": "execute_result"
    },
    {
     "data": {
      "image/png": "[encoded data removed]",
      "text/plain": [
       "<Figure size 432x288 with 1 Axes>"
      ]
     },
     "metadata": {
      "needs_background": "light"
     },
     "output_type": "display_data"
    }
   ],
   "source": [
    "#to check the 2D data whether it has some errors\n",
    "plt.figure(figsize=(40,20))\n",
    "a=plt.imread(\"cross section grades.png\")\n",
    "\n",
    "plt.imshow(a, extent=[s[0][0],s[0][1],-s[1][0],-s[1][1]])\n",
    "plt.plot(df.iloc[:,0], df.iloc[:,1], \"ro\")\n",
    "plt.ylim(-s[1][0],-s[1][1])\n",
    "plt.xlim(s[0][0],s[0][1])\n",
    "plt.title(\"Image of Digitized Model\")\n"
   ]
  },
  {
   "cell_type": "markdown",
   "id": "bc4f5157",
   "metadata": {},
   "source": [
    "### Additional Dimentions"
   ]
  },
  {
   "cell_type": "code",
   "execution_count": 26,
   "id": "3072ba3b",
   "metadata": {},
   "outputs": [
    {
     "data": {
      "text/html": [
       "<div>\n",
       "<style scoped>\n",
       "    .dataframe tbody tr th:only-of-type {\n",
       "        vertical-align: middle;\n",
       "    }\n",
       "\n",
       "    .dataframe tbody tr th {\n",
       "        vertical-align: top;\n",
       "    }\n",
       "\n",
       "    .dataframe thead th {\n",
       "        text-align: right;\n",
       "    }\n",
       "</style>\n",
       "<table border=\"1\" class=\"dataframe\">\n",
       "  <thead>\n",
       "    <tr style=\"text-align: right;\">\n",
       "      <th></th>\n",
       "      <th>X</th>\n",
       "      <th>Y</th>\n",
       "      <th>Z</th>\n",
       "      <th>formation</th>\n",
       "    </tr>\n",
       "  </thead>\n",
       "  <tbody>\n",
       "    <tr>\n",
       "      <th>0</th>\n",
       "      <td>793</td>\n",
       "      <td>0</td>\n",
       "      <td>-1404</td>\n",
       "      <td>baserock</td>\n",
       "    </tr>\n",
       "    <tr>\n",
       "      <th>1</th>\n",
       "      <td>820</td>\n",
       "      <td>0</td>\n",
       "      <td>-1337</td>\n",
       "      <td>baserock</td>\n",
       "    </tr>\n",
       "    <tr>\n",
       "      <th>2</th>\n",
       "      <td>885</td>\n",
       "      <td>0</td>\n",
       "      <td>-1272</td>\n",
       "      <td>baserock</td>\n",
       "    </tr>\n",
       "    <tr>\n",
       "      <th>3</th>\n",
       "      <td>991</td>\n",
       "      <td>0</td>\n",
       "      <td>-1250</td>\n",
       "      <td>baserock</td>\n",
       "    </tr>\n",
       "    <tr>\n",
       "      <th>4</th>\n",
       "      <td>1084</td>\n",
       "      <td>0</td>\n",
       "      <td>-1279</td>\n",
       "      <td>baserock</td>\n",
       "    </tr>\n",
       "    <tr>\n",
       "      <th>5</th>\n",
       "      <td>1113</td>\n",
       "      <td>0</td>\n",
       "      <td>-1337</td>\n",
       "      <td>baserock</td>\n",
       "    </tr>\n",
       "  </tbody>\n",
       "</table>\n",
       "</div>"
      ],
      "text/plain": [
       "      X  Y     Z formation\n",
       "0   793  0 -1404  baserock\n",
       "1   820  0 -1337  baserock\n",
       "2   885  0 -1272  baserock\n",
       "3   991  0 -1250  baserock\n",
       "4  1084  0 -1279  baserock\n",
       "5  1113  0 -1337  baserock"
      ]
     },
     "execution_count": 26,
     "metadata": {},
     "output_type": "execute_result"
    }
   ],
   "source": [
    "#add 3rd dimention\n",
    "df.loc[:, 'Y'] = '0'\n",
    "\n",
    "#add the surface name for the point data\n",
    "df.loc[:, 'formation'] = 'lowererosion'\n",
    "\n",
    "df.loc[:, 'section'] = 'grades'\n",
    "\n",
    "#df.loc[4:9,'formation']='rock72'\n",
    "df=df[['X', 'Y', 'Z','formation','section']]\n",
    "df"
   ]
  },
  {
   "cell_type": "code",
   "execution_count": 27,
   "id": "9a7aec69",
   "metadata": {},
   "outputs": [],
   "source": [
    "#save the data at the end\n",
    "df.to_csv(r'data/pointdata/point_data_baserock.csv', index = False)"
   ]
  },
  {
   "cell_type": "code",
   "execution_count": null,
   "id": "305374ec",
   "metadata": {},
   "outputs": [],
   "source": []
  }
 ],
 "metadata": {
  "kernelspec": {
   "display_name": "Python 3",
   "language": "python",
   "name": "python3"
  },
  "language_info": {
   "codemirror_mode": {
    "name": "ipython",
    "version": 3
   },
   "file_extension": ".py",
   "mimetype": "text/x-python",
   "name": "python",
   "nbconvert_exporter": "python",
   "pygments_lexer": "ipython3",
   "version": "3.8.8"
  }
 },
 "nbformat": 4,
 "nbformat_minor": 5
}
