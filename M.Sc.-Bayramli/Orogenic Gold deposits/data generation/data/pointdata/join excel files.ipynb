{
 "cells": [
  {
   "cell_type": "code",
   "execution_count": 2,
   "id": "b34c4318",
   "metadata": {
    "scrolled": true
   },
   "outputs": [],
   "source": [
    "import glob\n",
    "import numpy as np\n",
    "import pandas as pd\n",
    "import matplotlib.pyplot as plt"
   ]
  },
  {
   "cell_type": "code",
   "execution_count": 4,
   "id": "06965113",
   "metadata": {},
   "outputs": [],
   "source": [
    "# if you want to join the special couple of excel files\n",
    "df = pd.concat(\n",
    "    map(pd.read_csv, ['point_data_topo_c.csv', 'point_data_lowercenomonian_c.csv','point_data_toarcian_c.csv', 'point_data_upperliassic_c.csv',\n",
    "                     'point_data_middleliassic_c.csv','point_data_lowerliassic_c.csv', 'point_data_permiantriassic_c.csv',\n",
    "                     'point_data_cambroordovician_c.csv', 'point_data_unconformity2_c.csv']), ignore_index=True)\n",
    "df=pd.DataFrame(df)\n",
    "df.to_csv(r'point_data_section_c.csv', index = False)"
   ]
  },
  {
   "cell_type": "code",
   "execution_count": 5,
   "id": "6563d6f7",
   "metadata": {},
   "outputs": [],
   "source": [
    "# if you want to join all files in the same folder\n",
    "path =r'C:\\Users\\pasha\\Documents\\thesis\\MVT deposits\\data generation\\data\\pointdata'\n",
    "\n",
    "filenames = glob.glob(path + \"/*.csv\")\n",
    "\n",
    "dfs = []\n",
    "for filename in filenames:\n",
    "    dfs.append(pd.read_csv(filename))\n",
    "\n",
    "# Concatenate all data into one DataFrame\n",
    "df = pd.concat(dfs, ignore_index=True)"
   ]
  },
  {
   "cell_type": "code",
   "execution_count": 6,
   "id": "c35df16f",
   "metadata": {},
   "outputs": [],
   "source": [
    "df.to_csv(r'joined_a.csv', index = False)"
   ]
  },
  {
   "cell_type": "code",
   "execution_count": null,
   "id": "0595364f",
   "metadata": {},
   "outputs": [],
   "source": []
  }
 ],
 "metadata": {
  "kernelspec": {
   "display_name": "Python [conda env:.conda-gempy] *",
   "language": "python",
   "name": "conda-env-.conda-gempy-py"
  },
  "language_info": {
   "codemirror_mode": {
    "name": "ipython",
    "version": 3
   },
   "file_extension": ".py",
   "mimetype": "text/x-python",
   "name": "python",
   "nbconvert_exporter": "python",
   "pygments_lexer": "ipython3",
   "version": "3.8.10"
  }
 },
 "nbformat": 4,
 "nbformat_minor": 5
}
