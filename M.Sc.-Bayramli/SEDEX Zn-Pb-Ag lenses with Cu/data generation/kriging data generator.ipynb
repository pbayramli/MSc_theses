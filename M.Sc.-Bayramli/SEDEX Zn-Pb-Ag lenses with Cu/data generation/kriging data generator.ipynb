{
 "cells": [
  {
   "cell_type": "code",
   "execution_count": 1,
   "id": "49ff81d1",
   "metadata": {},
   "outputs": [],
   "source": [
    "import numpy as np\n",
    "import matplotlib.pyplot as plt\n",
    "import skimage as skimage\n",
    "import math\n",
    "%matplotlib inline\n",
    "from skimage import color\n",
    "import scipy.ndimage\n",
    "import scipy.stats\n",
    "import scipy.spatial.distance as dist\n",
    "import scipy.optimize\n",
    "from scipy.optimize import curve_fit\n",
    "import random\n",
    "import pickle\n",
    "from tqdm import tqdm\n",
    "import pandas as pd"
   ]
  },
  {
   "cell_type": "markdown",
   "id": "4137930a",
   "metadata": {},
   "source": [
    "### Data Generation\n",
    "Determination of data points along the desired already driven surface on the image"
   ]
  },
  {
   "cell_type": "code",
   "execution_count": 40,
   "id": "14868907",
   "metadata": {
    "scrolled": true
   },
   "outputs": [
    {
     "name": "stdout",
     "output_type": "stream",
     "text": [
      "Click Origin\n",
      "Click Top Right\n",
      "Draw the model, Right click to end\n"
     ]
    },
    {
     "name": "stderr",
     "output_type": "stream",
     "text": [
      "Unhandled exception in listener callback\n",
      "Traceback (most recent call last):\n",
      "  File \"C:\\Users\\pasha\\.conda\\envs\\gempy\\lib\\site-packages\\pynput\\_util\\win32.py\", line 380, in _handler\n",
      "    converted = self._convert(code, msg, lpdata)\n",
      "  File \"C:\\Users\\pasha\\.conda\\envs\\gempy\\lib\\site-packages\\pynput\\_util\\win32.py\", line 395, in _convert\n",
      "    raise NotImplementedError()\n",
      "NotImplementedError\n",
      "\n",
      "During handling of the above exception, another exception occurred:\n",
      "\n",
      "Traceback (most recent call last):\n",
      "  File \"C:\\Users\\pasha\\.conda\\envs\\gempy\\lib\\site-packages\\pynput\\_util\\__init__.py\", line 211, in inner\n",
      "    return f(self, *args, **kwargs)\n",
      "  File \"C:\\Users\\pasha\\.conda\\envs\\gempy\\lib\\site-packages\\pynput\\_util\\win32.py\", line 384, in _handler\n",
      "    self._handle(code, msg, lpdata)\n",
      "  File \"C:\\Users\\pasha\\.conda\\envs\\gempy\\lib\\site-packages\\pynput\\mouse\\_win32.py\", line 212, in _handle\n",
      "    self.on_click(data.pt.x, data.pt.y, button, pressed)\n",
      "  File \"C:\\Users\\pasha\\.conda\\envs\\gempy\\lib\\site-packages\\pynput\\_util\\__init__.py\", line 127, in inner\n",
      "    if f(*args) is False:\n",
      "  File \"<ipython-input-40-870fb57dcf66>\", line 24, in on_click\n",
      "    raise MyException(button)\n",
      "MyException: Button.right\n"
     ]
    },
    {
     "name": "stdout",
     "output_type": "stream",
     "text": [
      "Origin:     [867, 983]\n",
      "Top Right:  [885, 965]\n",
      "X: [907.0, 904.0, 924.0, 930.0, 939.0, 921.0, 966.0, 968.0, 963.0, 981.0, 982.0, 980.0, 949.0]\n",
      "Y: [936.0, 922.0, 878.0, 839.0, 771.0, 821.0, 821.0, 783.0, 783.0, 754.0, 774.0, 805.0, 834.0]\n"
     ]
    }
   ],
   "source": [
    "from pynput import mouse\n",
    "\n",
    "class MyException(Exception):pass\n",
    "\n",
    "X = []\n",
    "Y = []\n",
    "NumberOfMouseClicks = 0\n",
    "print('Click Origin')\n",
    "\n",
    "def on_click(x, y, button, pressed):\n",
    "    button = str(button)\n",
    "    global NumberOfMouseClicks\n",
    "\n",
    "    NumberOfMouseClicks = NumberOfMouseClicks + 1\n",
    "    if NumberOfMouseClicks==1:\n",
    "        print('Click Top Right')  \n",
    "    if NumberOfMouseClicks==3:\n",
    "        print('Draw the model, Right click to end')\n",
    "        \n",
    "    X.append(x)\n",
    "    Y.append(y)\n",
    "\n",
    "    if button!='Button.left':\n",
    "        raise MyException(button)\n",
    "\n",
    "def main(X,Y):\n",
    "    with mouse.Listener(on_click=on_click) as listener:\n",
    "        try:\n",
    "            listener.join()\n",
    "        except MyException as e:\n",
    "            pass\n",
    "\n",
    "    # drop duplicates\n",
    "    X = X[::2]\n",
    "    Y = Y[::2]\n",
    "\n",
    "\n",
    "     # define scales from data\n",
    "    origin = [X[0],Y[0]]\n",
    "    topRight = [X[1],Y[1]]\n",
    "    XminScale = origin[0]\n",
    "    XmaxScale = topRight[0]\n",
    "    YminScale = origin[1]\n",
    "    YmaxScale = topRight[1]\n",
    "    \n",
    "    # input boundaries\n",
    "    Xmin = float(origin[0])\n",
    "    Xmax = float(topRight[0])\n",
    "    Ymin = float(origin[1])\n",
    "    Ymax = float(topRight[1])\n",
    "    \n",
    "    #Xmin = float(input('Input X-min: '))\n",
    "    #Xmax = float(input('Input X-max: '))\n",
    "    #Ymin = float(input('Input Y-min: '))\n",
    "    #Ymax = float(input('Input Y-max: '))\n",
    "\n",
    "    # drop extras\n",
    "    X = X[2:15]\n",
    "    Y = Y[2:15]\n",
    "\n",
    "\n",
    "    # scale\n",
    "    ## (old_value - old_min) / (old_max - old_min) * (new_max - new_min) + new_min\n",
    "    Xplot = [(i - XminScale) / (XmaxScale - XminScale) * (Xmax - Xmin) + Xmin for i in X]\n",
    "    Yplot = [(i - YminScale) / (YmaxScale - YminScale) * (Ymax - Ymin) + Ymin for i in Y]\n",
    "\n",
    "    # print outputs\n",
    "    print('Origin:     {}'.format([round(i, 2) for i in origin]))\n",
    "    print('Top Right:  {}'.format([round(i, 2) for i in topRight]))\n",
    "    print('X: {}'.format([round(i, 2) for i in Xplot]))\n",
    "    print('Y: {}'.format([round(i, 2) for i in Yplot]))\n",
    "    \n",
    "if __name__ == '__main__':\n",
    "    main(X,Y)"
   ]
  },
  {
   "cell_type": "markdown",
   "id": "175b3cdd",
   "metadata": {},
   "source": [
    "Saving the dummy data"
   ]
  },
  {
   "cell_type": "code",
   "execution_count": 41,
   "id": "354d200e",
   "metadata": {},
   "outputs": [],
   "source": [
    "data=(X[4:-1],Y[4:-1])\n",
    "scale_lims=(X[1:3],Y[1:3])\n",
    "with open(\"data/krigingdata/Copper_Hilton.txt\", \"wb\") as fp:   #Pickling\n",
    "    pickle.dump(data, fp)\n",
    "#with open(\"data/pointdata/point_data_scaling.txt\", \"wb\") as fp:\n",
    "    #pickle.dump(scale_lims,fp)"
   ]
  },
  {
   "cell_type": "markdown",
   "id": "ade7ae05",
   "metadata": {},
   "source": [
    "Loading the data and dropping the duplicates"
   ]
  },
  {
   "cell_type": "code",
   "execution_count": 42,
   "id": "9702f21a",
   "metadata": {},
   "outputs": [],
   "source": [
    "with open(\"data/krigingdata/Copper_Hilton.txt\", \"rb\") as fp:   # Unpickling\n",
    "    d = pickle.load(fp)\n",
    "with open(\"data\\pointdata\\point_data_scaling_1000.txt\", \"rb\") as fp:   # Unpickling\n",
    "    s = pickle.load(fp)\n",
    "X=d[0]\n",
    "Y=d[1]\n",
    "X = X[::2]\n",
    "Y = Y[::2]\n",
    "X = X[0:-1]\n",
    "Y = Y[0:-1]"
   ]
  },
  {
   "cell_type": "markdown",
   "id": "899ff9c0",
   "metadata": {},
   "source": [
    "Getting the data in order - seperation of columns"
   ]
  },
  {
   "cell_type": "code",
   "execution_count": 43,
   "id": "8641d8bb",
   "metadata": {},
   "outputs": [],
   "source": [
    "n=len(X)\n",
    "new=[]\n",
    "for i in np.arange(0,n):\n",
    "    data=(X[i],Y[i])\n",
    "    new.append(data)"
   ]
  },
  {
   "cell_type": "code",
   "execution_count": 44,
   "id": "0eac04ee",
   "metadata": {},
   "outputs": [
    {
     "data": {
      "text/html": [
       "<div>\n",
       "<style scoped>\n",
       "    .dataframe tbody tr th:only-of-type {\n",
       "        vertical-align: middle;\n",
       "    }\n",
       "\n",
       "    .dataframe tbody tr th {\n",
       "        vertical-align: top;\n",
       "    }\n",
       "\n",
       "    .dataframe thead th {\n",
       "        text-align: right;\n",
       "    }\n",
       "</style>\n",
       "<table border=\"1\" class=\"dataframe\">\n",
       "  <thead>\n",
       "    <tr style=\"text-align: right;\">\n",
       "      <th></th>\n",
       "      <th>X</th>\n",
       "      <th>Z</th>\n",
       "    </tr>\n",
       "  </thead>\n",
       "  <tbody>\n",
       "    <tr>\n",
       "      <th>0</th>\n",
       "      <td>907</td>\n",
       "      <td>-936</td>\n",
       "    </tr>\n",
       "    <tr>\n",
       "      <th>1</th>\n",
       "      <td>904</td>\n",
       "      <td>-922</td>\n",
       "    </tr>\n",
       "    <tr>\n",
       "      <th>2</th>\n",
       "      <td>924</td>\n",
       "      <td>-878</td>\n",
       "    </tr>\n",
       "    <tr>\n",
       "      <th>3</th>\n",
       "      <td>930</td>\n",
       "      <td>-839</td>\n",
       "    </tr>\n",
       "    <tr>\n",
       "      <th>4</th>\n",
       "      <td>939</td>\n",
       "      <td>-771</td>\n",
       "    </tr>\n",
       "    <tr>\n",
       "      <th>...</th>\n",
       "      <td>...</td>\n",
       "      <td>...</td>\n",
       "    </tr>\n",
       "    <tr>\n",
       "      <th>91</th>\n",
       "      <td>964</td>\n",
       "      <td>-824</td>\n",
       "    </tr>\n",
       "    <tr>\n",
       "      <th>92</th>\n",
       "      <td>994</td>\n",
       "      <td>-841</td>\n",
       "    </tr>\n",
       "    <tr>\n",
       "      <th>93</th>\n",
       "      <td>980</td>\n",
       "      <td>-890</td>\n",
       "    </tr>\n",
       "    <tr>\n",
       "      <th>94</th>\n",
       "      <td>1009</td>\n",
       "      <td>-816</td>\n",
       "    </tr>\n",
       "    <tr>\n",
       "      <th>95</th>\n",
       "      <td>984</td>\n",
       "      <td>-900</td>\n",
       "    </tr>\n",
       "  </tbody>\n",
       "</table>\n",
       "<p>96 rows × 2 columns</p>\n",
       "</div>"
      ],
      "text/plain": [
       "       X    Z\n",
       "0    907 -936\n",
       "1    904 -922\n",
       "2    924 -878\n",
       "3    930 -839\n",
       "4    939 -771\n",
       "..   ...  ...\n",
       "91   964 -824\n",
       "92   994 -841\n",
       "93   980 -890\n",
       "94  1009 -816\n",
       "95   984 -900\n",
       "\n",
       "[96 rows x 2 columns]"
      ]
     },
     "execution_count": 44,
     "metadata": {},
     "output_type": "execute_result"
    }
   ],
   "source": [
    "#\n",
    "df = pd.DataFrame(new, columns = ['X', 'Z'])\n",
    "df['Z']=df['Z']*-1\n",
    "\n",
    "\n",
    "#df=df.drop([109,110,111]) in case dropping some mistaken rows\n",
    "df"
   ]
  },
  {
   "cell_type": "markdown",
   "id": "6bb7f123",
   "metadata": {},
   "source": [
    "Checking the data by plotting the surface"
   ]
  },
  {
   "cell_type": "code",
   "execution_count": 45,
   "id": "87226877",
   "metadata": {},
   "outputs": [
    {
     "data": {
      "text/plain": [
       "[<matplotlib.lines.Line2D at 0x20f41e3c0a0>]"
      ]
     },
     "execution_count": 45,
     "metadata": {},
     "output_type": "execute_result"
    },
    {
     "data": {
      "image/png": "[encoded data removed]",
      "text/plain": [
       "<Figure size 432x288 with 1 Axes>"
      ]
     },
     "metadata": {
      "needs_background": "light"
     },
     "output_type": "display_data"
    }
   ],
   "source": [
    "#to check the 2D data whether it has some errors\n",
    "plt.title(\"Image of Digitized Model\")\n",
    "plt.plot(df.iloc[:,0], df.iloc[:,1],'ro')"
   ]
  },
  {
   "cell_type": "markdown",
   "id": "bc4f5157",
   "metadata": {},
   "source": [
    "### Additional Dimentions"
   ]
  },
  {
   "cell_type": "code",
   "execution_count": 46,
   "id": "1eca3fde",
   "metadata": {},
   "outputs": [],
   "source": [
    "n=len(df['Z'])\n",
    "a=np.random.uniform(2.1,2.3,n)"
   ]
  },
  {
   "cell_type": "code",
   "execution_count": 47,
   "id": "3072ba3b",
   "metadata": {},
   "outputs": [
    {
     "data": {
      "text/html": [
       "<div>\n",
       "<style scoped>\n",
       "    .dataframe tbody tr th:only-of-type {\n",
       "        vertical-align: middle;\n",
       "    }\n",
       "\n",
       "    .dataframe tbody tr th {\n",
       "        vertical-align: top;\n",
       "    }\n",
       "\n",
       "    .dataframe thead th {\n",
       "        text-align: right;\n",
       "    }\n",
       "</style>\n",
       "<table border=\"1\" class=\"dataframe\">\n",
       "  <thead>\n",
       "    <tr style=\"text-align: right;\">\n",
       "      <th></th>\n",
       "      <th>X</th>\n",
       "      <th>Y</th>\n",
       "      <th>Z</th>\n",
       "      <th>grade_value</th>\n",
       "      <th>grade</th>\n",
       "      <th>section</th>\n",
       "    </tr>\n",
       "  </thead>\n",
       "  <tbody>\n",
       "    <tr>\n",
       "      <th>0</th>\n",
       "      <td>907</td>\n",
       "      <td>0</td>\n",
       "      <td>-936</td>\n",
       "      <td>2.239862</td>\n",
       "      <td>Copper</td>\n",
       "      <td>Hilton</td>\n",
       "    </tr>\n",
       "    <tr>\n",
       "      <th>1</th>\n",
       "      <td>904</td>\n",
       "      <td>0</td>\n",
       "      <td>-922</td>\n",
       "      <td>2.180885</td>\n",
       "      <td>Copper</td>\n",
       "      <td>Hilton</td>\n",
       "    </tr>\n",
       "    <tr>\n",
       "      <th>2</th>\n",
       "      <td>924</td>\n",
       "      <td>0</td>\n",
       "      <td>-878</td>\n",
       "      <td>2.122578</td>\n",
       "      <td>Copper</td>\n",
       "      <td>Hilton</td>\n",
       "    </tr>\n",
       "    <tr>\n",
       "      <th>3</th>\n",
       "      <td>930</td>\n",
       "      <td>0</td>\n",
       "      <td>-839</td>\n",
       "      <td>2.167918</td>\n",
       "      <td>Copper</td>\n",
       "      <td>Hilton</td>\n",
       "    </tr>\n",
       "    <tr>\n",
       "      <th>4</th>\n",
       "      <td>939</td>\n",
       "      <td>0</td>\n",
       "      <td>-771</td>\n",
       "      <td>2.299170</td>\n",
       "      <td>Copper</td>\n",
       "      <td>Hilton</td>\n",
       "    </tr>\n",
       "    <tr>\n",
       "      <th>...</th>\n",
       "      <td>...</td>\n",
       "      <td>...</td>\n",
       "      <td>...</td>\n",
       "      <td>...</td>\n",
       "      <td>...</td>\n",
       "      <td>...</td>\n",
       "    </tr>\n",
       "    <tr>\n",
       "      <th>91</th>\n",
       "      <td>964</td>\n",
       "      <td>0</td>\n",
       "      <td>-824</td>\n",
       "      <td>2.136117</td>\n",
       "      <td>Copper</td>\n",
       "      <td>Hilton</td>\n",
       "    </tr>\n",
       "    <tr>\n",
       "      <th>92</th>\n",
       "      <td>994</td>\n",
       "      <td>0</td>\n",
       "      <td>-841</td>\n",
       "      <td>2.205812</td>\n",
       "      <td>Copper</td>\n",
       "      <td>Hilton</td>\n",
       "    </tr>\n",
       "    <tr>\n",
       "      <th>93</th>\n",
       "      <td>980</td>\n",
       "      <td>0</td>\n",
       "      <td>-890</td>\n",
       "      <td>2.128690</td>\n",
       "      <td>Copper</td>\n",
       "      <td>Hilton</td>\n",
       "    </tr>\n",
       "    <tr>\n",
       "      <th>94</th>\n",
       "      <td>1009</td>\n",
       "      <td>0</td>\n",
       "      <td>-816</td>\n",
       "      <td>2.277126</td>\n",
       "      <td>Copper</td>\n",
       "      <td>Hilton</td>\n",
       "    </tr>\n",
       "    <tr>\n",
       "      <th>95</th>\n",
       "      <td>984</td>\n",
       "      <td>0</td>\n",
       "      <td>-900</td>\n",
       "      <td>2.190371</td>\n",
       "      <td>Copper</td>\n",
       "      <td>Hilton</td>\n",
       "    </tr>\n",
       "  </tbody>\n",
       "</table>\n",
       "<p>96 rows × 6 columns</p>\n",
       "</div>"
      ],
      "text/plain": [
       "       X  Y    Z  grade_value   grade section\n",
       "0    907  0 -936     2.239862  Copper  Hilton\n",
       "1    904  0 -922     2.180885  Copper  Hilton\n",
       "2    924  0 -878     2.122578  Copper  Hilton\n",
       "3    930  0 -839     2.167918  Copper  Hilton\n",
       "4    939  0 -771     2.299170  Copper  Hilton\n",
       "..   ... ..  ...          ...     ...     ...\n",
       "91   964  0 -824     2.136117  Copper  Hilton\n",
       "92   994  0 -841     2.205812  Copper  Hilton\n",
       "93   980  0 -890     2.128690  Copper  Hilton\n",
       "94  1009  0 -816     2.277126  Copper  Hilton\n",
       "95   984  0 -900     2.190371  Copper  Hilton\n",
       "\n",
       "[96 rows x 6 columns]"
      ]
     },
     "execution_count": 47,
     "metadata": {},
     "output_type": "execute_result"
    }
   ],
   "source": [
    "#add 3rd dimention\n",
    "df.loc[:, 'Y'] = '0'\n",
    "#add the surface name for the point data\n",
    "df.loc[:, 'grade_value'] = a\n",
    "df.loc[:, 'section'] = 'Hilton'\n",
    "df.loc[:, 'grade'] = 'Copper'\n",
    "#df.loc[16:28, 'grade'] = 'grade12inside'\n",
    "#df.loc[4:9,'formation']='rock72'\n",
    "df=df[['X', 'Y', 'Z','grade_value','grade', 'section']]\n",
    "df"
   ]
  },
  {
   "cell_type": "code",
   "execution_count": 48,
   "id": "9a7aec69",
   "metadata": {},
   "outputs": [],
   "source": [
    "#save the data at the end\n",
    "df.to_csv(r'data/krigingdata/Copper_Hilton.csv', index = False)"
   ]
  },
  {
   "cell_type": "markdown",
   "id": "f3d366c1",
   "metadata": {},
   "source": [
    "dm =pd.read_csv('data\\kriging data\\point_data_grade1boundary.csv')\n",
    "#df = df.iloc[:, 0].str.split(',', expand=True)\n",
    "\n",
    "#df.columns = ['X', 'Y','Z','formation']\n",
    "ejder=np.zeros(len(dm.iloc[:,0]))\n",
    "dm.loc[:, 'grade_value'] = ejder\n",
    "dm.loc[:, 'grade'] = 'grade1boundary'\n",
    "dm=dm[['X', 'Y', 'Z','grade_value','grade']]\n",
    "dm"
   ]
  },
  {
   "cell_type": "code",
   "execution_count": null,
   "id": "b6c5e5f9",
   "metadata": {},
   "outputs": [],
   "source": []
  }
 ],
 "metadata": {
  "kernelspec": {
   "display_name": "Python [conda env:.conda-gempy] *",
   "language": "python",
   "name": "conda-env-.conda-gempy-py"
  },
  "language_info": {
   "codemirror_mode": {
    "name": "ipython",
    "version": 3
   },
   "file_extension": ".py",
   "mimetype": "text/x-python",
   "name": "python",
   "nbconvert_exporter": "python",
   "pygments_lexer": "ipython3",
   "version": "3.8.10"
  }
 },
 "nbformat": 4,
 "nbformat_minor": 5
}
