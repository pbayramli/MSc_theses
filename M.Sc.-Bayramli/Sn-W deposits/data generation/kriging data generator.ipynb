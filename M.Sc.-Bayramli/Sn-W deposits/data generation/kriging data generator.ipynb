{
 "cells": [
  {
   "cell_type": "code",
   "execution_count": 1,
   "id": "49ff81d1",
   "metadata": {},
   "outputs": [],
   "source": [
    "import numpy as np\n",
    "import matplotlib.pyplot as plt\n",
    "import skimage as skimage\n",
    "import math\n",
    "%matplotlib inline\n",
    "from skimage import color\n",
    "import scipy.ndimage\n",
    "import scipy.stats\n",
    "import scipy.spatial.distance as dist\n",
    "import scipy.optimize\n",
    "from scipy.optimize import curve_fit\n",
    "import random\n",
    "import pickle\n",
    "from tqdm import tqdm\n",
    "import pandas as pd"
   ]
  },
  {
   "cell_type": "markdown",
   "id": "4137930a",
   "metadata": {},
   "source": [
    "### Data Generation\n",
    "Determination of data points along the desired already driven surface on the image"
   ]
  },
  {
   "cell_type": "code",
   "execution_count": 97,
   "id": "14868907",
   "metadata": {
    "scrolled": true
   },
   "outputs": [
    {
     "name": "stdout",
     "output_type": "stream",
     "text": [
      "Click Origin\n",
      "Click Top Right\n",
      "Draw the model, Right click to end\n"
     ]
    },
    {
     "name": "stderr",
     "output_type": "stream",
     "text": [
      "Unhandled exception in listener callback\n",
      "Traceback (most recent call last):\n",
      "  File \"C:\\Users\\pasha\\.conda\\envs\\gempy\\lib\\site-packages\\pynput\\_util\\win32.py\", line 380, in _handler\n",
      "    converted = self._convert(code, msg, lpdata)\n",
      "  File \"C:\\Users\\pasha\\.conda\\envs\\gempy\\lib\\site-packages\\pynput\\_util\\win32.py\", line 395, in _convert\n",
      "    raise NotImplementedError()\n",
      "NotImplementedError\n",
      "\n",
      "During handling of the above exception, another exception occurred:\n",
      "\n",
      "Traceback (most recent call last):\n",
      "  File \"C:\\Users\\pasha\\.conda\\envs\\gempy\\lib\\site-packages\\pynput\\_util\\__init__.py\", line 211, in inner\n",
      "    return f(self, *args, **kwargs)\n",
      "  File \"C:\\Users\\pasha\\.conda\\envs\\gempy\\lib\\site-packages\\pynput\\_util\\win32.py\", line 384, in _handler\n",
      "    self._handle(code, msg, lpdata)\n",
      "  File \"C:\\Users\\pasha\\.conda\\envs\\gempy\\lib\\site-packages\\pynput\\mouse\\_win32.py\", line 212, in _handle\n",
      "    self.on_click(data.pt.x, data.pt.y, button, pressed)\n",
      "  File \"C:\\Users\\pasha\\.conda\\envs\\gempy\\lib\\site-packages\\pynput\\_util\\__init__.py\", line 127, in inner\n",
      "    if f(*args) is False:\n",
      "  File \"<ipython-input-97-870fb57dcf66>\", line 24, in on_click\n",
      "    raise MyException(button)\n",
      "MyException: Button.right\n"
     ]
    },
    {
     "name": "stdout",
     "output_type": "stream",
     "text": [
      "Origin:     [128, 1218]\n",
      "Top Right:  [2185, 398]\n",
      "X: [1326.0, 1350.0, 1371.0, 1395.0, 1432.0, 1467.0, 1497.0, 1529.0, 1546.0, 1560.0, 1595.0, 1621.0, 1648.0]\n",
      "Y: [992.0, 982.0, 975.0, 963.0, 949.0, 935.0, 919.0, 905.0, 880.0, 870.0, 865.0, 856.0, 861.0]\n"
     ]
    }
   ],
   "source": [
    "from pynput import mouse\n",
    "\n",
    "class MyException(Exception):pass\n",
    "\n",
    "X = []\n",
    "Y = []\n",
    "NumberOfMouseClicks = 0\n",
    "print('Click Origin')\n",
    "\n",
    "def on_click(x, y, button, pressed):\n",
    "    button = str(button)\n",
    "    global NumberOfMouseClicks\n",
    "\n",
    "    NumberOfMouseClicks = NumberOfMouseClicks + 1\n",
    "    if NumberOfMouseClicks==1:\n",
    "        print('Click Top Right')  \n",
    "    if NumberOfMouseClicks==3:\n",
    "        print('Draw the model, Right click to end')\n",
    "        \n",
    "    X.append(x)\n",
    "    Y.append(y)\n",
    "\n",
    "    if button!='Button.left':\n",
    "        raise MyException(button)\n",
    "\n",
    "def main(X,Y):\n",
    "    with mouse.Listener(on_click=on_click) as listener:\n",
    "        try:\n",
    "            listener.join()\n",
    "        except MyException as e:\n",
    "            pass\n",
    "\n",
    "    # drop duplicates\n",
    "    X = X[::2]\n",
    "    Y = Y[::2]\n",
    "\n",
    "\n",
    "     # define scales from data\n",
    "    origin = [X[0],Y[0]]\n",
    "    topRight = [X[1],Y[1]]\n",
    "    XminScale = origin[0]\n",
    "    XmaxScale = topRight[0]\n",
    "    YminScale = origin[1]\n",
    "    YmaxScale = topRight[1]\n",
    "    \n",
    "    # input boundaries\n",
    "    Xmin = float(origin[0])\n",
    "    Xmax = float(topRight[0])\n",
    "    Ymin = float(origin[1])\n",
    "    Ymax = float(topRight[1])\n",
    "    \n",
    "    #Xmin = float(input('Input X-min: '))\n",
    "    #Xmax = float(input('Input X-max: '))\n",
    "    #Ymin = float(input('Input Y-min: '))\n",
    "    #Ymax = float(input('Input Y-max: '))\n",
    "\n",
    "    # drop extras\n",
    "    X = X[2:15]\n",
    "    Y = Y[2:15]\n",
    "\n",
    "\n",
    "    # scale\n",
    "    ## (old_value - old_min) / (old_max - old_min) * (new_max - new_min) + new_min\n",
    "    Xplot = [(i - XminScale) / (XmaxScale - XminScale) * (Xmax - Xmin) + Xmin for i in X]\n",
    "    Yplot = [(i - YminScale) / (YmaxScale - YminScale) * (Ymax - Ymin) + Ymin for i in Y]\n",
    "\n",
    "    # print outputs\n",
    "    print('Origin:     {}'.format([round(i, 2) for i in origin]))\n",
    "    print('Top Right:  {}'.format([round(i, 2) for i in topRight]))\n",
    "    print('X: {}'.format([round(i, 2) for i in Xplot]))\n",
    "    print('Y: {}'.format([round(i, 2) for i in Yplot]))\n",
    "    \n",
    "if __name__ == '__main__':\n",
    "    main(X,Y)"
   ]
  },
  {
   "cell_type": "markdown",
   "id": "175b3cdd",
   "metadata": {},
   "source": [
    "Saving the dummy data"
   ]
  },
  {
   "cell_type": "code",
   "execution_count": 98,
   "id": "354d200e",
   "metadata": {},
   "outputs": [],
   "source": [
    "data=(X[4:-1],Y[4:-1])\n",
    "scale_lims=(X[1:3],Y[1:3])\n",
    "with open(\"data/kriging data/kriging_data_Sn_10.txt\", \"wb\") as fp:   #Pickling\n",
    "    pickle.dump(data, fp)\n",
    "#with open(\"data/kriging data/point_data_scaling.txt\", \"wb\") as fp:\n",
    "    #pickle.dump(scale_lims,fp)"
   ]
  },
  {
   "cell_type": "markdown",
   "id": "ade7ae05",
   "metadata": {},
   "source": [
    "Loading the data and dropping the duplicates"
   ]
  },
  {
   "cell_type": "code",
   "execution_count": 99,
   "id": "9702f21a",
   "metadata": {},
   "outputs": [],
   "source": [
    "with open(\"data/kriging data/kriging_data_Sn_10.txt\", \"rb\") as fp:   # Unpickling\n",
    "    d = pickle.load(fp)\n",
    "with open(\"data\\pointdata\\point_data_scaling.txt\", \"rb\") as fp:   # Unpickling\n",
    "    s = pickle.load(fp)\n",
    "X=d[0]\n",
    "Y=d[1]\n",
    "X = X[::2]\n",
    "Y = Y[::2]\n",
    "X = X[0:-1]\n",
    "Y = Y[0:-1]"
   ]
  },
  {
   "cell_type": "markdown",
   "id": "899ff9c0",
   "metadata": {},
   "source": [
    "Getting the data in order - seperation of columns"
   ]
  },
  {
   "cell_type": "code",
   "execution_count": 100,
   "id": "8641d8bb",
   "metadata": {},
   "outputs": [],
   "source": [
    "n=len(X)\n",
    "new=[]\n",
    "for i in np.arange(0,n):\n",
    "    data=(X[i],Y[i])\n",
    "    new.append(data)"
   ]
  },
  {
   "cell_type": "code",
   "execution_count": 101,
   "id": "0eac04ee",
   "metadata": {},
   "outputs": [
    {
     "data": {
      "text/html": [
       "<div>\n",
       "<style scoped>\n",
       "    .dataframe tbody tr th:only-of-type {\n",
       "        vertical-align: middle;\n",
       "    }\n",
       "\n",
       "    .dataframe tbody tr th {\n",
       "        vertical-align: top;\n",
       "    }\n",
       "\n",
       "    .dataframe thead th {\n",
       "        text-align: right;\n",
       "    }\n",
       "</style>\n",
       "<table border=\"1\" class=\"dataframe\">\n",
       "  <thead>\n",
       "    <tr style=\"text-align: right;\">\n",
       "      <th></th>\n",
       "      <th>X</th>\n",
       "      <th>Z</th>\n",
       "    </tr>\n",
       "  </thead>\n",
       "  <tbody>\n",
       "    <tr>\n",
       "      <th>0</th>\n",
       "      <td>1326</td>\n",
       "      <td>-992</td>\n",
       "    </tr>\n",
       "    <tr>\n",
       "      <th>1</th>\n",
       "      <td>1350</td>\n",
       "      <td>-982</td>\n",
       "    </tr>\n",
       "    <tr>\n",
       "      <th>2</th>\n",
       "      <td>1371</td>\n",
       "      <td>-975</td>\n",
       "    </tr>\n",
       "    <tr>\n",
       "      <th>3</th>\n",
       "      <td>1395</td>\n",
       "      <td>-963</td>\n",
       "    </tr>\n",
       "    <tr>\n",
       "      <th>4</th>\n",
       "      <td>1432</td>\n",
       "      <td>-949</td>\n",
       "    </tr>\n",
       "    <tr>\n",
       "      <th>...</th>\n",
       "      <td>...</td>\n",
       "      <td>...</td>\n",
       "    </tr>\n",
       "    <tr>\n",
       "      <th>150</th>\n",
       "      <td>2125</td>\n",
       "      <td>-1050</td>\n",
       "    </tr>\n",
       "    <tr>\n",
       "      <th>151</th>\n",
       "      <td>2118</td>\n",
       "      <td>-1029</td>\n",
       "    </tr>\n",
       "    <tr>\n",
       "      <th>152</th>\n",
       "      <td>2137</td>\n",
       "      <td>-1050</td>\n",
       "    </tr>\n",
       "    <tr>\n",
       "      <th>153</th>\n",
       "      <td>2161</td>\n",
       "      <td>-1076</td>\n",
       "    </tr>\n",
       "    <tr>\n",
       "      <th>154</th>\n",
       "      <td>2137</td>\n",
       "      <td>-1052</td>\n",
       "    </tr>\n",
       "  </tbody>\n",
       "</table>\n",
       "<p>155 rows × 2 columns</p>\n",
       "</div>"
      ],
      "text/plain": [
       "        X     Z\n",
       "0    1326  -992\n",
       "1    1350  -982\n",
       "2    1371  -975\n",
       "3    1395  -963\n",
       "4    1432  -949\n",
       "..    ...   ...\n",
       "150  2125 -1050\n",
       "151  2118 -1029\n",
       "152  2137 -1050\n",
       "153  2161 -1076\n",
       "154  2137 -1052\n",
       "\n",
       "[155 rows x 2 columns]"
      ]
     },
     "execution_count": 101,
     "metadata": {},
     "output_type": "execute_result"
    }
   ],
   "source": [
    "#\n",
    "df = pd.DataFrame(new, columns = ['X', 'Z'])\n",
    "df['Z']=df['Z']*-1\n",
    "\n",
    "\n",
    "#df=df.drop([109,110,111]) in case dropping some mistaken rows\n",
    "df"
   ]
  },
  {
   "cell_type": "markdown",
   "id": "6bb7f123",
   "metadata": {},
   "source": [
    "Checking the data by plotting the surface"
   ]
  },
  {
   "cell_type": "code",
   "execution_count": 102,
   "id": "87226877",
   "metadata": {},
   "outputs": [
    {
     "data": {
      "text/plain": [
       "[<matplotlib.lines.Line2D at 0x163d6d052e0>]"
      ]
     },
     "execution_count": 102,
     "metadata": {},
     "output_type": "execute_result"
    },
    {
     "data": {
      "image/png": "[encoded data removed]",
      "text/plain": [
       "<Figure size 432x288 with 1 Axes>"
      ]
     },
     "metadata": {
      "needs_background": "light"
     },
     "output_type": "display_data"
    }
   ],
   "source": [
    "#to check the 2D data whether it has some errors\n",
    "plt.title(\"Image of Digitized Model\")\n",
    "plt.plot(df.iloc[:,0], df.iloc[:,1],'ro')"
   ]
  },
  {
   "cell_type": "markdown",
   "id": "bc4f5157",
   "metadata": {},
   "source": [
    "### Additional Dimentions"
   ]
  },
  {
   "cell_type": "code",
   "execution_count": 103,
   "id": "5d990637",
   "metadata": {},
   "outputs": [],
   "source": [
    "n=len(df['Z'])\n",
    "a=np.random.uniform(0.44,0.53,n)"
   ]
  },
  {
   "cell_type": "code",
   "execution_count": 104,
   "id": "3072ba3b",
   "metadata": {},
   "outputs": [
    {
     "data": {
      "text/html": [
       "<div>\n",
       "<style scoped>\n",
       "    .dataframe tbody tr th:only-of-type {\n",
       "        vertical-align: middle;\n",
       "    }\n",
       "\n",
       "    .dataframe tbody tr th {\n",
       "        vertical-align: top;\n",
       "    }\n",
       "\n",
       "    .dataframe thead th {\n",
       "        text-align: right;\n",
       "    }\n",
       "</style>\n",
       "<table border=\"1\" class=\"dataframe\">\n",
       "  <thead>\n",
       "    <tr style=\"text-align: right;\">\n",
       "      <th></th>\n",
       "      <th>X</th>\n",
       "      <th>Y</th>\n",
       "      <th>Z</th>\n",
       "      <th>grade_value</th>\n",
       "      <th>grade</th>\n",
       "    </tr>\n",
       "  </thead>\n",
       "  <tbody>\n",
       "    <tr>\n",
       "      <th>0</th>\n",
       "      <td>1326</td>\n",
       "      <td>0</td>\n",
       "      <td>-992</td>\n",
       "      <td>0.504821</td>\n",
       "      <td>Sn10</td>\n",
       "    </tr>\n",
       "    <tr>\n",
       "      <th>1</th>\n",
       "      <td>1350</td>\n",
       "      <td>0</td>\n",
       "      <td>-982</td>\n",
       "      <td>0.493175</td>\n",
       "      <td>Sn10</td>\n",
       "    </tr>\n",
       "    <tr>\n",
       "      <th>2</th>\n",
       "      <td>1371</td>\n",
       "      <td>0</td>\n",
       "      <td>-975</td>\n",
       "      <td>0.442661</td>\n",
       "      <td>Sn10</td>\n",
       "    </tr>\n",
       "    <tr>\n",
       "      <th>3</th>\n",
       "      <td>1395</td>\n",
       "      <td>0</td>\n",
       "      <td>-963</td>\n",
       "      <td>0.523366</td>\n",
       "      <td>Sn10</td>\n",
       "    </tr>\n",
       "    <tr>\n",
       "      <th>4</th>\n",
       "      <td>1432</td>\n",
       "      <td>0</td>\n",
       "      <td>-949</td>\n",
       "      <td>0.496169</td>\n",
       "      <td>Sn10</td>\n",
       "    </tr>\n",
       "    <tr>\n",
       "      <th>...</th>\n",
       "      <td>...</td>\n",
       "      <td>...</td>\n",
       "      <td>...</td>\n",
       "      <td>...</td>\n",
       "      <td>...</td>\n",
       "    </tr>\n",
       "    <tr>\n",
       "      <th>150</th>\n",
       "      <td>2125</td>\n",
       "      <td>0</td>\n",
       "      <td>-1050</td>\n",
       "      <td>0.446608</td>\n",
       "      <td>Sn10</td>\n",
       "    </tr>\n",
       "    <tr>\n",
       "      <th>151</th>\n",
       "      <td>2118</td>\n",
       "      <td>0</td>\n",
       "      <td>-1029</td>\n",
       "      <td>0.500634</td>\n",
       "      <td>Sn10</td>\n",
       "    </tr>\n",
       "    <tr>\n",
       "      <th>152</th>\n",
       "      <td>2137</td>\n",
       "      <td>0</td>\n",
       "      <td>-1050</td>\n",
       "      <td>0.468716</td>\n",
       "      <td>Sn10</td>\n",
       "    </tr>\n",
       "    <tr>\n",
       "      <th>153</th>\n",
       "      <td>2161</td>\n",
       "      <td>0</td>\n",
       "      <td>-1076</td>\n",
       "      <td>0.478889</td>\n",
       "      <td>Sn10</td>\n",
       "    </tr>\n",
       "    <tr>\n",
       "      <th>154</th>\n",
       "      <td>2137</td>\n",
       "      <td>0</td>\n",
       "      <td>-1052</td>\n",
       "      <td>0.489889</td>\n",
       "      <td>Sn10</td>\n",
       "    </tr>\n",
       "  </tbody>\n",
       "</table>\n",
       "<p>155 rows × 5 columns</p>\n",
       "</div>"
      ],
      "text/plain": [
       "        X  Y     Z  grade_value grade\n",
       "0    1326  0  -992     0.504821  Sn10\n",
       "1    1350  0  -982     0.493175  Sn10\n",
       "2    1371  0  -975     0.442661  Sn10\n",
       "3    1395  0  -963     0.523366  Sn10\n",
       "4    1432  0  -949     0.496169  Sn10\n",
       "..    ... ..   ...          ...   ...\n",
       "150  2125  0 -1050     0.446608  Sn10\n",
       "151  2118  0 -1029     0.500634  Sn10\n",
       "152  2137  0 -1050     0.468716  Sn10\n",
       "153  2161  0 -1076     0.478889  Sn10\n",
       "154  2137  0 -1052     0.489889  Sn10\n",
       "\n",
       "[155 rows x 5 columns]"
      ]
     },
     "execution_count": 104,
     "metadata": {},
     "output_type": "execute_result"
    }
   ],
   "source": [
    "#add 3rd dimention\n",
    "df.loc[:, 'Y'] = '0'\n",
    "#add the surface name for the point data\n",
    "df.loc[:, 'grade_value'] = a\n",
    "df.loc[:, 'grade'] = 'Sn10'\n",
    "#df.loc[16:28, 'grade'] = 'grade12inside'\n",
    "#df.loc[4:9,'formation']='rock72'\n",
    "df=df[['X', 'Y', 'Z','grade_value','grade']]\n",
    "df"
   ]
  },
  {
   "cell_type": "code",
   "execution_count": 105,
   "id": "9a7aec69",
   "metadata": {},
   "outputs": [],
   "source": [
    "#save the data at the end\n",
    "df.to_csv(r'data/kriging data/kriging_data_Sn_10.csv', index = False)"
   ]
  },
  {
   "cell_type": "markdown",
   "id": "f3d366c1",
   "metadata": {},
   "source": [
    "dm =pd.read_csv('data\\kriging data\\point_data_grade1boundary.csv')\n",
    "#df = df.iloc[:, 0].str.split(',', expand=True)\n",
    "\n",
    "#df.columns = ['X', 'Y','Z','formation']\n",
    "ejder=np.zeros(len(dm.iloc[:,0]))\n",
    "dm.loc[:, 'grade_value'] = ejder\n",
    "dm.loc[:, 'grade'] = 'grade1boundary'\n",
    "dm=dm[['X', 'Y', 'Z','grade_value','grade']]\n",
    "dm"
   ]
  },
  {
   "cell_type": "code",
   "execution_count": null,
   "id": "b6c5e5f9",
   "metadata": {},
   "outputs": [],
   "source": []
  }
 ],
 "metadata": {
  "kernelspec": {
   "display_name": "Python [conda env:.conda-gempy] *",
   "language": "python",
   "name": "conda-env-.conda-gempy-py"
  },
  "language_info": {
   "codemirror_mode": {
    "name": "ipython",
    "version": 3
   },
   "file_extension": ".py",
   "mimetype": "text/x-python",
   "name": "python",
   "nbconvert_exporter": "python",
   "pygments_lexer": "ipython3",
   "version": "3.8.10"
  }
 },
 "nbformat": 4,
 "nbformat_minor": 5
}
